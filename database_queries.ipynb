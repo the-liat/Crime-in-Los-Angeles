{
 "cells": [
  {
   "cell_type": "code",
   "execution_count": null,
   "id": "975359ba",
   "metadata": {},
   "outputs": [],
   "source": [
    "# dependencies\n",
    "from sqlalchemy import create_engine, inspect, MetaData, select, text, Table, func\n",
    "from sqlalchemy import Column, Integer, String, Float\n",
    "from sqlalchemy.orm import Session\n",
    "from sqlalchemy.ext.automap import automap_base\n",
    "\n",
    "# Create an engine that can talk to the database\n",
    "engine = create_engine(\"sqlite:///Resources/la_crime.db\", connect_args={'timeout': 30}, echo=False)\n",
    "conn = engine.connect()"
   ]
  },
  {
   "cell_type": "markdown",
   "id": "97423595",
   "metadata": {},
   "source": [
    "## Checking Database Data - using SQL"
   ]
  },
  {
   "cell_type": "code",
   "execution_count": null,
   "id": "285c923c",
   "metadata": {},
   "outputs": [],
   "source": [
    "# Query data from crime table\n",
    "crime_data = conn.execute(\"SELECT * FROM crime\")\n",
    "\n",
    "i = 0\n",
    "for record in crime_data:\n",
    "    print(record)\n",
    "    i += 1\n",
    "    if i == 10:\n",
    "        break"
   ]
  },
  {
   "cell_type": "code",
   "execution_count": null,
   "id": "3f5bec5e",
   "metadata": {},
   "outputs": [],
   "source": [
    "# Query data from crime type table\n",
    "crime_type_data = conn.execute(\"SELECT * FROM crime_type\")\n",
    "\n",
    "i = 0\n",
    "for record in crime_type_data:\n",
    "    print(record)\n",
    "    i += 1\n",
    "    if i == 10:\n",
    "        break"
   ]
  },
  {
   "cell_type": "code",
   "execution_count": null,
   "id": "aabedfe8",
   "metadata": {},
   "outputs": [],
   "source": [
    "# Query data from crime table\n",
    "area_data = conn.execute(\"SELECT * FROM area\")\n",
    "\n",
    "i = 0\n",
    "for record in area_data:\n",
    "    print(record)\n",
    "    i += 1\n",
    "    if i == 10:\n",
    "        break"
   ]
  },
  {
   "cell_type": "code",
   "execution_count": null,
   "id": "c8c1a942",
   "metadata": {},
   "outputs": [],
   "source": [
    "# Query data from crime table\n",
    "premise_data = conn.execute(\"SELECT * FROM premise\")\n",
    "\n",
    "i = 0\n",
    "for record in premise_data:\n",
    "    print(record)\n",
    "    i += 1\n",
    "    if i == 10:\n",
    "        break"
   ]
  },
  {
   "cell_type": "markdown",
   "id": "b7ab8a89",
   "metadata": {},
   "source": [
    "## Joining the Tables"
   ]
  },
  {
   "cell_type": "code",
   "execution_count": null,
   "id": "935df280",
   "metadata": {},
   "outputs": [],
   "source": [
    "# creating database session\n",
    "metadata = MetaData(bind=engine)\n",
    "Base = automap_base(metadata=metadata)\n",
    "# Use the Base class to reflect the database tables\n",
    "Base.prepare(engine=engine, reflect=True)\n",
    "Base.classes.keys()"
   ]
  },
  {
   "cell_type": "code",
   "execution_count": null,
   "id": "501bbda1",
   "metadata": {},
   "outputs": [],
   "source": [
    "# Collect the names of tables within the database\n",
    "inspector = inspect(engine)\n",
    "inspector.get_table_names()"
   ]
  },
  {
   "cell_type": "code",
   "execution_count": null,
   "id": "98dd3e37",
   "metadata": {},
   "outputs": [],
   "source": [
    "# Using the inspector to print the column names within the 'crime' table and its types\n",
    "columns = inspector.get_columns('crime')\n",
    "for column in columns:\n",
    "    print(column[\"name\"], column[\"type\"])"
   ]
  },
  {
   "cell_type": "code",
   "execution_count": null,
   "id": "c34c7396",
   "metadata": {},
   "outputs": [],
   "source": [
    "# Reflect the database tables\n",
    "metadata =  MetaData(bind=engine)\n",
    "metadata.reflect()\n",
    "crime_table = metadata.tables['crime']\n",
    "area_table = metadata.tables['area']\n",
    "crime_type_table = metadata.tables['crime_type']\n",
    "premise_table = metadata.tables['premise']\n",
    "crime_table"
   ]
  },
  {
   "cell_type": "code",
   "execution_count": null,
   "id": "aa9d39e1",
   "metadata": {},
   "outputs": [],
   "source": [
    "# Select the crime table\n",
    "crime_type_tb = engine.execute(select([crime_type_table]))\n",
    "\n",
    "# Get all the rows\n",
    "rows = crime_type_tb.fetchall()\n",
    "\n",
    "# Print the number of rows\n",
    "print(len(rows))\n",
    "\n",
    "# Print the first row\n",
    "print(rows[0])"
   ]
  },
  {
   "cell_type": "code",
   "execution_count": null,
   "id": "ff3ef08e",
   "metadata": {},
   "outputs": [],
   "source": [
    "# Select the crime type table\n",
    "crime_tb = engine.execute(select([crime_table]))\n",
    "\n",
    "# Get all the rows\n",
    "rows = crime_tb.fetchall()\n",
    "\n",
    "# Print the number of rows\n",
    "print(len(rows))\n",
    "\n",
    "# Print the first row\n",
    "print(rows[0])"
   ]
  },
  {
   "cell_type": "code",
   "execution_count": null,
   "id": "e5ab49e6",
   "metadata": {},
   "outputs": [],
   "source": [
    "# Select the area table\n",
    "area_tb = engine.execute(select([area_table]))\n",
    "\n",
    "# Get all the rows\n",
    "rows = area_tb.fetchall()\n",
    "\n",
    "# Print the number of rows\n",
    "print(len(rows))\n",
    "\n",
    "# Print the first row\n",
    "print(rows[0])"
   ]
  },
  {
   "cell_type": "code",
   "execution_count": null,
   "id": "19e8f25a",
   "metadata": {},
   "outputs": [],
   "source": [
    "# Select the premise table\n",
    "premise = engine.execute(select([premise_table]))\n",
    "\n",
    "# Get all the rows\n",
    "rows = premise.fetchall()\n",
    "\n",
    "# Print the number of rows\n",
    "print(len(rows))\n",
    "\n",
    "# Print the first row\n",
    "print(rows[0])"
   ]
  },
  {
   "cell_type": "code",
   "execution_count": null,
   "id": "24acec0d",
   "metadata": {},
   "outputs": [],
   "source": [
    "# Define the SQL query\n",
    "sql = text(\"\"\"SELECT * \n",
    "            FROM crime\n",
    "            LEFT JOIN area ON crime.area_code = area.area_code\n",
    "            LEFT JOIN premise ON crime.premise_code = premise.premise_code\n",
    "            LEFT JOIN crime_type ON crime.crime_code = crime_type.crime_code\"\"\")\n",
    "\n",
    "# Execute the SQL query\n",
    "la_crime = engine.execute(sql)"
   ]
  },
  {
   "cell_type": "code",
   "execution_count": null,
   "id": "9a2f65e5",
   "metadata": {},
   "outputs": [],
   "source": [
    "# Print the column names\n",
    "print(f\"Columns: {la_crime.keys()}\")"
   ]
  },
  {
   "cell_type": "code",
   "execution_count": null,
   "id": "874b3b0c",
   "metadata": {},
   "outputs": [],
   "source": [
    "# Get all the rows\n",
    "rows = la_crime.fetchall()\n",
    "\n",
    "# Print the number of rows\n",
    "print(len(rows))\n",
    "\n",
    "# Print the first row\n",
    "print(rows[0])"
   ]
  },
  {
   "cell_type": "code",
   "execution_count": null,
   "id": "d5e78a4b",
   "metadata": {},
   "outputs": [],
   "source": [
    "# print first 10 rows\n",
    "i = 0\n",
    "for row in rows:\n",
    "    print(row)\n",
    "    if i == 10:\n",
    "        break\n",
    "    i += 1"
   ]
  },
  {
   "cell_type": "markdown",
   "id": "20ff22a9",
   "metadata": {},
   "source": [
    "## Creating the final table for running queries "
   ]
  },
  {
   "cell_type": "code",
   "execution_count": null,
   "id": "f0c2f465",
   "metadata": {},
   "outputs": [],
   "source": [
    "# creating database session\n",
    "session = Session(engine)\n",
    "metadata = MetaData(bind=engine)\n",
    "Base = automap_base(metadata=metadata)\n",
    "# Use the Base class to reflect the database tables\n",
    "Base.prepare(engine = engine, reflect = True)\n",
    "Base.classes.keys()"
   ]
  },
  {
   "cell_type": "code",
   "execution_count": null,
   "id": "5aae5323",
   "metadata": {},
   "outputs": [],
   "source": [
    "# create the table in the database\n",
    "metadata.create_all(bind=engine, checkfirst=True)"
   ]
  },
  {
   "cell_type": "code",
   "execution_count": null,
   "id": "fa11e2b5",
   "metadata": {},
   "outputs": [],
   "source": [
    "# Define the SQL query\n",
    "sql = text(\"\"\"SELECT * \n",
    "            FROM crime\n",
    "            LEFT JOIN area ON crime.area_code = area.area_code\n",
    "            LEFT JOIN premise ON crime.premise_code = premise.premise_code\n",
    "            LEFT JOIN crime_type ON crime.crime_code = crime_type.crime_code\"\"\")\n",
    "# Execute the SQL query\n",
    "la_crime = engine.execute(sql)\n",
    "rows = la_crime.fetchall()\n",
    "print(len(rows))\n",
    "\n",
    "# loop over the result set and insert each row into the new table\n",
    "for row in rows:\n",
    "    print(row)\n",
    "    new_row = CrimeJoined(incident_id = row.incident_id, \n",
    "                       year = row.year,\n",
    "                       month = row.month,\n",
    "                       month_name = row.month_name,\n",
    "                       victim_age = row.victim_age, \n",
    "                       victim_ethnicity = row.victim_ethnicity,\n",
    "                       victim_gender = row. victim_gender,\n",
    "                       lat = row.lat,\n",
    "                       lon = row.lon,\n",
    "                       area_code = row.area_code,\n",
    "                       crime_code = row.crime_code, \n",
    "                       premise_code= row.premise_code,\n",
    "                       area_name = row.area_name, \n",
    "                       crime = row.crime,\n",
    "                       premise = row.premise)\n",
    "    session.add(new_row)\n",
    "\n",
    "# commit the changes\n",
    "session.commit()"
   ]
  },
  {
   "cell_type": "code",
   "execution_count": null,
   "id": "703653d6",
   "metadata": {},
   "outputs": [],
   "source": [
    "inspector.get_table_names()"
   ]
  },
  {
   "cell_type": "code",
   "execution_count": null,
   "id": "3d181c35",
   "metadata": {},
   "outputs": [],
   "source": [
    "# Select the la_crime table\n",
    "la_crime = engine.execute(select([metadata.tables['la_crime_joined']]))"
   ]
  },
  {
   "cell_type": "code",
   "execution_count": null,
   "id": "e8e27282",
   "metadata": {},
   "outputs": [],
   "source": [
    "# Get all the rows\n",
    "rows = la_crime_tb.fetchall()\n",
    "\n",
    "# Print the number of rows\n",
    "print(len(rows))\n",
    "\n",
    "# Print the first row\n",
    "print(rows[0])"
   ]
  },
  {
   "cell_type": "markdown",
   "id": "3c78cf71",
   "metadata": {},
   "source": [
    "## Data Queries - using SQLAlchamey (copy to flask app to create functions)"
   ]
  },
  {
   "cell_type": "markdown",
   "id": "b4dd48b9",
   "metadata": {},
   "source": [
    "use the table named la_crime for all queries (class is CrimeJoined)"
   ]
  },
  {
   "cell_type": "code",
   "execution_count": null,
   "id": "d83a3c66",
   "metadata": {},
   "outputs": [],
   "source": [
    "# creating database session\n",
    "session = Session(engine)\n",
    "metadata = MetaData(bind=engine)\n",
    "Base = automap_base(metadata=metadata)\n",
    "# Use the Base class to reflect the database tables\n",
    "Base.prepare(engine = engine, reflect = True)\n",
    "Base.classes.keys()"
   ]
  },
  {
   "cell_type": "code",
   "execution_count": null,
   "id": "78b9d287",
   "metadata": {},
   "outputs": [],
   "source": [
    "la_crime = engine.execute(select([metadata.tables['la_crime']]))"
   ]
  },
  {
   "cell_type": "code",
   "execution_count": 64,
   "id": "d461d071",
   "metadata": {},
   "outputs": [
    {
     "name": "stdout",
     "output_type": "stream",
     "text": [
      "(2470, 2018, 'April')\n",
      "(2511, 2018, 'August')\n",
      "(2322, 2018, 'December')\n",
      "(2035, 2018, 'February')\n",
      "(2312, 2018, 'January')\n",
      "(2670, 2018, 'July')\n",
      "(2572, 2018, 'June')\n",
      "(2423, 2018, 'March')\n",
      "(2614, 2018, 'May')\n",
      "(2262, 2018, 'November')\n",
      "(2578, 2018, 'October')\n",
      "(2472, 2018, 'September')\n",
      "[{'Month': 'April', 'Total Crimes': 2470}, {'Month': 'August', 'Total Crimes': 2511}, {'Month': 'December', 'Total Crimes': 2322}, {'Month': 'February', 'Total Crimes': 2035}, {'Month': 'January', 'Total Crimes': 2312}, {'Month': 'July', 'Total Crimes': 2670}, {'Month': 'June', 'Total Crimes': 2572}, {'Month': 'March', 'Total Crimes': 2423}, {'Month': 'May', 'Total Crimes': 2614}, {'Month': 'November', 'Total Crimes': 2262}, {'Month': 'October', 'Total Crimes': 2578}, {'Month': 'September', 'Total Crimes': 2472}]\n"
     ]
    }
   ],
   "source": [
    "# Data for overall line chart by year - number of total crimes\n",
    "query = text(\"\"\"\n",
    "    SELECT count('crime'), year, month_name \n",
    "    FROM la_crime\n",
    "    WHERE year = 2018 \n",
    "    AND crime = 'Assault'\n",
    "    GROUP BY month_name\n",
    "    \"\"\")\n",
    "result = engine.execute(query)\n",
    "rows = result.fetchall()\n",
    "crime_dict = []\n",
    "for row in rows:\n",
    "    print(row)\n",
    "    crime_dict.append({\"Month\": row[2], \"Total Crimes\": row[0]})\n",
    "print(crime_dict)"
   ]
  },
  {
   "cell_type": "code",
   "execution_count": null,
   "id": "6d505f5c",
   "metadata": {},
   "outputs": [],
   "source": [
    "query = text(\"\"\"\n",
    "    SELECT count('crime'), year, month_name \n",
    "    FROM la_crime\n",
    "    WHERE year = 2018 \n",
    "    AND crime = 'Assault'\n",
    "    GROUP BY month_name\n",
    "    ORDER BY CASE month_name\n",
    "        WHEN 'January' THEN 1\n",
    "        WHEN 'February' THEN 2\n",
    "        WHEN 'March' THEN 3\n",
    "        WHEN 'April' THEN 4\n",
    "        WHEN 'May' THEN 5\n",
    "        WHEN 'June' THEN 6\n",
    "        WHEN 'July' THEN 7\n",
    "        WHEN 'August' THEN 8\n",
    "        WHEN 'September' THEN 9\n",
    "        WHEN 'October' THEN 10\n",
    "        WHEN 'November' THEN 11\n",
    "        WHEN 'December' THEN 12\n",
    "        ELSE 99\n",
    "    END\n",
    "\"\"\")\n",
    "result = engine.execute(query)\n",
    "rows = result.fetchall()\n",
    "crime_dict = []\n",
    "for row in rows:\n",
    "    print(row)\n",
    "    crime_dict.append({\"Month\": row[2], \"Total Crimes\": row[0]})\n",
    "print(crime_dict)\n"
   ]
  },
  {
   "cell_type": "code",
   "execution_count": 65,
   "id": "8ff7901c",
   "metadata": {},
   "outputs": [
    {
     "name": "stdout",
     "output_type": "stream",
     "text": [
      "(8, 2018, '1-10')\n",
      "(1115, 2018, '11-20')\n",
      "(5726, 2018, '21-30')\n",
      "(4274, 2018, '31-40')\n",
      "(2315, 2018, '41-50')\n",
      "(1158, 2018, '51-60')\n",
      "(311, 2018, '61-70')\n",
      "(83, 2018, '71+')\n",
      "[{'Month': '1-10', 'Total Crimes': 8}, {'Month': '11-20', 'Total Crimes': 1115}, {'Month': '21-30', 'Total Crimes': 5726}, {'Month': '31-40', 'Total Crimes': 4274}, {'Month': '41-50', 'Total Crimes': 2315}, {'Month': '51-60', 'Total Crimes': 1158}, {'Month': '61-70', 'Total Crimes': 311}, {'Month': '71+', 'Total Crimes': 83}]\n"
     ]
    }
   ],
   "source": [
    "# Data for overall victim by year and crime-dropped None values\n",
    "query_age = text(\"\"\"\n",
    "    SELECT count(crime), year, Victim_age \n",
    "    FROM la_crime\n",
    "    WHERE year = 2018 \n",
    "    AND crime = 'Domestic Violence'\n",
    "    AND crime IS NOT NULL\n",
    "    AND Victim_age IS NOT NULL\n",
    "    GROUP BY Victim_age\n",
    "\"\"\")\n",
    "result = engine.execute(query_age)\n",
    "rows = result.fetchall()\n",
    "crime_dict = []\n",
    "for row in rows:\n",
    "    print(row)\n",
    "    crime_dict.append({\"Month\": row[2], \"Total Crimes\": row[0]})\n",
    "print(crime_dict)\n"
   ]
  },
  {
   "cell_type": "code",
   "execution_count": 66,
   "id": "3649f774",
   "metadata": {},
   "outputs": [
    {
     "name": "stdout",
     "output_type": "stream",
     "text": [
      "(8, 2018, '1-10')\n",
      "(1115, 2018, '11-20')\n",
      "(5726, 2018, '21-30')\n",
      "(4274, 2018, '31-40')\n",
      "(2315, 2018, '41-50')\n",
      "(1158, 2018, '51-60')\n",
      "(311, 2018, '61-70')\n",
      "(83, 2018, '71+')\n",
      "[{'Year': 2018, 'Victim Age': '1-10', 'Total Crimes': 8, '% of Total': 0.05}, {'Year': 2018, 'Victim Age': '11-20', 'Total Crimes': 1115, '% of Total': 7.44}, {'Year': 2018, 'Victim Age': '21-30', 'Total Crimes': 5726, '% of Total': 38.2}, {'Year': 2018, 'Victim Age': '31-40', 'Total Crimes': 4274, '% of Total': 28.51}, {'Year': 2018, 'Victim Age': '41-50', 'Total Crimes': 2315, '% of Total': 15.44}, {'Year': 2018, 'Victim Age': '51-60', 'Total Crimes': 1158, '% of Total': 7.73}, {'Year': 2018, 'Victim Age': '61-70', 'Total Crimes': 311, '% of Total': 2.07}, {'Year': 2018, 'Victim Age': '71+', 'Total Crimes': 83, '% of Total': 0.55}]\n"
     ]
    }
   ],
   "source": [
    "query_age = text(\"\"\"\n",
    "    SELECT count(crime), year, Victim_age \n",
    "    FROM la_crime\n",
    "    WHERE year = 2018 \n",
    "    AND crime = 'Domestic Violence'\n",
    "    AND crime IS NOT NULL\n",
    "    AND Victim_age IS NOT NULL\n",
    "    GROUP BY year, Victim_age\n",
    "\"\"\")\n",
    "result = engine.execute(query_age)\n",
    "rows = result.fetchall()\n",
    "crime_dict = []\n",
    "total_count = sum(row[0] for row in rows)\n",
    "for row in rows:\n",
    "    print(row)\n",
    "    crime_dict.append({\"Year\": row[1], \"Victim Age\": row[2], \"Total Crimes\": row[0], \"% of Total\": round(row[0]/total_count*100,2)})\n",
    "print(crime_dict)\n"
   ]
  },
  {
   "cell_type": "code",
   "execution_count": 67,
   "id": "8a37cb09",
   "metadata": {},
   "outputs": [
    {
     "name": "stdout",
     "output_type": "stream",
     "text": [
      "['id', 'incident_id', 'year', 'month', 'month_name', 'victim_age', 'victim_ethnicity', 'victim_gender', 'lat', 'lon', 'area_code', 'crime_code', 'premise_code', 'area_name', 'crime', 'premise']\n"
     ]
    }
   ],
   "source": [
    "from sqlalchemy import create_engine\n",
    "\n",
    "# Create engine and connect to database\n",
    "engine = create_engine(\"sqlite:///Resources/la_crime.db\")\n",
    "connection = engine.connect()\n",
    "\n",
    "# Query to fetch column names\n",
    "query_cols = \"PRAGMA table_info(la_crime)\"\n",
    "result_cols = connection.execute(query_cols)\n",
    "\n",
    "# Extract column names from result set\n",
    "cols = [row[1] for row in result_cols]\n",
    "\n",
    "# Print column names\n",
    "print(cols)\n",
    "\n",
    "# Close connection\n",
    "connection.close()\n"
   ]
  },
  {
   "cell_type": "code",
   "execution_count": 55,
   "id": "8afec909",
   "metadata": {},
   "outputs": [
    {
     "name": "stdout",
     "output_type": "stream",
     "text": [
      "(2312, 2018, 'January')\n",
      "(2035, 2018, 'February')\n",
      "(2423, 2018, 'March')\n",
      "(2470, 2018, 'April')\n",
      "(2614, 2018, 'May')\n",
      "(2572, 2018, 'June')\n",
      "(2670, 2018, 'July')\n",
      "(2511, 2018, 'August')\n",
      "(2472, 2018, 'September')\n",
      "(2578, 2018, 'October')\n",
      "(2262, 2018, 'November')\n",
      "(2322, 2018, 'December')\n",
      "[{'Month': 'January', 'Total Crimes': 2312}, {'Month': 'February', 'Total Crimes': 2035}, {'Month': 'March', 'Total Crimes': 2423}, {'Month': 'April', 'Total Crimes': 2470}, {'Month': 'May', 'Total Crimes': 2614}, {'Month': 'June', 'Total Crimes': 2572}, {'Month': 'July', 'Total Crimes': 2670}, {'Month': 'August', 'Total Crimes': 2511}, {'Month': 'September', 'Total Crimes': 2472}, {'Month': 'October', 'Total Crimes': 2578}, {'Month': 'November', 'Total Crimes': 2262}, {'Month': 'December', 'Total Crimes': 2322}]\n"
     ]
    }
   ],
   "source": [
    "# 1-crime data by year\n",
    "query = text(\"\"\"\n",
    "    SELECT count('crime'), year, month_name \n",
    "    FROM la_crime\n",
    "    WHERE year = 2018 \n",
    "    AND crime = 'Assault'\n",
    "    GROUP BY month_name\n",
    "    ORDER BY CASE month_name\n",
    "        WHEN 'January' THEN 1\n",
    "        WHEN 'February' THEN 2\n",
    "        WHEN 'March' THEN 3\n",
    "        WHEN 'April' THEN 4\n",
    "        WHEN 'May' THEN 5\n",
    "        WHEN 'June' THEN 6\n",
    "        WHEN 'July' THEN 7\n",
    "        WHEN 'August' THEN 8\n",
    "        WHEN 'September' THEN 9\n",
    "        WHEN 'October' THEN 10\n",
    "        WHEN 'November' THEN 11\n",
    "        WHEN 'December' THEN 12\n",
    "        ELSE 99\n",
    "    END\n",
    "\"\"\")\n",
    "result = engine.execute(query)\n",
    "rows = result.fetchall()\n",
    "crime_dict = []\n",
    "for row in rows:\n",
    "    print(row)\n",
    "    crime_dict.append({\"Month\": row[2], \"Total Crimes\": row[0]})\n",
    "print(crime_dict)\n"
   ]
  },
  {
   "cell_type": "code",
   "execution_count": 77,
   "id": "21507218",
   "metadata": {},
   "outputs": [
    {
     "name": "stdout",
     "output_type": "stream",
     "text": [
      "(None, 74)\n",
      "('Asian', 1486)\n",
      "('Asian Indian', 4)\n",
      "('Black', 3606)\n",
      "('Hispanic', 10371)\n",
      "('Native American', 7)\n",
      "('Other', 3491)\n",
      "('Pacific Islander/Hawaiian', 7)\n",
      "('White', 9029)\n",
      "[{'Ethnicity': None, 'Count': 74}, {'Ethnicity': 'Asian', 'Count': 1486}, {'Ethnicity': 'Asian Indian', 'Count': 4}, {'Ethnicity': 'Black', 'Count': 3606}, {'Ethnicity': 'Hispanic', 'Count': 10371}, {'Ethnicity': 'Native American', 'Count': 7}, {'Ethnicity': 'Other', 'Count': 3491}, {'Ethnicity': 'Pacific Islander/Hawaiian', 'Count': 7}, {'Ethnicity': 'White', 'Count': 9029}] 28075\n",
      "[{'Ethnicity': None, 'Count': 74, 'Total People': 28075, 'Ethnicity %': 0}, {'Ethnicity': 'Asian', 'Count': 1486, 'Total People': 28075, 'Ethnicity %': 5}, {'Ethnicity': 'Asian Indian', 'Count': 4, 'Total People': 28075, 'Ethnicity %': 0}, {'Ethnicity': 'Black', 'Count': 3606, 'Total People': 28075, 'Ethnicity %': 13}, {'Ethnicity': 'Hispanic', 'Count': 10371, 'Total People': 28075, 'Ethnicity %': 37}, {'Ethnicity': 'Native American', 'Count': 7, 'Total People': 28075, 'Ethnicity %': 0}, {'Ethnicity': 'Other', 'Count': 3491, 'Total People': 28075, 'Ethnicity %': 12}, {'Ethnicity': 'Pacific Islander/Hawaiian', 'Count': 7, 'Total People': 28075, 'Ethnicity %': 0}, {'Ethnicity': 'White', 'Count': 9029, 'Total People': 28075, 'Ethnicity %': 32}]\n"
     ]
    }
   ],
   "source": [
    "# 2- Data for victim_ethnicity %\n",
    "query_age = text(\"\"\"\n",
    "  SELECT victim_ethnicity, count(*) AS total_count\n",
    "    FROM la_crime\n",
    "    WHERE year = 2018\n",
    "    AND crime = 'Burglary from Vehicle'\n",
    "    GROUP BY victim_ethnicity \n",
    "    \"\"\")\n",
    "result = engine.execute(query_age)\n",
    "rows = result.fetchall()\n",
    "race_dict = []\n",
    "total_count = 0\n",
    "for row in rows:\n",
    "    print(row)\n",
    "    race_dict.append({\"Ethnicity\": row[0], \"Count\": row[1]})\n",
    "    total_count += row[1]\n",
    "print(race_dict, total_count)\n",
    "for d in race_dict:\n",
    "    d[\"Total People\"] = total_count\n",
    "    d[\"Ethnicity %\"] = round((d[\"Count\"]/d[\"Total People\"]) * 100)\n",
    "print(race_dict)\n",
    "\n",
    "\n",
    "\n",
    "\n",
    "\n"
   ]
  },
  {
   "cell_type": "code",
   "execution_count": 78,
   "id": "f281de75",
   "metadata": {},
   "outputs": [
    {
     "name": "stdout",
     "output_type": "stream",
     "text": [
      "[{'Victim Gender': 'Male', 'Total Crimes': 1112, '% of Total': 55.16}, {'Victim Gender': 'Female', 'Total Crimes': 904, '% of Total': 44.84}]\n"
     ]
    }
   ],
   "source": [
    "# 3- Crme by gender%\n",
    "query_gender = text(\"\"\"\n",
    "    SELECT count(crime), crime, victim_gender \n",
    "    FROM la_crime\n",
    "    WHERE year = 2018 \n",
    "    AND crime = \"Trespassing\"\n",
    "    AND crime IS NOT NULL\n",
    "    AND victim_gender IS NOT NULL\n",
    "    GROUP BY crime, victim_gender\n",
    "\"\"\")\n",
    "result = engine.execute(query_gender)\n",
    "rows = result.fetchall()\n",
    "\n",
    "gender_dict = []\n",
    "for crime in set([row[1] for row in rows]):\n",
    "    crime_count = sum([row[0] for row in rows if row[1] == crime])\n",
    "    for gender in set([row[2] for row in rows if row[1] == crime]):\n",
    "        gender_count = sum([row[0] for row in rows if row[1] == crime and row[2] == gender])\n",
    "        gender_dict.append({\n",
    "            #\"Crime Type\": crime,\n",
    "            \"Victim Gender\": gender,\n",
    "            \"Total Crimes\": gender_count,\n",
    "            \"% of Total\": round((gender_count/crime_count)*100, 2)\n",
    "        })\n",
    "\n",
    "print(gender_dict)\n",
    "\n",
    "\n"
   ]
  },
  {
   "cell_type": "code",
   "execution_count": 53,
   "id": "59e8c474",
   "metadata": {},
   "outputs": [
    {
     "name": "stdout",
     "output_type": "stream",
     "text": [
      "[{'Crime Type': 'Trespassing', 'Victim Ethnicity': [{'Ethnicity': 'Asian', 'Total Crimes': 73, '% of Total': 3.68}, {'Ethnicity': 'Black', 'Total Crimes': 277, '% of Total': 13.95}, {'Ethnicity': 'Hispanic', 'Total Crimes': 559, '% of Total': 28.16}, {'Ethnicity': 'Other', 'Total Crimes': 269, '% of Total': 13.55}, {'Ethnicity': 'White', 'Total Crimes': 807, '% of Total': 40.65}]}, {'Crime Type': 'Violation of Reatraining Order', 'Victim Ethnicity': [{'Ethnicity': 'Asian', 'Total Crimes': 35, '% of Total': 1.46}, {'Ethnicity': 'Black', 'Total Crimes': 443, '% of Total': 18.43}, {'Ethnicity': 'Hispanic', 'Total Crimes': 1323, '% of Total': 55.03}, {'Ethnicity': 'Other', 'Total Crimes': 141, '% of Total': 5.87}, {'Ethnicity': 'White', 'Total Crimes': 462, '% of Total': 19.22}]}, {'Crime Type': 'Bike Theft', 'Victim Ethnicity': [{'Ethnicity': 'Asian', 'Total Crimes': 152, '% of Total': 6.78}, {'Ethnicity': 'Asian Indian', 'Total Crimes': 1, '% of Total': 0.04}, {'Ethnicity': 'Black', 'Total Crimes': 215, '% of Total': 9.59}, {'Ethnicity': 'Hispanic', 'Total Crimes': 473, '% of Total': 21.1}, {'Ethnicity': 'Native American', 'Total Crimes': 19, '% of Total': 0.85}, {'Ethnicity': 'Other', 'Total Crimes': 232, '% of Total': 10.35}, {'Ethnicity': 'Pacific Islander/Hawaiian', 'Total Crimes': 2, '% of Total': 0.09}, {'Ethnicity': 'White', 'Total Crimes': 1148, '% of Total': 51.2}]}, {'Crime Type': 'Burglary from Vehicle', 'Victim Ethnicity': [{'Ethnicity': 'Asian', 'Total Crimes': 1486, '% of Total': 5.31}, {'Ethnicity': 'Asian Indian', 'Total Crimes': 4, '% of Total': 0.01}, {'Ethnicity': 'Black', 'Total Crimes': 3606, '% of Total': 12.88}, {'Ethnicity': 'Hispanic', 'Total Crimes': 10371, '% of Total': 37.04}, {'Ethnicity': 'Native American', 'Total Crimes': 7, '% of Total': 0.02}, {'Ethnicity': 'Other', 'Total Crimes': 3491, '% of Total': 12.47}, {'Ethnicity': 'Pacific Islander/Hawaiian', 'Total Crimes': 7, '% of Total': 0.02}, {'Ethnicity': 'White', 'Total Crimes': 9029, '% of Total': 32.25}]}, {'Crime Type': 'Assault', 'Victim Ethnicity': [{'Ethnicity': 'Asian', 'Total Crimes': 724, '% of Total': 2.49}, {'Ethnicity': 'Asian Indian', 'Total Crimes': 2, '% of Total': 0.01}, {'Ethnicity': 'Black', 'Total Crimes': 7182, '% of Total': 24.65}, {'Ethnicity': 'Hispanic', 'Total Crimes': 13847, '% of Total': 47.53}, {'Ethnicity': 'Native American', 'Total Crimes': 4, '% of Total': 0.01}, {'Ethnicity': 'Other', 'Total Crimes': 2057, '% of Total': 7.06}, {'Ethnicity': 'Pacific Islander/Hawaiian', 'Total Crimes': 1, '% of Total': 0.0}, {'Ethnicity': 'White', 'Total Crimes': 5317, '% of Total': 18.25}]}, {'Crime Type': 'Extortion', 'Victim Ethnicity': [{'Ethnicity': 'Asian', 'Total Crimes': 21, '% of Total': 5.07}, {'Ethnicity': 'Black', 'Total Crimes': 20, '% of Total': 4.83}, {'Ethnicity': 'Hispanic', 'Total Crimes': 227, '% of Total': 54.83}, {'Ethnicity': 'Native American', 'Total Crimes': 1, '% of Total': 0.24}, {'Ethnicity': 'Other', 'Total Crimes': 38, '% of Total': 9.18}, {'Ethnicity': 'White', 'Total Crimes': 107, '% of Total': 25.85}]}, {'Crime Type': 'Domestic Violence', 'Victim Ethnicity': [{'Ethnicity': 'Asian', 'Total Crimes': 337, '% of Total': 2.25}, {'Ethnicity': 'Black', 'Total Crimes': 4065, '% of Total': 27.09}, {'Ethnicity': 'Hispanic', 'Total Crimes': 7516, '% of Total': 50.09}, {'Ethnicity': 'Native American', 'Total Crimes': 3, '% of Total': 0.02}, {'Ethnicity': 'Other', 'Total Crimes': 774, '% of Total': 5.16}, {'Ethnicity': 'Pacific Islander/Hawaiian', 'Total Crimes': 1, '% of Total': 0.01}, {'Ethnicity': 'White', 'Total Crimes': 2310, '% of Total': 15.39}]}, {'Crime Type': 'Identity Theft', 'Victim Ethnicity': [{'Ethnicity': 'Asian', 'Total Crimes': 479, '% of Total': 4.6}, {'Ethnicity': 'Black', 'Total Crimes': 1688, '% of Total': 16.21}, {'Ethnicity': 'Hispanic', 'Total Crimes': 3035, '% of Total': 29.15}, {'Ethnicity': 'Native American', 'Total Crimes': 5, '% of Total': 0.05}, {'Ethnicity': 'Other', 'Total Crimes': 1507, '% of Total': 14.47}, {'Ethnicity': 'Pacific Islander/Hawaiian', 'Total Crimes': 7, '% of Total': 0.07}, {'Ethnicity': 'White', 'Total Crimes': 3692, '% of Total': 35.46}]}, {'Crime Type': 'Child Maltreatment', 'Victim Ethnicity': [{'Ethnicity': 'Asian', 'Total Crimes': 30, '% of Total': 1.47}, {'Ethnicity': 'Black', 'Total Crimes': 458, '% of Total': 22.46}, {'Ethnicity': 'Hispanic', 'Total Crimes': 1313, '% of Total': 64.39}, {'Ethnicity': 'Other', 'Total Crimes': 70, '% of Total': 3.43}, {'Ethnicity': 'White', 'Total Crimes': 168, '% of Total': 8.24}]}, {'Crime Type': 'Forgery', 'Victim Ethnicity': [{'Ethnicity': 'Asian', 'Total Crimes': 61, '% of Total': 5.01}, {'Ethnicity': 'Black', 'Total Crimes': 148, '% of Total': 12.16}, {'Ethnicity': 'Hispanic', 'Total Crimes': 271, '% of Total': 22.27}, {'Ethnicity': 'Other', 'Total Crimes': 185, '% of Total': 15.2}, {'Ethnicity': 'White', 'Total Crimes': 552, '% of Total': 45.36}]}, {'Crime Type': 'Sexual Assualt or Rape', 'Victim Ethnicity': [{'Ethnicity': 'Asian', 'Total Crimes': 115, '% of Total': 3.17}, {'Ethnicity': 'Black', 'Total Crimes': 668, '% of Total': 18.42}, {'Ethnicity': 'Hispanic', 'Total Crimes': 1739, '% of Total': 47.96}, {'Ethnicity': 'Native American', 'Total Crimes': 4, '% of Total': 0.11}, {'Ethnicity': 'Other', 'Total Crimes': 225, '% of Total': 6.21}, {'Ethnicity': 'White', 'Total Crimes': 875, '% of Total': 24.13}]}, {'Crime Type': 'Theft, Robbery, or Burglary', 'Victim Ethnicity': [{'Ethnicity': 'Asian', 'Total Crimes': 2535, '% of Total': 5.71}, {'Ethnicity': 'Asian Indian', 'Total Crimes': 10, '% of Total': 0.02}, {'Ethnicity': 'Black', 'Total Crimes': 7369, '% of Total': 16.61}, {'Ethnicity': 'Hispanic', 'Total Crimes': 15029, '% of Total': 33.88}, {'Ethnicity': 'Native American', 'Total Crimes': 43, '% of Total': 0.1}, {'Ethnicity': 'Other', 'Total Crimes': 5647, '% of Total': 12.73}, {'Ethnicity': 'Pacific Islander/Hawaiian', 'Total Crimes': 10, '% of Total': 0.02}, {'Ethnicity': 'White', 'Total Crimes': 13718, '% of Total': 30.92}]}, {'Crime Type': 'Vehicle Theft', 'Victim Ethnicity': [{'Ethnicity': 'Asian', 'Total Crimes': 8, '% of Total': 2.22}, {'Ethnicity': 'Black', 'Total Crimes': 36, '% of Total': 10.0}, {'Ethnicity': 'Hispanic', 'Total Crimes': 211, '% of Total': 58.61}, {'Ethnicity': 'Other', 'Total Crimes': 28, '% of Total': 7.78}, {'Ethnicity': 'White', 'Total Crimes': 77, '% of Total': 21.39}]}, {'Crime Type': 'Vandalism', 'Victim Ethnicity': [{'Ethnicity': 'Asian', 'Total Crimes': 569, '% of Total': 3.3}, {'Ethnicity': 'Asian Indian', 'Total Crimes': 2, '% of Total': 0.01}, {'Ethnicity': 'Black', 'Total Crimes': 3255, '% of Total': 18.86}, {'Ethnicity': 'Hispanic', 'Total Crimes': 7535, '% of Total': 43.65}, {'Ethnicity': 'Native American', 'Total Crimes': 4, '% of Total': 0.02}, {'Ethnicity': 'Other', 'Total Crimes': 1725, '% of Total': 9.99}, {'Ethnicity': 'Pacific Islander/Hawaiian', 'Total Crimes': 6, '% of Total': 0.03}, {'Ethnicity': 'White', 'Total Crimes': 4165, '% of Total': 24.13}]}, {'Crime Type': 'Brandish Weapon', 'Victim Ethnicity': [{'Ethnicity': 'Asian', 'Total Crimes': 36, '% of Total': 1.34}, {'Ethnicity': 'Asian Indian', 'Total Crimes': 2, '% of Total': 0.07}, {'Ethnicity': 'Black', 'Total Crimes': 775, '% of Total': 28.8}, {'Ethnicity': 'Hispanic', 'Total Crimes': 1343, '% of Total': 49.91}, {'Ethnicity': 'Other', 'Total Crimes': 171, '% of Total': 6.35}, {'Ethnicity': 'White', 'Total Crimes': 364, '% of Total': 13.53}]}, {'Crime Type': 'Criminal threat', 'Victim Ethnicity': [{'Ethnicity': 'Asian', 'Total Crimes': 102, '% of Total': 2.1}, {'Ethnicity': 'Black', 'Total Crimes': 1198, '% of Total': 24.68}, {'Ethnicity': 'Hispanic', 'Total Crimes': 2211, '% of Total': 45.54}, {'Ethnicity': 'Native American', 'Total Crimes': 2, '% of Total': 0.04}, {'Ethnicity': 'Other', 'Total Crimes': 403, '% of Total': 8.3}, {'Ethnicity': 'White', 'Total Crimes': 939, '% of Total': 19.34}]}]\n"
     ]
    }
   ],
   "source": [
    "#crime by ethnicity\n",
    "query_ethnicity = text(\"\"\"\n",
    "    SELECT count(crime), crime, victim_ethnicity \n",
    "    FROM la_crime\n",
    "    WHERE year = 2018 \n",
    "    AND crime IS NOT NULL\n",
    "    AND victim_ethnicity IS NOT NULL\n",
    "    GROUP BY crime, victim_ethnicity\n",
    "\"\"\")\n",
    "result = engine.execute(query_ethnicity)\n",
    "rows = result.fetchall()\n",
    "crime_dict = []\n",
    "for crime in set([row[1] for row in rows]):\n",
    "    crime_rows = [row for row in rows if row[1] == crime]\n",
    "    crime_dict_entry = {\"Crime Type\": crime, \"Victim Ethnicity\": []}\n",
    "    total_count = sum(row[0] for row in crime_rows)\n",
    "    for row in crime_rows:\n",
    "        crime_dict_entry[\"Victim Ethnicity\"].append({\"Ethnicity\": row[2], \"Total Crimes\": row[0], \"% of Total\": round(row[0]/total_count*100,2)})\n",
    "    crime_dict.append(crime_dict_entry)\n",
    "print(crime_dict)\n",
    "\n",
    "\n"
   ]
  },
  {
   "cell_type": "code",
   "execution_count": 48,
   "id": "bfa14e89",
   "metadata": {},
   "outputs": [
    {
     "name": "stdout",
     "output_type": "stream",
     "text": [
      "(724, 'Assault', 'Asian')\n",
      "(2, 'Assault', 'Asian Indian')\n",
      "(7182, 'Assault', 'Black')\n",
      "(13847, 'Assault', 'Hispanic')\n",
      "(4, 'Assault', 'Native American')\n",
      "(2057, 'Assault', 'Other')\n",
      "(1, 'Assault', 'Pacific Islander/Hawaiian')\n",
      "(5317, 'Assault', 'White')\n",
      "(152, 'Bike Theft', 'Asian')\n",
      "(1, 'Bike Theft', 'Asian Indian')\n",
      "(215, 'Bike Theft', 'Black')\n",
      "(473, 'Bike Theft', 'Hispanic')\n",
      "(19, 'Bike Theft', 'Native American')\n",
      "(232, 'Bike Theft', 'Other')\n",
      "(2, 'Bike Theft', 'Pacific Islander/Hawaiian')\n",
      "(1148, 'Bike Theft', 'White')\n",
      "(36, 'Brandish Weapon', 'Asian')\n",
      "(2, 'Brandish Weapon', 'Asian Indian')\n",
      "(775, 'Brandish Weapon', 'Black')\n",
      "(1343, 'Brandish Weapon', 'Hispanic')\n",
      "(171, 'Brandish Weapon', 'Other')\n",
      "(364, 'Brandish Weapon', 'White')\n",
      "(1486, 'Burglary from Vehicle', 'Asian')\n",
      "(4, 'Burglary from Vehicle', 'Asian Indian')\n",
      "(3606, 'Burglary from Vehicle', 'Black')\n",
      "(10371, 'Burglary from Vehicle', 'Hispanic')\n",
      "(7, 'Burglary from Vehicle', 'Native American')\n",
      "(3491, 'Burglary from Vehicle', 'Other')\n",
      "(7, 'Burglary from Vehicle', 'Pacific Islander/Hawaiian')\n",
      "(9029, 'Burglary from Vehicle', 'White')\n",
      "(30, 'Child Maltreatment', 'Asian')\n",
      "(458, 'Child Maltreatment', 'Black')\n",
      "(1313, 'Child Maltreatment', 'Hispanic')\n",
      "(70, 'Child Maltreatment', 'Other')\n",
      "(168, 'Child Maltreatment', 'White')\n",
      "(102, 'Criminal threat', 'Asian')\n",
      "(1198, 'Criminal threat', 'Black')\n",
      "(2211, 'Criminal threat', 'Hispanic')\n",
      "(2, 'Criminal threat', 'Native American')\n",
      "(403, 'Criminal threat', 'Other')\n",
      "(939, 'Criminal threat', 'White')\n",
      "(337, 'Domestic Violence', 'Asian')\n",
      "(4065, 'Domestic Violence', 'Black')\n",
      "(7516, 'Domestic Violence', 'Hispanic')\n",
      "(3, 'Domestic Violence', 'Native American')\n",
      "(774, 'Domestic Violence', 'Other')\n",
      "(1, 'Domestic Violence', 'Pacific Islander/Hawaiian')\n",
      "(2310, 'Domestic Violence', 'White')\n",
      "(21, 'Extortion', 'Asian')\n",
      "(20, 'Extortion', 'Black')\n",
      "(227, 'Extortion', 'Hispanic')\n",
      "(1, 'Extortion', 'Native American')\n",
      "(38, 'Extortion', 'Other')\n",
      "(107, 'Extortion', 'White')\n",
      "(61, 'Forgery', 'Asian')\n",
      "(148, 'Forgery', 'Black')\n",
      "(271, 'Forgery', 'Hispanic')\n",
      "(185, 'Forgery', 'Other')\n",
      "(552, 'Forgery', 'White')\n",
      "(479, 'Identity Theft', 'Asian')\n",
      "(1688, 'Identity Theft', 'Black')\n",
      "(3035, 'Identity Theft', 'Hispanic')\n",
      "(5, 'Identity Theft', 'Native American')\n",
      "(1507, 'Identity Theft', 'Other')\n",
      "(7, 'Identity Theft', 'Pacific Islander/Hawaiian')\n",
      "(3692, 'Identity Theft', 'White')\n",
      "(115, 'Sexual Assualt or Rape', 'Asian')\n",
      "(668, 'Sexual Assualt or Rape', 'Black')\n",
      "(1739, 'Sexual Assualt or Rape', 'Hispanic')\n",
      "(4, 'Sexual Assualt or Rape', 'Native American')\n",
      "(225, 'Sexual Assualt or Rape', 'Other')\n",
      "(875, 'Sexual Assualt or Rape', 'White')\n",
      "(2535, 'Theft, Robbery, or Burglary', 'Asian')\n",
      "(10, 'Theft, Robbery, or Burglary', 'Asian Indian')\n",
      "(7369, 'Theft, Robbery, or Burglary', 'Black')\n",
      "(15029, 'Theft, Robbery, or Burglary', 'Hispanic')\n",
      "(43, 'Theft, Robbery, or Burglary', 'Native American')\n",
      "(5647, 'Theft, Robbery, or Burglary', 'Other')\n",
      "(10, 'Theft, Robbery, or Burglary', 'Pacific Islander/Hawaiian')\n",
      "(13718, 'Theft, Robbery, or Burglary', 'White')\n",
      "(73, 'Trespassing', 'Asian')\n",
      "(277, 'Trespassing', 'Black')\n",
      "(559, 'Trespassing', 'Hispanic')\n",
      "(269, 'Trespassing', 'Other')\n",
      "(807, 'Trespassing', 'White')\n",
      "(569, 'Vandalism', 'Asian')\n",
      "(2, 'Vandalism', 'Asian Indian')\n",
      "(3255, 'Vandalism', 'Black')\n",
      "(7535, 'Vandalism', 'Hispanic')\n",
      "(4, 'Vandalism', 'Native American')\n",
      "(1725, 'Vandalism', 'Other')\n",
      "(6, 'Vandalism', 'Pacific Islander/Hawaiian')\n",
      "(4165, 'Vandalism', 'White')\n",
      "(8, 'Vehicle Theft', 'Asian')\n",
      "(36, 'Vehicle Theft', 'Black')\n",
      "(211, 'Vehicle Theft', 'Hispanic')\n",
      "(28, 'Vehicle Theft', 'Other')\n",
      "(77, 'Vehicle Theft', 'White')\n",
      "(35, 'Violation of Reatraining Order', 'Asian')\n",
      "(443, 'Violation of Reatraining Order', 'Black')\n",
      "(1323, 'Violation of Reatraining Order', 'Hispanic')\n",
      "(141, 'Violation of Reatraining Order', 'Other')\n",
      "(462, 'Violation of Reatraining Order', 'White')\n",
      "[{'Crime Type': 'Assault', 'Victim Ethnicity': 'Asian', 'Total Crimes': 724, '% of Total': 0.44}, {'Crime Type': 'Assault', 'Victim Ethnicity': 'Asian Indian', 'Total Crimes': 2, '% of Total': 0.0}, {'Crime Type': 'Assault', 'Victim Ethnicity': 'Black', 'Total Crimes': 7182, '% of Total': 4.33}, {'Crime Type': 'Assault', 'Victim Ethnicity': 'Hispanic', 'Total Crimes': 13847, '% of Total': 8.34}, {'Crime Type': 'Assault', 'Victim Ethnicity': 'Native American', 'Total Crimes': 4, '% of Total': 0.0}, {'Crime Type': 'Assault', 'Victim Ethnicity': 'Other', 'Total Crimes': 2057, '% of Total': 1.24}, {'Crime Type': 'Assault', 'Victim Ethnicity': 'Pacific Islander/Hawaiian', 'Total Crimes': 1, '% of Total': 0.0}, {'Crime Type': 'Assault', 'Victim Ethnicity': 'White', 'Total Crimes': 5317, '% of Total': 3.2}, {'Crime Type': 'Bike Theft', 'Victim Ethnicity': 'Asian', 'Total Crimes': 152, '% of Total': 0.09}, {'Crime Type': 'Bike Theft', 'Victim Ethnicity': 'Asian Indian', 'Total Crimes': 1, '% of Total': 0.0}, {'Crime Type': 'Bike Theft', 'Victim Ethnicity': 'Black', 'Total Crimes': 215, '% of Total': 0.13}, {'Crime Type': 'Bike Theft', 'Victim Ethnicity': 'Hispanic', 'Total Crimes': 473, '% of Total': 0.28}, {'Crime Type': 'Bike Theft', 'Victim Ethnicity': 'Native American', 'Total Crimes': 19, '% of Total': 0.01}, {'Crime Type': 'Bike Theft', 'Victim Ethnicity': 'Other', 'Total Crimes': 232, '% of Total': 0.14}, {'Crime Type': 'Bike Theft', 'Victim Ethnicity': 'Pacific Islander/Hawaiian', 'Total Crimes': 2, '% of Total': 0.0}, {'Crime Type': 'Bike Theft', 'Victim Ethnicity': 'White', 'Total Crimes': 1148, '% of Total': 0.69}, {'Crime Type': 'Brandish Weapon', 'Victim Ethnicity': 'Asian', 'Total Crimes': 36, '% of Total': 0.02}, {'Crime Type': 'Brandish Weapon', 'Victim Ethnicity': 'Asian Indian', 'Total Crimes': 2, '% of Total': 0.0}, {'Crime Type': 'Brandish Weapon', 'Victim Ethnicity': 'Black', 'Total Crimes': 775, '% of Total': 0.47}, {'Crime Type': 'Brandish Weapon', 'Victim Ethnicity': 'Hispanic', 'Total Crimes': 1343, '% of Total': 0.81}, {'Crime Type': 'Brandish Weapon', 'Victim Ethnicity': 'Other', 'Total Crimes': 171, '% of Total': 0.1}, {'Crime Type': 'Brandish Weapon', 'Victim Ethnicity': 'White', 'Total Crimes': 364, '% of Total': 0.22}, {'Crime Type': 'Burglary from Vehicle', 'Victim Ethnicity': 'Asian', 'Total Crimes': 1486, '% of Total': 0.9}, {'Crime Type': 'Burglary from Vehicle', 'Victim Ethnicity': 'Asian Indian', 'Total Crimes': 4, '% of Total': 0.0}, {'Crime Type': 'Burglary from Vehicle', 'Victim Ethnicity': 'Black', 'Total Crimes': 3606, '% of Total': 2.17}, {'Crime Type': 'Burglary from Vehicle', 'Victim Ethnicity': 'Hispanic', 'Total Crimes': 10371, '% of Total': 6.25}, {'Crime Type': 'Burglary from Vehicle', 'Victim Ethnicity': 'Native American', 'Total Crimes': 7, '% of Total': 0.0}, {'Crime Type': 'Burglary from Vehicle', 'Victim Ethnicity': 'Other', 'Total Crimes': 3491, '% of Total': 2.1}, {'Crime Type': 'Burglary from Vehicle', 'Victim Ethnicity': 'Pacific Islander/Hawaiian', 'Total Crimes': 7, '% of Total': 0.0}, {'Crime Type': 'Burglary from Vehicle', 'Victim Ethnicity': 'White', 'Total Crimes': 9029, '% of Total': 5.44}, {'Crime Type': 'Child Maltreatment', 'Victim Ethnicity': 'Asian', 'Total Crimes': 30, '% of Total': 0.02}, {'Crime Type': 'Child Maltreatment', 'Victim Ethnicity': 'Black', 'Total Crimes': 458, '% of Total': 0.28}, {'Crime Type': 'Child Maltreatment', 'Victim Ethnicity': 'Hispanic', 'Total Crimes': 1313, '% of Total': 0.79}, {'Crime Type': 'Child Maltreatment', 'Victim Ethnicity': 'Other', 'Total Crimes': 70, '% of Total': 0.04}, {'Crime Type': 'Child Maltreatment', 'Victim Ethnicity': 'White', 'Total Crimes': 168, '% of Total': 0.1}, {'Crime Type': 'Criminal threat', 'Victim Ethnicity': 'Asian', 'Total Crimes': 102, '% of Total': 0.06}, {'Crime Type': 'Criminal threat', 'Victim Ethnicity': 'Black', 'Total Crimes': 1198, '% of Total': 0.72}, {'Crime Type': 'Criminal threat', 'Victim Ethnicity': 'Hispanic', 'Total Crimes': 2211, '% of Total': 1.33}, {'Crime Type': 'Criminal threat', 'Victim Ethnicity': 'Native American', 'Total Crimes': 2, '% of Total': 0.0}, {'Crime Type': 'Criminal threat', 'Victim Ethnicity': 'Other', 'Total Crimes': 403, '% of Total': 0.24}, {'Crime Type': 'Criminal threat', 'Victim Ethnicity': 'White', 'Total Crimes': 939, '% of Total': 0.57}, {'Crime Type': 'Domestic Violence', 'Victim Ethnicity': 'Asian', 'Total Crimes': 337, '% of Total': 0.2}, {'Crime Type': 'Domestic Violence', 'Victim Ethnicity': 'Black', 'Total Crimes': 4065, '% of Total': 2.45}, {'Crime Type': 'Domestic Violence', 'Victim Ethnicity': 'Hispanic', 'Total Crimes': 7516, '% of Total': 4.53}, {'Crime Type': 'Domestic Violence', 'Victim Ethnicity': 'Native American', 'Total Crimes': 3, '% of Total': 0.0}, {'Crime Type': 'Domestic Violence', 'Victim Ethnicity': 'Other', 'Total Crimes': 774, '% of Total': 0.47}, {'Crime Type': 'Domestic Violence', 'Victim Ethnicity': 'Pacific Islander/Hawaiian', 'Total Crimes': 1, '% of Total': 0.0}, {'Crime Type': 'Domestic Violence', 'Victim Ethnicity': 'White', 'Total Crimes': 2310, '% of Total': 1.39}, {'Crime Type': 'Extortion', 'Victim Ethnicity': 'Asian', 'Total Crimes': 21, '% of Total': 0.01}, {'Crime Type': 'Extortion', 'Victim Ethnicity': 'Black', 'Total Crimes': 20, '% of Total': 0.01}, {'Crime Type': 'Extortion', 'Victim Ethnicity': 'Hispanic', 'Total Crimes': 227, '% of Total': 0.14}, {'Crime Type': 'Extortion', 'Victim Ethnicity': 'Native American', 'Total Crimes': 1, '% of Total': 0.0}, {'Crime Type': 'Extortion', 'Victim Ethnicity': 'Other', 'Total Crimes': 38, '% of Total': 0.02}, {'Crime Type': 'Extortion', 'Victim Ethnicity': 'White', 'Total Crimes': 107, '% of Total': 0.06}, {'Crime Type': 'Forgery', 'Victim Ethnicity': 'Asian', 'Total Crimes': 61, '% of Total': 0.04}, {'Crime Type': 'Forgery', 'Victim Ethnicity': 'Black', 'Total Crimes': 148, '% of Total': 0.09}, {'Crime Type': 'Forgery', 'Victim Ethnicity': 'Hispanic', 'Total Crimes': 271, '% of Total': 0.16}, {'Crime Type': 'Forgery', 'Victim Ethnicity': 'Other', 'Total Crimes': 185, '% of Total': 0.11}, {'Crime Type': 'Forgery', 'Victim Ethnicity': 'White', 'Total Crimes': 552, '% of Total': 0.33}, {'Crime Type': 'Identity Theft', 'Victim Ethnicity': 'Asian', 'Total Crimes': 479, '% of Total': 0.29}, {'Crime Type': 'Identity Theft', 'Victim Ethnicity': 'Black', 'Total Crimes': 1688, '% of Total': 1.02}, {'Crime Type': 'Identity Theft', 'Victim Ethnicity': 'Hispanic', 'Total Crimes': 3035, '% of Total': 1.83}, {'Crime Type': 'Identity Theft', 'Victim Ethnicity': 'Native American', 'Total Crimes': 5, '% of Total': 0.0}, {'Crime Type': 'Identity Theft', 'Victim Ethnicity': 'Other', 'Total Crimes': 1507, '% of Total': 0.91}, {'Crime Type': 'Identity Theft', 'Victim Ethnicity': 'Pacific Islander/Hawaiian', 'Total Crimes': 7, '% of Total': 0.0}, {'Crime Type': 'Identity Theft', 'Victim Ethnicity': 'White', 'Total Crimes': 3692, '% of Total': 2.22}, {'Crime Type': 'Sexual Assualt or Rape', 'Victim Ethnicity': 'Asian', 'Total Crimes': 115, '% of Total': 0.07}, {'Crime Type': 'Sexual Assualt or Rape', 'Victim Ethnicity': 'Black', 'Total Crimes': 668, '% of Total': 0.4}, {'Crime Type': 'Sexual Assualt or Rape', 'Victim Ethnicity': 'Hispanic', 'Total Crimes': 1739, '% of Total': 1.05}, {'Crime Type': 'Sexual Assualt or Rape', 'Victim Ethnicity': 'Native American', 'Total Crimes': 4, '% of Total': 0.0}, {'Crime Type': 'Sexual Assualt or Rape', 'Victim Ethnicity': 'Other', 'Total Crimes': 225, '% of Total': 0.14}, {'Crime Type': 'Sexual Assualt or Rape', 'Victim Ethnicity': 'White', 'Total Crimes': 875, '% of Total': 0.53}, {'Crime Type': 'Theft, Robbery, or Burglary', 'Victim Ethnicity': 'Asian', 'Total Crimes': 2535, '% of Total': 1.53}, {'Crime Type': 'Theft, Robbery, or Burglary', 'Victim Ethnicity': 'Asian Indian', 'Total Crimes': 10, '% of Total': 0.01}, {'Crime Type': 'Theft, Robbery, or Burglary', 'Victim Ethnicity': 'Black', 'Total Crimes': 7369, '% of Total': 4.44}, {'Crime Type': 'Theft, Robbery, or Burglary', 'Victim Ethnicity': 'Hispanic', 'Total Crimes': 15029, '% of Total': 9.05}, {'Crime Type': 'Theft, Robbery, or Burglary', 'Victim Ethnicity': 'Native American', 'Total Crimes': 43, '% of Total': 0.03}, {'Crime Type': 'Theft, Robbery, or Burglary', 'Victim Ethnicity': 'Other', 'Total Crimes': 5647, '% of Total': 3.4}, {'Crime Type': 'Theft, Robbery, or Burglary', 'Victim Ethnicity': 'Pacific Islander/Hawaiian', 'Total Crimes': 10, '% of Total': 0.01}, {'Crime Type': 'Theft, Robbery, or Burglary', 'Victim Ethnicity': 'White', 'Total Crimes': 13718, '% of Total': 8.26}, {'Crime Type': 'Trespassing', 'Victim Ethnicity': 'Asian', 'Total Crimes': 73, '% of Total': 0.04}, {'Crime Type': 'Trespassing', 'Victim Ethnicity': 'Black', 'Total Crimes': 277, '% of Total': 0.17}, {'Crime Type': 'Trespassing', 'Victim Ethnicity': 'Hispanic', 'Total Crimes': 559, '% of Total': 0.34}, {'Crime Type': 'Trespassing', 'Victim Ethnicity': 'Other', 'Total Crimes': 269, '% of Total': 0.16}, {'Crime Type': 'Trespassing', 'Victim Ethnicity': 'White', 'Total Crimes': 807, '% of Total': 0.49}, {'Crime Type': 'Vandalism', 'Victim Ethnicity': 'Asian', 'Total Crimes': 569, '% of Total': 0.34}, {'Crime Type': 'Vandalism', 'Victim Ethnicity': 'Asian Indian', 'Total Crimes': 2, '% of Total': 0.0}, {'Crime Type': 'Vandalism', 'Victim Ethnicity': 'Black', 'Total Crimes': 3255, '% of Total': 1.96}, {'Crime Type': 'Vandalism', 'Victim Ethnicity': 'Hispanic', 'Total Crimes': 7535, '% of Total': 4.54}, {'Crime Type': 'Vandalism', 'Victim Ethnicity': 'Native American', 'Total Crimes': 4, '% of Total': 0.0}, {'Crime Type': 'Vandalism', 'Victim Ethnicity': 'Other', 'Total Crimes': 1725, '% of Total': 1.04}, {'Crime Type': 'Vandalism', 'Victim Ethnicity': 'Pacific Islander/Hawaiian', 'Total Crimes': 6, '% of Total': 0.0}, {'Crime Type': 'Vandalism', 'Victim Ethnicity': 'White', 'Total Crimes': 4165, '% of Total': 2.51}, {'Crime Type': 'Vehicle Theft', 'Victim Ethnicity': 'Asian', 'Total Crimes': 8, '% of Total': 0.0}, {'Crime Type': 'Vehicle Theft', 'Victim Ethnicity': 'Black', 'Total Crimes': 36, '% of Total': 0.02}, {'Crime Type': 'Vehicle Theft', 'Victim Ethnicity': 'Hispanic', 'Total Crimes': 211, '% of Total': 0.13}, {'Crime Type': 'Vehicle Theft', 'Victim Ethnicity': 'Other', 'Total Crimes': 28, '% of Total': 0.02}, {'Crime Type': 'Vehicle Theft', 'Victim Ethnicity': 'White', 'Total Crimes': 77, '% of Total': 0.05}, {'Crime Type': 'Violation of Reatraining Order', 'Victim Ethnicity': 'Asian', 'Total Crimes': 35, '% of Total': 0.02}, {'Crime Type': 'Violation of Reatraining Order', 'Victim Ethnicity': 'Black', 'Total Crimes': 443, '% of Total': 0.27}, {'Crime Type': 'Violation of Reatraining Order', 'Victim Ethnicity': 'Hispanic', 'Total Crimes': 1323, '% of Total': 0.8}, {'Crime Type': 'Violation of Reatraining Order', 'Victim Ethnicity': 'Other', 'Total Crimes': 141, '% of Total': 0.08}, {'Crime Type': 'Violation of Reatraining Order', 'Victim Ethnicity': 'White', 'Total Crimes': 462, '% of Total': 0.28}]\n"
     ]
    }
   ],
   "source": [
    "query_ethnicity = text(\"\"\"\n",
    "    SELECT count(crime), crime, victim_ethnicity \n",
    "    FROM la_crime\n",
    "    WHERE year = 2018 \n",
    "    AND crime IS NOT NULL\n",
    "    AND victim_ethnicity IS NOT NULL\n",
    "    GROUP BY crime, victim_ethnicity\n",
    "\"\"\")\n",
    "result = engine.execute(query_ethnicity)\n",
    "rows = result.fetchall()\n",
    "crime_dict = []\n",
    "total_count = sum(row[0] for row in rows)\n",
    "for row in rows:\n",
    "    print(row)\n",
    "    crime_dict.append({\"Crime Type\": row[1], \"Victim Ethnicity\": row[2], \"Total Crimes\": row[0], \"% of Total\": round(row[0]/total_count*100,2)})\n",
    "print(crime_dict)\n"
   ]
  },
  {
   "cell_type": "code",
   "execution_count": 51,
   "id": "98d5422f",
   "metadata": {},
   "outputs": [
    {
     "name": "stderr",
     "output_type": "stream",
     "text": [
      "IOPub data rate exceeded.\n",
      "The notebook server will temporarily stop sending output\n",
      "to the client in order to avoid crashing it.\n",
      "To change this limit, set the config variable\n",
      "`--NotebookApp.iopub_data_rate_limit`.\n",
      "\n",
      "Current values:\n",
      "NotebookApp.iopub_data_rate_limit=1000000.0 (bytes/sec)\n",
      "NotebookApp.rate_limit_window=3.0 (secs)\n",
      "\n"
     ]
    }
   ],
   "source": [
    "query_location = text(\"\"\"\n",
    "    SELECT lat, lon, area_name, crime, premise, count(crime) as total_crimes \n",
    "    FROM la_crime \n",
    "    WHERE year = 2018 \n",
    "    AND crime IS NOT NULL \n",
    "    AND lat IS NOT NULL \n",
    "    AND lon IS NOT NULL \n",
    "    AND area_name IS NOT NULL \n",
    "    AND premise IS NOT NULL \n",
    "    GROUP BY lat, lon, area_name, crime, premise \n",
    "\"\"\")\n",
    "result = engine.execute(query_location)\n",
    "rows = result.fetchall()\n",
    "crime_dict = []\n",
    "for row in rows:\n",
    "    crime_dict.append({\n",
    "        \"Latitude\": row[0],\n",
    "        \"Longitude\": row[1],\n",
    "        \"Area Name\": row[2],\n",
    "        \"Crime Type\": row[3],\n",
    "        \"Premise\": row[4],\n",
    "        \"Total Crimes\": row[5]\n",
    "    })\n",
    "print(crime_dict)"
   ]
  },
  {
   "cell_type": "code",
   "execution_count": null,
   "id": "eecf7959",
   "metadata": {},
   "outputs": [],
   "source": [
    "query_location = text(\"\"\"\n",
    "    SELECT lat, lon, area_name, crime, premise \n",
    "    FROM la_crime\n",
    "    WHERE year = 2018 \n",
    "    AND crime IS NOT NULL\n",
    "    AND lat IS NOT NULL\n",
    "    AND lon IS NOT NULL\n",
    "    AND area_name IS NOT NULL\n",
    "    AND premise IS NOT NULL\n",
    "    LIMIT 10\n",
    "\"\"\")\n",
    "result = engine.execute(query_location)\n",
    "rows = result.fetchall()\n",
    "crime_dict = []\n",
    "for row in rows:\n",
    "    print(row)\n",
    "    crime_dict.append({\"Latitude\": row[0], \"Longitude\": row[1], \"Area Name\": row[2], \"Crime Type\": row[3], \"Premise\": row[4]})\n",
    "print(crime_dict)\n"
   ]
  },
  {
   "cell_type": "code",
   "execution_count": 52,
   "id": "4cb55bdc",
   "metadata": {},
   "outputs": [
    {
     "name": "stdout",
     "output_type": "stream",
     "text": [
      "[{'Year': 2020, 'Crime Type': 'Assault', 'Premise': 'Business', 'Area Name': '77th Street', 'Latitude': 0.0, 'Longitude': 0.0, 'Total Crimes': 2}, {'Year': 2020, 'Crime Type': 'Assault', 'Premise': 'Freeway/Street', 'Area Name': '77th Street', 'Latitude': 0.0, 'Longitude': 0.0, 'Total Crimes': 4}, {'Year': 2020, 'Crime Type': 'Assault', 'Premise': 'Hotel/Motel', 'Area Name': '77th Street', 'Latitude': 0.0, 'Longitude': 0.0, 'Total Crimes': 1}, {'Year': 2020, 'Crime Type': 'Assault', 'Premise': 'Residence', 'Area Name': '77th Street', 'Latitude': 0.0, 'Longitude': 0.0, 'Total Crimes': 13}, {'Year': 2020, 'Crime Type': 'Assault', 'Premise': 'Sidewalk', 'Area Name': '77th Street', 'Latitude': 0.0, 'Longitude': 0.0, 'Total Crimes': 1}, {'Year': 2021, 'Crime Type': 'Assault', 'Premise': 'Temp Housing', 'Area Name': '77th Street', 'Latitude': 0.0, 'Longitude': 0.0, 'Total Crimes': 1}, {'Year': 2021, 'Crime Type': 'Brandish Weapon', 'Premise': 'Freeway/Street', 'Area Name': '77th Street', 'Latitude': 0.0, 'Longitude': 0.0, 'Total Crimes': 2}, {'Year': 2021, 'Crime Type': 'Burglary from Vehicle', 'Premise': 'Church/Temple', 'Area Name': '77th Street', 'Latitude': 0.0, 'Longitude': 0.0, 'Total Crimes': 1}, {'Year': 2020, 'Crime Type': 'Burglary from Vehicle', 'Premise': 'Freeway/Street', 'Area Name': '77th Street', 'Latitude': 0.0, 'Longitude': 0.0, 'Total Crimes': 4}, {'Year': 2021, 'Crime Type': 'Burglary from Vehicle', 'Premise': 'Parking Lot/Garage', 'Area Name': '77th Street', 'Latitude': 0.0, 'Longitude': 0.0, 'Total Crimes': 2}, {'Year': 2021, 'Crime Type': 'Child Maltreatment', 'Premise': 'Residence', 'Area Name': '77th Street', 'Latitude': 0.0, 'Longitude': 0.0, 'Total Crimes': 1}, {'Year': 2021, 'Crime Type': 'Domestic Violence', 'Premise': 'Freeway/Street', 'Area Name': '77th Street', 'Latitude': 0.0, 'Longitude': 0.0, 'Total Crimes': 2}, {'Year': 2021, 'Crime Type': 'Domestic Violence', 'Premise': 'Park', 'Area Name': '77th Street', 'Latitude': 0.0, 'Longitude': 0.0, 'Total Crimes': 1}, {'Year': 2021, 'Crime Type': 'Domestic Violence', 'Premise': 'Parking Lot/Garage', 'Area Name': '77th Street', 'Latitude': 0.0, 'Longitude': 0.0, 'Total Crimes': 1}, {'Year': 2020, 'Crime Type': 'Domestic Violence', 'Premise': 'Residence', 'Area Name': '77th Street', 'Latitude': 0.0, 'Longitude': 0.0, 'Total Crimes': 10}, {'Year': 2021, 'Crime Type': 'Domestic Violence', 'Premise': 'Sidewalk', 'Area Name': '77th Street', 'Latitude': 0.0, 'Longitude': 0.0, 'Total Crimes': 2}, {'Year': 2021, 'Crime Type': 'Domestic Violence', 'Premise': 'Vehicle', 'Area Name': '77th Street', 'Latitude': 0.0, 'Longitude': 0.0, 'Total Crimes': 1}, {'Year': 2020, 'Crime Type': 'Identity Theft', 'Premise': 'Residence', 'Area Name': '77th Street', 'Latitude': 0.0, 'Longitude': 0.0, 'Total Crimes': 1}, {'Year': 2021, 'Crime Type': 'Theft, Robbery, or Burglary', 'Premise': 'Business', 'Area Name': '77th Street', 'Latitude': 0.0, 'Longitude': 0.0, 'Total Crimes': 1}, {'Year': 2021, 'Crime Type': 'Trespassing', 'Premise': 'Gas Station', 'Area Name': '77th Street', 'Latitude': 0.0, 'Longitude': 0.0, 'Total Crimes': 1}, {'Year': 2020, 'Crime Type': 'Trespassing', 'Premise': 'Residence', 'Area Name': '77th Street', 'Latitude': 0.0, 'Longitude': 0.0, 'Total Crimes': 5}, {'Year': 2021, 'Crime Type': 'Vandalism', 'Premise': 'Freeway/Street', 'Area Name': '77th Street', 'Latitude': 0.0, 'Longitude': 0.0, 'Total Crimes': 1}, {'Year': 2021, 'Crime Type': 'Vandalism', 'Premise': 'Residence', 'Area Name': '77th Street', 'Latitude': 0.0, 'Longitude': 0.0, 'Total Crimes': 3}, {'Year': 2020, 'Crime Type': 'Violation of Reatraining Order', 'Premise': 'Driveway', 'Area Name': '77th Street', 'Latitude': 0.0, 'Longitude': 0.0, 'Total Crimes': 1}, {'Year': 2020, 'Crime Type': 'Violation of Reatraining Order', 'Premise': 'Freeway/Street', 'Area Name': '77th Street', 'Latitude': 0.0, 'Longitude': 0.0, 'Total Crimes': 3}, {'Year': 2020, 'Crime Type': 'Violation of Reatraining Order', 'Premise': 'Residence', 'Area Name': '77th Street', 'Latitude': 0.0, 'Longitude': 0.0, 'Total Crimes': 8}, {'Year': 2020, 'Crime Type': 'Assault', 'Premise': 'Bus Stop/Station', 'Area Name': 'Central', 'Latitude': 0.0, 'Longitude': 0.0, 'Total Crimes': 9}, {'Year': 2021, 'Crime Type': 'Assault', 'Premise': 'Business', 'Area Name': 'Central', 'Latitude': 0.0, 'Longitude': 0.0, 'Total Crimes': 5}, {'Year': 2020, 'Crime Type': 'Assault', 'Premise': 'Freeway/Street', 'Area Name': 'Central', 'Latitude': 0.0, 'Longitude': 0.0, 'Total Crimes': 10}, {'Year': 2020, 'Crime Type': 'Assault', 'Premise': 'Hotel/Motel', 'Area Name': 'Central', 'Latitude': 0.0, 'Longitude': 0.0, 'Total Crimes': 2}, {'Year': 2021, 'Crime Type': 'Assault', 'Premise': 'Park', 'Area Name': 'Central', 'Latitude': 0.0, 'Longitude': 0.0, 'Total Crimes': 1}, {'Year': 2020, 'Crime Type': 'Assault', 'Premise': 'Residence', 'Area Name': 'Central', 'Latitude': 0.0, 'Longitude': 0.0, 'Total Crimes': 12}, {'Year': 2020, 'Crime Type': 'Assault', 'Premise': 'Sidewalk', 'Area Name': 'Central', 'Latitude': 0.0, 'Longitude': 0.0, 'Total Crimes': 20}, {'Year': 2020, 'Crime Type': 'Assault', 'Premise': 'Store', 'Area Name': 'Central', 'Latitude': 0.0, 'Longitude': 0.0, 'Total Crimes': 6}, {'Year': 2020, 'Crime Type': 'Brandish Weapon', 'Premise': 'Hotel/Motel', 'Area Name': 'Central', 'Latitude': 0.0, 'Longitude': 0.0, 'Total Crimes': 1}, {'Year': 2020, 'Crime Type': 'Brandish Weapon', 'Premise': 'Sidewalk', 'Area Name': 'Central', 'Latitude': 0.0, 'Longitude': 0.0, 'Total Crimes': 3}, {'Year': 2021, 'Crime Type': 'Child Maltreatment', 'Premise': 'Freeway/Street', 'Area Name': 'Central', 'Latitude': 0.0, 'Longitude': 0.0, 'Total Crimes': 1}, {'Year': 2020, 'Crime Type': 'Domestic Violence', 'Premise': 'Bus Stop/Station', 'Area Name': 'Central', 'Latitude': 0.0, 'Longitude': 0.0, 'Total Crimes': 1}, {'Year': 2020, 'Crime Type': 'Domestic Violence', 'Premise': 'Freeway/Street', 'Area Name': 'Central', 'Latitude': 0.0, 'Longitude': 0.0, 'Total Crimes': 3}, {'Year': 2020, 'Crime Type': 'Domestic Violence', 'Premise': 'Hotel/Motel', 'Area Name': 'Central', 'Latitude': 0.0, 'Longitude': 0.0, 'Total Crimes': 1}, {'Year': 2020, 'Crime Type': 'Domestic Violence', 'Premise': 'Residence', 'Area Name': 'Central', 'Latitude': 0.0, 'Longitude': 0.0, 'Total Crimes': 6}, {'Year': 2020, 'Crime Type': 'Domestic Violence', 'Premise': 'Sidewalk', 'Area Name': 'Central', 'Latitude': 0.0, 'Longitude': 0.0, 'Total Crimes': 3}, {'Year': 2021, 'Crime Type': 'Sexual Assualt or Rape', 'Premise': 'Bus Stop/Station', 'Area Name': 'Central', 'Latitude': 0.0, 'Longitude': 0.0, 'Total Crimes': 1}, {'Year': 2020, 'Crime Type': 'Theft, Robbery, or Burglary', 'Premise': 'Freeway/Street', 'Area Name': 'Central', 'Latitude': 0.0, 'Longitude': 0.0, 'Total Crimes': 1}, {'Year': 2021, 'Crime Type': 'Theft, Robbery, or Burglary', 'Premise': 'Sidewalk', 'Area Name': 'Central', 'Latitude': 0.0, 'Longitude': 0.0, 'Total Crimes': 1}, {'Year': 2020, 'Crime Type': 'Theft, Robbery, or Burglary', 'Premise': 'Store', 'Area Name': 'Central', 'Latitude': 0.0, 'Longitude': 0.0, 'Total Crimes': 10}, {'Year': 2021, 'Crime Type': 'Trespassing', 'Premise': 'Bank/ATM', 'Area Name': 'Central', 'Latitude': 0.0, 'Longitude': 0.0, 'Total Crimes': 1}, {'Year': 2021, 'Crime Type': 'Trespassing', 'Premise': 'Bus Stop/Station', 'Area Name': 'Central', 'Latitude': 0.0, 'Longitude': 0.0, 'Total Crimes': 2}, {'Year': 2020, 'Crime Type': 'Trespassing', 'Premise': 'Business', 'Area Name': 'Central', 'Latitude': 0.0, 'Longitude': 0.0, 'Total Crimes': 7}, {'Year': 2021, 'Crime Type': 'Trespassing', 'Premise': 'Freeway/Street', 'Area Name': 'Central', 'Latitude': 0.0, 'Longitude': 0.0, 'Total Crimes': 1}, {'Year': 2020, 'Crime Type': 'Trespassing', 'Premise': 'Hospital', 'Area Name': 'Central', 'Latitude': 0.0, 'Longitude': 0.0, 'Total Crimes': 1}, {'Year': 2020, 'Crime Type': 'Trespassing', 'Premise': 'Hotel/Motel', 'Area Name': 'Central', 'Latitude': 0.0, 'Longitude': 0.0, 'Total Crimes': 9}, {'Year': 2020, 'Crime Type': 'Trespassing', 'Premise': 'Parking Lot/Garage', 'Area Name': 'Central', 'Latitude': 0.0, 'Longitude': 0.0, 'Total Crimes': 3}, {'Year': 2020, 'Crime Type': 'Trespassing', 'Premise': 'Residence', 'Area Name': 'Central', 'Latitude': 0.0, 'Longitude': 0.0, 'Total Crimes': 5}, {'Year': 2021, 'Crime Type': 'Trespassing', 'Premise': 'Store', 'Area Name': 'Central', 'Latitude': 0.0, 'Longitude': 0.0, 'Total Crimes': 2}, {'Year': 2020, 'Crime Type': 'Vandalism', 'Premise': 'Bus Stop/Station', 'Area Name': 'Central', 'Latitude': 0.0, 'Longitude': 0.0, 'Total Crimes': 1}, {'Year': 2021, 'Crime Type': 'Vandalism', 'Premise': 'Business', 'Area Name': 'Central', 'Latitude': 0.0, 'Longitude': 0.0, 'Total Crimes': 1}, {'Year': 2021, 'Crime Type': 'Vandalism', 'Premise': 'Sidewalk', 'Area Name': 'Central', 'Latitude': 0.0, 'Longitude': 0.0, 'Total Crimes': 1}, {'Year': 2021, 'Crime Type': 'Vandalism', 'Premise': 'Vehicle', 'Area Name': 'Central', 'Latitude': 0.0, 'Longitude': 0.0, 'Total Crimes': 1}, {'Year': 2021, 'Crime Type': 'Violation of Reatraining Order', 'Premise': 'Freeway/Street', 'Area Name': 'Central', 'Latitude': 0.0, 'Longitude': 0.0, 'Total Crimes': 1}, {'Year': 2020, 'Crime Type': 'Violation of Reatraining Order', 'Premise': 'Residence', 'Area Name': 'Central', 'Latitude': 0.0, 'Longitude': 0.0, 'Total Crimes': 1}, {'Year': 2020, 'Crime Type': 'Assault', 'Premise': 'Business', 'Area Name': 'Devonshire', 'Latitude': 0.0, 'Longitude': 0.0, 'Total Crimes': 2}, {'Year': 2020, 'Crime Type': 'Assault', 'Premise': 'Freeway/Street', 'Area Name': 'Devonshire', 'Latitude': 0.0, 'Longitude': 0.0, 'Total Crimes': 2}, {'Year': 2020, 'Crime Type': 'Assault', 'Premise': 'Residence', 'Area Name': 'Devonshire', 'Latitude': 0.0, 'Longitude': 0.0, 'Total Crimes': 5}, {'Year': 2020, 'Crime Type': 'Assault', 'Premise': 'Sidewalk', 'Area Name': 'Devonshire', 'Latitude': 0.0, 'Longitude': 0.0, 'Total Crimes': 2}, {'Year': 2021, 'Crime Type': 'Assault', 'Premise': 'Yard', 'Area Name': 'Devonshire', 'Latitude': 0.0, 'Longitude': 0.0, 'Total Crimes': 1}, {'Year': 2021, 'Crime Type': 'Bike Theft', 'Premise': 'Parking Lot/Garage', 'Area Name': 'Devonshire', 'Latitude': 0.0, 'Longitude': 0.0, 'Total Crimes': 1}, {'Year': 2020, 'Crime Type': 'Bike Theft', 'Premise': 'Residence', 'Area Name': 'Devonshire', 'Latitude': 0.0, 'Longitude': 0.0, 'Total Crimes': 1}, {'Year': 2021, 'Crime Type': 'Bike Theft', 'Premise': 'Yard', 'Area Name': 'Devonshire', 'Latitude': 0.0, 'Longitude': 0.0, 'Total Crimes': 1}, {'Year': 2021, 'Crime Type': 'Brandish Weapon', 'Premise': 'Residence', 'Area Name': 'Devonshire', 'Latitude': 0.0, 'Longitude': 0.0, 'Total Crimes': 1}, {'Year': 2020, 'Crime Type': 'Brandish Weapon', 'Premise': 'Store', 'Area Name': 'Devonshire', 'Latitude': 0.0, 'Longitude': 0.0, 'Total Crimes': 2}, {'Year': 2020, 'Crime Type': 'Burglary from Vehicle', 'Premise': 'Business', 'Area Name': 'Devonshire', 'Latitude': 0.0, 'Longitude': 0.0, 'Total Crimes': 1}, {'Year': 2020, 'Crime Type': 'Burglary from Vehicle', 'Premise': 'Driveway', 'Area Name': 'Devonshire', 'Latitude': 0.0, 'Longitude': 0.0, 'Total Crimes': 3}, {'Year': 2020, 'Crime Type': 'Burglary from Vehicle', 'Premise': 'Freeway/Street', 'Area Name': 'Devonshire', 'Latitude': 0.0, 'Longitude': 0.0, 'Total Crimes': 2}, {'Year': 2020, 'Crime Type': 'Burglary from Vehicle', 'Premise': 'Parking Lot/Garage', 'Area Name': 'Devonshire', 'Latitude': 0.0, 'Longitude': 0.0, 'Total Crimes': 5}, {'Year': 2021, 'Crime Type': 'Burglary from Vehicle', 'Premise': 'Residence', 'Area Name': 'Devonshire', 'Latitude': 0.0, 'Longitude': 0.0, 'Total Crimes': 1}, {'Year': 2020, 'Crime Type': 'Burglary from Vehicle', 'Premise': 'Sidewalk', 'Area Name': 'Devonshire', 'Latitude': 0.0, 'Longitude': 0.0, 'Total Crimes': 1}, {'Year': 2021, 'Crime Type': 'Domestic Violence', 'Premise': 'Freeway/Street', 'Area Name': 'Devonshire', 'Latitude': 0.0, 'Longitude': 0.0, 'Total Crimes': 1}, {'Year': 2020, 'Crime Type': 'Domestic Violence', 'Premise': 'Residence', 'Area Name': 'Devonshire', 'Latitude': 0.0, 'Longitude': 0.0, 'Total Crimes': 2}, {'Year': 2021, 'Crime Type': 'Theft, Robbery, or Burglary', 'Premise': 'Parking Lot/Garage', 'Area Name': 'Devonshire', 'Latitude': 0.0, 'Longitude': 0.0, 'Total Crimes': 1}, {'Year': 2020, 'Crime Type': 'Theft, Robbery, or Burglary', 'Premise': 'Residence', 'Area Name': 'Devonshire', 'Latitude': 0.0, 'Longitude': 0.0, 'Total Crimes': 4}, {'Year': 2020, 'Crime Type': 'Trespassing', 'Premise': 'Residence', 'Area Name': 'Devonshire', 'Latitude': 0.0, 'Longitude': 0.0, 'Total Crimes': 4}, {'Year': 2020, 'Crime Type': 'Trespassing', 'Premise': 'Yard', 'Area Name': 'Devonshire', 'Latitude': 0.0, 'Longitude': 0.0, 'Total Crimes': 1}, {'Year': 2021, 'Crime Type': 'Vandalism', 'Premise': 'Sidewalk', 'Area Name': 'Devonshire', 'Latitude': 0.0, 'Longitude': 0.0, 'Total Crimes': 1}, {'Year': 2020, 'Crime Type': 'Vandalism', 'Premise': 'Vehicle', 'Area Name': 'Devonshire', 'Latitude': 0.0, 'Longitude': 0.0, 'Total Crimes': 1}, {'Year': 2020, 'Crime Type': 'Violation of Reatraining Order', 'Premise': 'Residence', 'Area Name': 'Devonshire', 'Latitude': 0.0, 'Longitude': 0.0, 'Total Crimes': 3}, {'Year': 2020, 'Crime Type': 'Assault', 'Premise': 'Freeway/Street', 'Area Name': 'Foothill', 'Latitude': 0.0, 'Longitude': 0.0, 'Total Crimes': 2}, {'Year': 2021, 'Crime Type': 'Assault', 'Premise': 'Hospital', 'Area Name': 'Foothill', 'Latitude': 0.0, 'Longitude': 0.0, 'Total Crimes': 1}, {'Year': 2020, 'Crime Type': 'Assault', 'Premise': 'Parking Lot/Garage', 'Area Name': 'Foothill', 'Latitude': 0.0, 'Longitude': 0.0, 'Total Crimes': 5}, {'Year': 2020, 'Crime Type': 'Assault', 'Premise': 'Residence', 'Area Name': 'Foothill', 'Latitude': 0.0, 'Longitude': 0.0, 'Total Crimes': 7}, {'Year': 2020, 'Crime Type': 'Brandish Weapon', 'Premise': 'Park', 'Area Name': 'Foothill', 'Latitude': 0.0, 'Longitude': 0.0, 'Total Crimes': 1}, {'Year': 2020, 'Crime Type': 'Burglary from Vehicle', 'Premise': 'Freeway/Street', 'Area Name': 'Foothill', 'Latitude': 0.0, 'Longitude': 0.0, 'Total Crimes': 4}, {'Year': 2021, 'Crime Type': 'Burglary from Vehicle', 'Premise': 'Parking Lot/Garage', 'Area Name': 'Foothill', 'Latitude': 0.0, 'Longitude': 0.0, 'Total Crimes': 1}, {'Year': 2020, 'Crime Type': 'Domestic Violence', 'Premise': 'Residence', 'Area Name': 'Foothill', 'Latitude': 0.0, 'Longitude': 0.0, 'Total Crimes': 5}, {'Year': 2021, 'Crime Type': 'Identity Theft', 'Premise': 'Residence', 'Area Name': 'Foothill', 'Latitude': 0.0, 'Longitude': 0.0, 'Total Crimes': 2}, {'Year': 2020, 'Crime Type': 'Theft, Robbery, or Burglary', 'Premise': 'Business', 'Area Name': 'Foothill', 'Latitude': 0.0, 'Longitude': 0.0, 'Total Crimes': 1}, {'Year': 2021, 'Crime Type': 'Theft, Robbery, or Burglary', 'Premise': 'Sidewalk', 'Area Name': 'Foothill', 'Latitude': 0.0, 'Longitude': 0.0, 'Total Crimes': 1}, {'Year': 2020, 'Crime Type': 'Theft, Robbery, or Burglary', 'Premise': 'Store', 'Area Name': 'Foothill', 'Latitude': 0.0, 'Longitude': 0.0, 'Total Crimes': 2}, {'Year': 2020, 'Crime Type': 'Trespassing', 'Premise': 'Residence', 'Area Name': 'Foothill', 'Latitude': 0.0, 'Longitude': 0.0, 'Total Crimes': 6}, {'Year': 2021, 'Crime Type': 'Vandalism', 'Premise': 'Business', 'Area Name': 'Foothill', 'Latitude': 0.0, 'Longitude': 0.0, 'Total Crimes': 1}, {'Year': 2021, 'Crime Type': 'Vandalism', 'Premise': 'School/College', 'Area Name': 'Foothill', 'Latitude': 0.0, 'Longitude': 0.0, 'Total Crimes': 1}, {'Year': 2021, 'Crime Type': 'Vandalism', 'Premise': 'Vehicle', 'Area Name': 'Foothill', 'Latitude': 0.0, 'Longitude': 0.0, 'Total Crimes': 1}, {'Year': 2020, 'Crime Type': 'Violation of Reatraining Order', 'Premise': 'Residence', 'Area Name': 'Foothill', 'Latitude': 0.0, 'Longitude': 0.0, 'Total Crimes': 5}, {'Year': 2020, 'Crime Type': 'Assault', 'Premise': 'Driveway', 'Area Name': 'Harbor', 'Latitude': 0.0, 'Longitude': 0.0, 'Total Crimes': 1}, {'Year': 2021, 'Crime Type': 'Assault', 'Premise': 'Freeway/Street', 'Area Name': 'Harbor', 'Latitude': 0.0, 'Longitude': 0.0, 'Total Crimes': 1}, {'Year': 2020, 'Crime Type': 'Assault', 'Premise': 'Residence', 'Area Name': 'Harbor', 'Latitude': 0.0, 'Longitude': 0.0, 'Total Crimes': 8}, {'Year': 2020, 'Crime Type': 'Assault', 'Premise': 'Store', 'Area Name': 'Harbor', 'Latitude': 0.0, 'Longitude': 0.0, 'Total Crimes': 2}, {'Year': 2021, 'Crime Type': 'Assault', 'Premise': 'Vehicle', 'Area Name': 'Harbor', 'Latitude': 0.0, 'Longitude': 0.0, 'Total Crimes': 1}, {'Year': 2021, 'Crime Type': 'Burglary from Vehicle', 'Premise': 'Freeway/Street', 'Area Name': 'Harbor', 'Latitude': 0.0, 'Longitude': 0.0, 'Total Crimes': 2}, {'Year': 2020, 'Crime Type': 'Domestic Violence', 'Premise': 'Residence', 'Area Name': 'Harbor', 'Latitude': 0.0, 'Longitude': 0.0, 'Total Crimes': 5}, {'Year': 2018, 'Crime Type': 'Sexual Assualt or Rape', 'Premise': 'Residence', 'Area Name': 'Harbor', 'Latitude': 0.0, 'Longitude': 0.0, 'Total Crimes': 1}, {'Year': 2021, 'Crime Type': 'Trespassing', 'Premise': 'Business', 'Area Name': 'Harbor', 'Latitude': 0.0, 'Longitude': 0.0, 'Total Crimes': 1}, {'Year': 2021, 'Crime Type': 'Trespassing', 'Premise': 'Residence', 'Area Name': 'Harbor', 'Latitude': 0.0, 'Longitude': 0.0, 'Total Crimes': 3}, {'Year': 2021, 'Crime Type': 'Vandalism', 'Premise': 'Business', 'Area Name': 'Harbor', 'Latitude': 0.0, 'Longitude': 0.0, 'Total Crimes': 1}, {'Year': 2021, 'Crime Type': 'Vandalism', 'Premise': 'Vehicle', 'Area Name': 'Harbor', 'Latitude': 0.0, 'Longitude': 0.0, 'Total Crimes': 1}, {'Year': 2020, 'Crime Type': 'Violation of Reatraining Order', 'Premise': 'Residence', 'Area Name': 'Harbor', 'Latitude': 0.0, 'Longitude': 0.0, 'Total Crimes': 14}, {'Year': 2020, 'Crime Type': 'Assault', 'Premise': 'Business', 'Area Name': 'Hollenbeck', 'Latitude': 0.0, 'Longitude': 0.0, 'Total Crimes': 2}, {'Year': 2021, 'Crime Type': 'Assault', 'Premise': 'Market', 'Area Name': 'Hollenbeck', 'Latitude': 0.0, 'Longitude': 0.0, 'Total Crimes': 1}, {'Year': 2020, 'Crime Type': 'Assault', 'Premise': 'Residence', 'Area Name': 'Hollenbeck', 'Latitude': 0.0, 'Longitude': 0.0, 'Total Crimes': 10}, {'Year': 2020, 'Crime Type': 'Assault', 'Premise': 'Yard', 'Area Name': 'Hollenbeck', 'Latitude': 0.0, 'Longitude': 0.0, 'Total Crimes': 2}, {'Year': 2021, 'Crime Type': 'Brandish Weapon', 'Premise': 'Freeway/Street', 'Area Name': 'Hollenbeck', 'Latitude': 0.0, 'Longitude': 0.0, 'Total Crimes': 1}, {'Year': 2021, 'Crime Type': 'Brandish Weapon', 'Premise': 'Residence', 'Area Name': 'Hollenbeck', 'Latitude': 0.0, 'Longitude': 0.0, 'Total Crimes': 1}, {'Year': 2020, 'Crime Type': 'Burglary from Vehicle', 'Premise': 'Freeway/Street', 'Area Name': 'Hollenbeck', 'Latitude': 0.0, 'Longitude': 0.0, 'Total Crimes': 1}, {'Year': 2020, 'Crime Type': 'Domestic Violence', 'Premise': 'Freeway/Street', 'Area Name': 'Hollenbeck', 'Latitude': 0.0, 'Longitude': 0.0, 'Total Crimes': 1}, {'Year': 2020, 'Crime Type': 'Domestic Violence', 'Premise': 'Residence', 'Area Name': 'Hollenbeck', 'Latitude': 0.0, 'Longitude': 0.0, 'Total Crimes': 9}, {'Year': 2021, 'Crime Type': 'Theft, Robbery, or Burglary', 'Premise': 'Freeway/Street', 'Area Name': 'Hollenbeck', 'Latitude': 0.0, 'Longitude': 0.0, 'Total Crimes': 1}, {'Year': 2021, 'Crime Type': 'Trespassing', 'Premise': 'Business', 'Area Name': 'Hollenbeck', 'Latitude': 0.0, 'Longitude': 0.0, 'Total Crimes': 1}, {'Year': 2020, 'Crime Type': 'Trespassing', 'Premise': 'Residence', 'Area Name': 'Hollenbeck', 'Latitude': 0.0, 'Longitude': 0.0, 'Total Crimes': 2}, {'Year': 2020, 'Crime Type': 'Violation of Reatraining Order', 'Premise': 'Business', 'Area Name': 'Hollenbeck', 'Latitude': 0.0, 'Longitude': 0.0, 'Total Crimes': 2}, {'Year': 2020, 'Crime Type': 'Violation of Reatraining Order', 'Premise': 'Park', 'Area Name': 'Hollenbeck', 'Latitude': 0.0, 'Longitude': 0.0, 'Total Crimes': 1}, {'Year': 2020, 'Crime Type': 'Violation of Reatraining Order', 'Premise': 'Residence', 'Area Name': 'Hollenbeck', 'Latitude': 0.0, 'Longitude': 0.0, 'Total Crimes': 12}, {'Year': 2021, 'Crime Type': 'Assault', 'Premise': 'Bus Stop/Station', 'Area Name': 'Hollywood', 'Latitude': 0.0, 'Longitude': 0.0, 'Total Crimes': 1}, {'Year': 2021, 'Crime Type': 'Assault', 'Premise': 'Business', 'Area Name': 'Hollywood', 'Latitude': 0.0, 'Longitude': 0.0, 'Total Crimes': 5}, {'Year': 2020, 'Crime Type': 'Assault', 'Premise': 'Freeway/Street', 'Area Name': 'Hollywood', 'Latitude': 0.0, 'Longitude': 0.0, 'Total Crimes': 8}, {'Year': 2021, 'Crime Type': 'Assault', 'Premise': 'Hotel/Motel', 'Area Name': 'Hollywood', 'Latitude': 0.0, 'Longitude': 0.0, 'Total Crimes': 3}, {'Year': 2021, 'Crime Type': 'Assault', 'Premise': 'Parking Lot/Garage', 'Area Name': 'Hollywood', 'Latitude': 0.0, 'Longitude': 0.0, 'Total Crimes': 4}, {'Year': 2020, 'Crime Type': 'Assault', 'Premise': 'Residence', 'Area Name': 'Hollywood', 'Latitude': 0.0, 'Longitude': 0.0, 'Total Crimes': 7}, {'Year': 2020, 'Crime Type': 'Assault', 'Premise': 'Sidewalk', 'Area Name': 'Hollywood', 'Latitude': 0.0, 'Longitude': 0.0, 'Total Crimes': 14}, {'Year': 2021, 'Crime Type': 'Assault', 'Premise': 'Store', 'Area Name': 'Hollywood', 'Latitude': 0.0, 'Longitude': 0.0, 'Total Crimes': 3}, {'Year': 2021, 'Crime Type': 'Bike Theft', 'Premise': 'Business', 'Area Name': 'Hollywood', 'Latitude': 0.0, 'Longitude': 0.0, 'Total Crimes': 2}, {'Year': 2021, 'Crime Type': 'Bike Theft', 'Premise': 'Parking Lot/Garage', 'Area Name': 'Hollywood', 'Latitude': 0.0, 'Longitude': 0.0, 'Total Crimes': 3}, {'Year': 2020, 'Crime Type': 'Bike Theft', 'Premise': 'Sidewalk', 'Area Name': 'Hollywood', 'Latitude': 0.0, 'Longitude': 0.0, 'Total Crimes': 1}, {'Year': 2020, 'Crime Type': 'Brandish Weapon', 'Premise': 'Business', 'Area Name': 'Hollywood', 'Latitude': 0.0, 'Longitude': 0.0, 'Total Crimes': 2}, {'Year': 2021, 'Crime Type': 'Brandish Weapon', 'Premise': 'Gas Station', 'Area Name': 'Hollywood', 'Latitude': 0.0, 'Longitude': 0.0, 'Total Crimes': 1}, {'Year': 2021, 'Crime Type': 'Brandish Weapon', 'Premise': 'Residence', 'Area Name': 'Hollywood', 'Latitude': 0.0, 'Longitude': 0.0, 'Total Crimes': 1}, {'Year': 2021, 'Crime Type': 'Burglary from Vehicle', 'Premise': 'Freeway/Street', 'Area Name': 'Hollywood', 'Latitude': 0.0, 'Longitude': 0.0, 'Total Crimes': 1}, {'Year': 2021, 'Crime Type': 'Child Maltreatment', 'Premise': 'Residence', 'Area Name': 'Hollywood', 'Latitude': 0.0, 'Longitude': 0.0, 'Total Crimes': 1}, {'Year': 2020, 'Crime Type': 'Domestic Violence', 'Premise': 'Freeway/Street', 'Area Name': 'Hollywood', 'Latitude': 0.0, 'Longitude': 0.0, 'Total Crimes': 4}, {'Year': 2021, 'Crime Type': 'Domestic Violence', 'Premise': 'Parking Lot/Garage', 'Area Name': 'Hollywood', 'Latitude': 0.0, 'Longitude': 0.0, 'Total Crimes': 1}, {'Year': 2020, 'Crime Type': 'Domestic Violence', 'Premise': 'Residence', 'Area Name': 'Hollywood', 'Latitude': 0.0, 'Longitude': 0.0, 'Total Crimes': 10}, {'Year': 2021, 'Crime Type': 'Domestic Violence', 'Premise': 'Sidewalk', 'Area Name': 'Hollywood', 'Latitude': 0.0, 'Longitude': 0.0, 'Total Crimes': 1}, {'Year': 2021, 'Crime Type': 'Domestic Violence', 'Premise': 'Yard', 'Area Name': 'Hollywood', 'Latitude': 0.0, 'Longitude': 0.0, 'Total Crimes': 1}, {'Year': 2018, 'Crime Type': 'Identity Theft', 'Premise': 'Business', 'Area Name': 'Hollywood', 'Latitude': 0.0, 'Longitude': 0.0, 'Total Crimes': 2}, {'Year': 2020, 'Crime Type': 'Identity Theft', 'Premise': 'Residence', 'Area Name': 'Hollywood', 'Latitude': 0.0, 'Longitude': 0.0, 'Total Crimes': 5}, {'Year': 2021, 'Crime Type': 'Sexual Assualt or Rape', 'Premise': 'Freeway/Street', 'Area Name': 'Hollywood', 'Latitude': 0.0, 'Longitude': 0.0, 'Total Crimes': 1}, {'Year': 2020, 'Crime Type': 'Sexual Assualt or Rape', 'Premise': 'Residence', 'Area Name': 'Hollywood', 'Latitude': 0.0, 'Longitude': 0.0, 'Total Crimes': 1}, {'Year': 2020, 'Crime Type': 'Sexual Assualt or Rape', 'Premise': 'Sidewalk', 'Area Name': 'Hollywood', 'Latitude': 0.0, 'Longitude': 0.0, 'Total Crimes': 1}, {'Year': 2020, 'Crime Type': 'Theft, Robbery, or Burglary', 'Premise': 'Bus Stop/Station', 'Area Name': 'Hollywood', 'Latitude': 0.0, 'Longitude': 0.0, 'Total Crimes': 2}, {'Year': 2020, 'Crime Type': 'Theft, Robbery, or Burglary', 'Premise': 'Business', 'Area Name': 'Hollywood', 'Latitude': 0.0, 'Longitude': 0.0, 'Total Crimes': 22}, {'Year': 2021, 'Crime Type': 'Theft, Robbery, or Burglary', 'Premise': 'Church/Temple', 'Area Name': 'Hollywood', 'Latitude': 0.0, 'Longitude': 0.0, 'Total Crimes': 1}, {'Year': 2021, 'Crime Type': 'Theft, Robbery, or Burglary', 'Premise': 'Freeway/Street', 'Area Name': 'Hollywood', 'Latitude': 0.0, 'Longitude': 0.0, 'Total Crimes': 1}, {'Year': 2021, 'Crime Type': 'Theft, Robbery, or Burglary', 'Premise': 'Gas Station', 'Area Name': 'Hollywood', 'Latitude': 0.0, 'Longitude': 0.0, 'Total Crimes': 1}, {'Year': 2021, 'Crime Type': 'Theft, Robbery, or Burglary', 'Premise': 'Market', 'Area Name': 'Hollywood', 'Latitude': 0.0, 'Longitude': 0.0, 'Total Crimes': 1}, {'Year': 2021, 'Crime Type': 'Theft, Robbery, or Burglary', 'Premise': 'Park', 'Area Name': 'Hollywood', 'Latitude': 0.0, 'Longitude': 0.0, 'Total Crimes': 1}, {'Year': 2020, 'Crime Type': 'Theft, Robbery, or Burglary', 'Premise': 'Residence', 'Area Name': 'Hollywood', 'Latitude': 0.0, 'Longitude': 0.0, 'Total Crimes': 36}, {'Year': 2020, 'Crime Type': 'Theft, Robbery, or Burglary', 'Premise': 'School/College', 'Area Name': 'Hollywood', 'Latitude': 0.0, 'Longitude': 0.0, 'Total Crimes': 1}, {'Year': 2021, 'Crime Type': 'Theft, Robbery, or Burglary', 'Premise': 'Sidewalk', 'Area Name': 'Hollywood', 'Latitude': 0.0, 'Longitude': 0.0, 'Total Crimes': 4}, {'Year': 2021, 'Crime Type': 'Theft, Robbery, or Burglary', 'Premise': 'Store', 'Area Name': 'Hollywood', 'Latitude': 0.0, 'Longitude': 0.0, 'Total Crimes': 1}, {'Year': 2021, 'Crime Type': 'Theft, Robbery, or Burglary', 'Premise': 'Vehicle', 'Area Name': 'Hollywood', 'Latitude': 0.0, 'Longitude': 0.0, 'Total Crimes': 1}, {'Year': 2021, 'Crime Type': 'Trespassing', 'Premise': 'Business', 'Area Name': 'Hollywood', 'Latitude': 0.0, 'Longitude': 0.0, 'Total Crimes': 1}, {'Year': 2020, 'Crime Type': 'Trespassing', 'Premise': 'Residence', 'Area Name': 'Hollywood', 'Latitude': 0.0, 'Longitude': 0.0, 'Total Crimes': 17}, {'Year': 2020, 'Crime Type': 'Vandalism', 'Premise': 'Business', 'Area Name': 'Hollywood', 'Latitude': 0.0, 'Longitude': 0.0, 'Total Crimes': 2}, {'Year': 2020, 'Crime Type': 'Vandalism', 'Premise': 'Freeway/Street', 'Area Name': 'Hollywood', 'Latitude': 0.0, 'Longitude': 0.0, 'Total Crimes': 9}, {'Year': 2021, 'Crime Type': 'Vandalism', 'Premise': 'Parking Lot/Garage', 'Area Name': 'Hollywood', 'Latitude': 0.0, 'Longitude': 0.0, 'Total Crimes': 4}, {'Year': 2020, 'Crime Type': 'Vandalism', 'Premise': 'Residence', 'Area Name': 'Hollywood', 'Latitude': 0.0, 'Longitude': 0.0, 'Total Crimes': 19}, {'Year': 2021, 'Crime Type': 'Vandalism', 'Premise': 'Vehicle', 'Area Name': 'Hollywood', 'Latitude': 0.0, 'Longitude': 0.0, 'Total Crimes': 1}, {'Year': 2020, 'Crime Type': 'Violation of Reatraining Order', 'Premise': 'Freeway/Street', 'Area Name': 'Hollywood', 'Latitude': 0.0, 'Longitude': 0.0, 'Total Crimes': 3}, {'Year': 2020, 'Crime Type': 'Violation of Reatraining Order', 'Premise': 'Residence', 'Area Name': 'Hollywood', 'Latitude': 0.0, 'Longitude': 0.0, 'Total Crimes': 7}, {'Year': 2020, 'Crime Type': 'Assault', 'Premise': 'Business', 'Area Name': 'Mission', 'Latitude': 0.0, 'Longitude': 0.0, 'Total Crimes': 1}, {'Year': 2020, 'Crime Type': 'Assault', 'Premise': 'Freeway/Street', 'Area Name': 'Mission', 'Latitude': 0.0, 'Longitude': 0.0, 'Total Crimes': 2}, {'Year': 2020, 'Crime Type': 'Assault', 'Premise': 'Hospital', 'Area Name': 'Mission', 'Latitude': 0.0, 'Longitude': 0.0, 'Total Crimes': 1}, {'Year': 2021, 'Crime Type': 'Assault', 'Premise': 'Market', 'Area Name': 'Mission', 'Latitude': 0.0, 'Longitude': 0.0, 'Total Crimes': 1}, {'Year': 2020, 'Crime Type': 'Assault', 'Premise': 'Nursing Home', 'Area Name': 'Mission', 'Latitude': 0.0, 'Longitude': 0.0, 'Total Crimes': 2}, {'Year': 2021, 'Crime Type': 'Assault', 'Premise': 'Parking Lot/Garage', 'Area Name': 'Mission', 'Latitude': 0.0, 'Longitude': 0.0, 'Total Crimes': 2}, {'Year': 2021, 'Crime Type': 'Assault', 'Premise': 'Residence', 'Area Name': 'Mission', 'Latitude': 0.0, 'Longitude': 0.0, 'Total Crimes': 4}, {'Year': 2021, 'Crime Type': 'Assault', 'Premise': 'School/College', 'Area Name': 'Mission', 'Latitude': 0.0, 'Longitude': 0.0, 'Total Crimes': 1}, {'Year': 2021, 'Crime Type': 'Brandish Weapon', 'Premise': 'Freeway/Street', 'Area Name': 'Mission', 'Latitude': 0.0, 'Longitude': 0.0, 'Total Crimes': 1}, {'Year': 2021, 'Crime Type': 'Brandish Weapon', 'Premise': 'Residence', 'Area Name': 'Mission', 'Latitude': 0.0, 'Longitude': 0.0, 'Total Crimes': 1}, {'Year': 2021, 'Crime Type': 'Brandish Weapon', 'Premise': 'Sidewalk', 'Area Name': 'Mission', 'Latitude': 0.0, 'Longitude': 0.0, 'Total Crimes': 1}, {'Year': 2020, 'Crime Type': 'Burglary from Vehicle', 'Premise': 'Freeway/Street', 'Area Name': 'Mission', 'Latitude': 0.0, 'Longitude': 0.0, 'Total Crimes': 2}, {'Year': 2021, 'Crime Type': 'Burglary from Vehicle', 'Premise': 'Parking Lot/Garage', 'Area Name': 'Mission', 'Latitude': 0.0, 'Longitude': 0.0, 'Total Crimes': 1}, {'Year': 2020, 'Crime Type': 'Criminal threat', 'Premise': 'School/College', 'Area Name': 'Mission', 'Latitude': 0.0, 'Longitude': 0.0, 'Total Crimes': 1}, {'Year': 2019, 'Crime Type': 'Domestic Violence', 'Premise': 'Freeway/Street', 'Area Name': 'Mission', 'Latitude': 0.0, 'Longitude': 0.0, 'Total Crimes': 1}, {'Year': 2021, 'Crime Type': 'Domestic Violence', 'Premise': 'Parking Lot/Garage', 'Area Name': 'Mission', 'Latitude': 0.0, 'Longitude': 0.0, 'Total Crimes': 1}, {'Year': 2020, 'Crime Type': 'Domestic Violence', 'Premise': 'Residence', 'Area Name': 'Mission', 'Latitude': 0.0, 'Longitude': 0.0, 'Total Crimes': 5}, {'Year': 2018, 'Crime Type': 'Identity Theft', 'Premise': 'Freeway/Street', 'Area Name': 'Mission', 'Latitude': 0.0, 'Longitude': 0.0, 'Total Crimes': 1}, {'Year': 2021, 'Crime Type': 'Identity Theft', 'Premise': 'Residence', 'Area Name': 'Mission', 'Latitude': 0.0, 'Longitude': 0.0, 'Total Crimes': 1}, {'Year': 2020, 'Crime Type': 'Sexual Assualt or Rape', 'Premise': 'Market', 'Area Name': 'Mission', 'Latitude': 0.0, 'Longitude': 0.0, 'Total Crimes': 3}, {'Year': 2020, 'Crime Type': 'Sexual Assualt or Rape', 'Premise': 'Store', 'Area Name': 'Mission', 'Latitude': 0.0, 'Longitude': 0.0, 'Total Crimes': 1}, {'Year': 2020, 'Crime Type': 'Theft, Robbery, or Burglary', 'Premise': 'Market', 'Area Name': 'Mission', 'Latitude': 0.0, 'Longitude': 0.0, 'Total Crimes': 1}]\n"
     ]
    }
   ],
   "source": [
    "#query to show crime by year, geoloc, area, premis and crime typ\n",
    "query_location = text(\"\"\"\n",
    "    SELECT count(crime), lat, lon, area_name, crime, premise, year\n",
    "    FROM la_crime\n",
    "    WHERE year = year \n",
    "    AND crime IS NOT NULL\n",
    "    AND lat IS NOT NULL\n",
    "    AND lon IS NOT NULL\n",
    "    AND area_name IS NOT NULL\n",
    "    AND premise IS NOT NULL\n",
    "    GROUP BY lat, lon, area_name, crime, premise\n",
    "    LIMIT 200\n",
    "\"\"\")\n",
    "result = engine.execute(query_location)\n",
    "rows = result.fetchall()\n",
    "crime_dict = []\n",
    "for row in rows:\n",
    "    crime_dict.append({\"Year\": row[6], \"Crime Type\": row[4], \"Premise\": row[5], \"Area Name\": row[3], \"Latitude\": row[1], \"Longitude\": row[2], \"Total Crimes\": row[0]})\n",
    "print(crime_dict)\n"
   ]
  },
  {
   "cell_type": "code",
   "execution_count": null,
   "id": "42897934",
   "metadata": {},
   "outputs": [],
   "source": [
    "#query to show crime by year, geoloc, area, premis and crime typ\n",
    "query_location = text(\"\"\"\n",
    "    SELECT count(crime), lat, lon, area_name, crime, premise, year\n",
    "    FROM la_crime\n",
    "    WHERE year = 2018\n",
    "    AND crime = \"Assault\"\n",
    "    AND crime IS NOT NULL\n",
    "    AND lat IS NOT NULL\n",
    "    AND lon IS NOT NULL\n",
    "    AND area_name IS NOT NULL\n",
    "    AND premise IS NOT NULL\n",
    "    GROUP BY lat, lon, area_name, crime, premise\n",
    "    LIMIT 200\n",
    "\"\"\")\n",
    "result = engine.execute(query_location)\n",
    "rows = result.fetchall()\n",
    "crime_dict = []\n",
    "for row in rows:\n",
    "    crime_dict.append({\"Year\": row[6], \"Crime Type\": row[4], \"Premise\": row[5], \"Area Name\": row[3], \"Latitude\": row[1], \"Longitude\": row[2], \"Total Crimes\": row[0]})\n",
    "print(crime_dict)"
   ]
  },
  {
   "cell_type": "code",
   "execution_count": null,
   "id": "cf28be64",
   "metadata": {},
   "outputs": [],
   "source": [
    "# Define the la_crime class , which will have a one-to-one relationship with the Area, premise and crime type tables\n",
    "class CrimeJoined(Base):\n",
    "    __tablename__ = 'la_crime'\n",
    "    id = Column(Integer, primary_key=True, autoincrement=True)\n",
    "    incident_id = Column(Integer)\n",
    "    year = Column(Integer)\n",
    "    month = Column(Integer)\n",
    "    month_name = Column(String)\n",
    "    victim_age = Column(String)\n",
    "    victim_ethnicity = Column(String)\n",
    "    victim_gender = Column(String)\n",
    "    lat = Column(Float)\n",
    "    lon = Column(Float)\n",
    "    area_code = Column(Integer)\n",
    "    crime_code = Column(Integer)\n",
    "    premise_code = Column(Integer)\n",
    "    area_name = Column(String, nullable=False)\n",
    "    crime = Column(String, nullable=False)\n",
    "    premise = Column(String, nullable=False)"
   ]
  }
 ],
 "metadata": {
  "kernelspec": {
   "display_name": "PythonData",
   "language": "python",
   "name": "pythondata"
  },
  "language_info": {
   "codemirror_mode": {
    "name": "ipython",
    "version": 3
   },
   "file_extension": ".py",
   "mimetype": "text/x-python",
   "name": "python",
   "nbconvert_exporter": "python",
   "pygments_lexer": "ipython3",
   "version": "3.7.7"
  }
 },
 "nbformat": 4,
 "nbformat_minor": 5
}
