{
 "cells": [
  {
   "cell_type": "code",
   "execution_count": 1,
   "id": "24a30770",
   "metadata": {},
   "outputs": [],
   "source": [
    "# dependencies\n",
    "from sqlalchemy import create_engine\n",
    "# Create an engine that can talk to the database\n",
    "engine = create_engine(\"sqlite:///Resources/la_crime.db\")"
   ]
  },
  {
   "cell_type": "markdown",
   "id": "22582450",
   "metadata": {},
   "source": [
    "## Checking Database Data"
   ]
  },
  {
   "cell_type": "code",
   "execution_count": 8,
   "id": "88e6721f",
   "metadata": {},
   "outputs": [
    {
     "name": "stdout",
     "output_type": "stream",
     "text": [
      "(180512192, 2018, 6, 'June', '31-40', 'Hispanic', 'Female', 33.7932, -118.2648, 5, 626, 501)\n",
      "(181211151, 2018, 4, 'April', '51-60', 'Hispanic', 'Female', 33.9891, -118.3167, 12, 624, 101)\n",
      "(180220154, 2018, 9, 'September', '61-70', 'Hispanic', 'Female', 34.0529, -118.2733, 2, 624, 502)\n",
      "(190909830, 2018, 10, 'October', '31-40', 'Hispanic', 'Female', 34.1867, -118.4181, 9, 440, 502)\n",
      "(181113371, 2018, 7, 'July', '71+', 'White', 'Male', 34.1008, -118.2665, 11, 440, 501)\n",
      "(182019832, 2018, 8, 'August', '31-40', 'Asian', 'Female', 34.0588, -118.2941, 20, 440, 502)\n",
      "(181421617, 2018, 10, 'October', '31-40', 'White', 'Male', 34.029, -118.4032, 14, 480, 707)\n",
      "(180810320, 2018, 5, 'May', '51-60', 'White', 'Male', 34.0711, -118.46700000000001, 8, 649, 501)\n",
      "(180106451, 2018, 2, 'February', '21-30', 'Hispanic', 'Male', 34.0522, -118.2434, 1, 624, 102)\n",
      "(180413435, 2018, 3, 'March', '11-20', 'Hispanic', 'Female', 34.0299, -118.2037, 4, 860, 501)\n"
     ]
    }
   ],
   "source": [
    "# Query data from crime table\n",
    "crime_data = engine.execute(\"SELECT * FROM crime\")\n",
    "\n",
    "i = 0\n",
    "for record in crime_data:\n",
    "    print(record)\n",
    "    i += 1\n",
    "    if i == 10:\n",
    "        break"
   ]
  },
  {
   "cell_type": "code",
   "execution_count": 3,
   "id": "fbe42890",
   "metadata": {},
   "outputs": [
    {
     "name": "stdout",
     "output_type": "stream",
     "text": [
      "(626, 'Domestic Violence')\n",
      "(624, 'Assault')\n",
      "(440, 'Theft, Robbery, or Burglary')\n",
      "(480, 'Bike Theft')\n",
      "(649, 'Forgery')\n",
      "(860, 'Sexual Assualt or Rape')\n",
      "(421, 'Burglary from Vehicle')\n",
      "(740, 'Vandalism')\n",
      "(341, 'Theft, Robbery, or Burglary')\n",
      "(888, 'Trespassing')\n"
     ]
    }
   ],
   "source": [
    "# Query data from crime type table\n",
    "crime_type_data = engine.execute(\"SELECT * FROM crime_type\")\n",
    "\n",
    "i = 0\n",
    "for record in crime_type_data:\n",
    "    print(record)\n",
    "    i += 1\n",
    "    if i == 10:\n",
    "        break"
   ]
  },
  {
   "cell_type": "code",
   "execution_count": 4,
   "id": "96ef46a6",
   "metadata": {},
   "outputs": [
    {
     "name": "stdout",
     "output_type": "stream",
     "text": [
      "(5, 'Harbor')\n",
      "(12, '77th Street')\n",
      "(2, 'Rampart')\n",
      "(9, 'Van Nuys')\n",
      "(11, 'Northeast')\n",
      "(20, 'Olympic')\n",
      "(14, 'Pacific')\n",
      "(8, 'West LA')\n",
      "(1, 'Central')\n",
      "(4, 'Hollenbeck')\n"
     ]
    }
   ],
   "source": [
    "# Query data from crime table\n",
    "pdata = engine.execute(\"SELECT * FROM area\")\n",
    "\n",
    "i = 0\n",
    "for record in data:\n",
    "    print(record)\n",
    "    i += 1\n",
    "    if i == 10:\n",
    "        break"
   ]
  },
  {
   "cell_type": "code",
   "execution_count": 5,
   "id": "edffe813",
   "metadata": {},
   "outputs": [
    {
     "name": "stdout",
     "output_type": "stream",
     "text": [
      "(501, 'Residence')\n",
      "(101, 'Freeway/Street')\n",
      "(502, 'Residence')\n",
      "(707, 'Residence')\n",
      "(102, 'Sidewalk')\n",
      "(103, 'Freeway/Street')\n",
      "(108, 'Parking Lot/Garage')\n",
      "(404, 'Store')\n",
      "(203, 'Business')\n",
      "(109, 'Park')\n"
     ]
    }
   ],
   "source": [
    "# Query data from crime table\n",
    "data = engine.execute(\"SELECT * FROM premise\")\n",
    "\n",
    "i = 0\n",
    "for record in data:\n",
    "    print(record)\n",
    "    i += 1\n",
    "    if i == 10:\n",
    "        break"
   ]
  },
  {
   "cell_type": "code",
   "execution_count": null,
   "id": "7b419bb9",
   "metadata": {},
   "outputs": [],
   "source": []
  }
 ],
 "metadata": {
  "kernelspec": {
   "display_name": "PythonData",
   "language": "python",
   "name": "pythondata"
  },
  "language_info": {
   "codemirror_mode": {
    "name": "ipython",
    "version": 3
   },
   "file_extension": ".py",
   "mimetype": "text/x-python",
   "name": "python",
   "nbconvert_exporter": "python",
   "pygments_lexer": "ipython3",
   "version": "3.7.7"
  }
 },
 "nbformat": 4,
 "nbformat_minor": 5
}
