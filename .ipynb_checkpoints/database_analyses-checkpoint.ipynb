{
 "cells": [
  {
   "cell_type": "markdown",
   "id": "3e836c3a",
   "metadata": {},
   "source": [
    "## Setting up Database Schama"
   ]
  },
  {
   "cell_type": "code",
   "execution_count": 2,
   "id": "80511f4d",
   "metadata": {},
   "outputs": [],
   "source": [
    "# import dependencies\n",
    "from sqlalchemy import Column, Integer, String\n",
    "from sqlalchemy.ext.declarative import declarative_base\n",
    "from sqlalchemy.orm import relationship"
   ]
  },
  {
   "cell_type": "code",
   "execution_count": null,
   "id": "d0e71705",
   "metadata": {},
   "outputs": [],
   "source": [
    "# Create the engine and connect to the database\n",
    "engine = create_engine('sqlite:///la_crime.db', echo=True)\n",
    "\n",
    "# Define the Base class to use declarative syntax\n",
    "Base = declarative_base()"
   ]
  },
  {
   "cell_type": "code",
   "execution_count": null,
   "id": "92462205",
   "metadata": {},
   "outputs": [],
   "source": [
    "# Define the Crime class , which will have a one-to-one relationship with the Area, premise and crime type tables\n",
    "class Crime(Base):\n",
    "    _tablename_ = 'crime'\n",
    "    incident_id = Column(Integer, primary_key=True)\n",
    "    year = Column(Integer)\n",
    "    month = Column(Integer)\n",
    "    month_name = Column(String)\n",
    "    victim_age = Column(String)\n",
    "    victim_ethnicity = Column(String)\n",
    "    victim_gender = Column(String)\n",
    "    lat = Column(Float)\n",
    "    lon = Column(Float)\n",
    "    area_code = Column(Integer, ForeignKey('area.area_code'))\n",
    "    area = relationship('Area', back_populates='crime')\n",
    "    crime_code = Column(Integer, ForeignKey('crime_type.crime_code'))\n",
    "    crime_type = relationship('CrimeType', back_populates='crime')\n",
    "    premise_code = Column(Integer, ForeignKey('premise.premise_code'))\n",
    "    premise = relationship('Premise', back_populates='crime')\n",
    "\n",
    "class Area(Base):\n",
    "    _tablename_ = 'area'\n",
    "    area_code = Column(Integer, primary_key=True)\n",
    "    area_name = Column(String, nullable=False)\n",
    "    crimes = relationship(\"Crime\", back_populates=\"area\")\n",
    "\n",
    "# Define the Crime Type class, which will have a one-to-many relationship with the Crime class\n",
    "class CrimeType(Base):\n",
    "    _tablename_ = 'crime_type'\n",
    "    crime_code = Column(Integer, primary_key=True)\n",
    "    Crime = Column(String, nullable=False)\n",
    "    crimes = relationship(\"Crime\", back_populates=\"crime_type\")\n",
    "    \n",
    "    \n",
    "# Define the premise class, which will have a one-to-many relationship with the Crime class\n",
    "class Premise(Base):\n",
    "    _tablename_ = 'premise'\n",
    "    premise_code = Column(Integer, primary_key=True)\n",
    "    Premise = Column(String, nullable=False)\n",
    "    crimes = relationship(\"Crime\", back_populates=\"premise\")\n",
    "\n",
    "\n",
    "# Create the tables in the database\n",
    "Base.metadata.create_all(engine)"
   ]
  },
  {
   "cell_type": "markdown",
   "id": "82b18311",
   "metadata": {},
   "source": [
    "## Data Analysis"
   ]
  },
  {
   "cell_type": "markdown",
   "id": "af9c7d0e",
   "metadata": {},
   "source": [
    "## Setting up Flask"
   ]
  },
  {
   "cell_type": "code",
   "execution_count": null,
   "id": "6a119ba0",
   "metadata": {},
   "outputs": [],
   "source": [
    "# import dependencies\n",
    "from flask import Flask, render_template, request\n",
    "import sqlite3"
   ]
  },
  {
   "cell_type": "code",
   "execution_count": null,
   "id": "2559a7e6",
   "metadata": {},
   "outputs": [],
   "source": [
    "app = Flask(__\"LA_Crime_Database\"__)\n",
    "\n",
    "# connect to the database\n",
    "conn = sqlite3.connect('Resources.db')\n",
    "c = conn.cursor()\n",
    "\n",
    "@app.route('/')\n",
    "def index():\n",
    "    # retrieve data from the database\n",
    "    c.execute('''SELECT * FROM crime''')\n",
    "    crimes = c.fetchall()\n",
    "    return render_template('index.html', crimes=crimes)\n",
    "\n",
    "@app.route('/add_user', methods=['POST'])\n",
    "def add_user():\n",
    "    # get data from the form\n",
    "    name = request.form['name']\n",
    "    email = request.form['email']\n",
    "\n",
    "    # insert data into the database\n",
    "    c.execute('''INSERT INTO users (name, email) VALUES (?, ?)''', (name, email))\n",
    "    conn.commit()\n",
    "\n",
    "    return redirect('/')\n",
    "\n",
    "if __name__ == '__main__':\n",
    "    app.run(debug=True)\n"
   ]
  }
 ],
 "metadata": {
  "kernelspec": {
   "display_name": "PythonData",
   "language": "python",
   "name": "pythondata"
  },
  "language_info": {
   "codemirror_mode": {
    "name": "ipython",
    "version": 3
   },
   "file_extension": ".py",
   "mimetype": "text/x-python",
   "name": "python",
   "nbconvert_exporter": "python",
   "pygments_lexer": "ipython3",
   "version": "3.7.7"
  }
 },
 "nbformat": 4,
 "nbformat_minor": 5
}
