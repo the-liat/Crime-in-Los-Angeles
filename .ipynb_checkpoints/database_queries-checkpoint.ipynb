{
 "cells": [
  {
   "cell_type": "code",
   "execution_count": 1,
   "id": "eec5f044",
   "metadata": {},
   "outputs": [],
   "source": [
    "# dependencies\n",
    "from sqlalchemy import create_engine, inspect, MetaData, select, text\n",
    "from sqlalchemy.orm import Session\n",
    "from sqlalchemy.ext.declarative import declarative_base\n",
    "from sqlalchemy.ext.automap import automap_base\n",
    "\n",
    "Base = declarative_base()\n",
    "\n",
    "# Create an engine that can talk to the database\n",
    "engine = create_engine(\"sqlite:///Resources/la_crime.db\", connect_args={'timeout': 30}, echo=False)"
   ]
  },
  {
   "cell_type": "markdown",
   "id": "eb13a7c1",
   "metadata": {},
   "source": [
    "## Checking Database Data - using SQL"
   ]
  },
  {
   "cell_type": "code",
   "execution_count": 2,
   "id": "889fa178",
   "metadata": {},
   "outputs": [
    {
     "name": "stdout",
     "output_type": "stream",
     "text": [
      "(180512192, 2018, 6, 'June', '31-40', 'Hispanic', 'Female', 33.7932, -118.2648, 5, 626, 501)\n",
      "(181211151, 2018, 4, 'April', '51-60', 'Hispanic', 'Female', 33.9891, -118.3167, 12, 624, 101)\n",
      "(180220154, 2018, 9, 'September', '61-70', 'Hispanic', 'Female', 34.0529, -118.2733, 2, 624, 502)\n",
      "(190909830, 2018, 10, 'October', '31-40', 'Hispanic', 'Female', 34.1867, -118.4181, 9, 440, 502)\n",
      "(181113371, 2018, 7, 'July', '71+', 'White', 'Male', 34.1008, -118.2665, 11, 440, 501)\n",
      "(182019832, 2018, 8, 'August', '31-40', 'Asian', 'Female', 34.0588, -118.2941, 20, 440, 502)\n",
      "(181421617, 2018, 10, 'October', '31-40', 'White', 'Male', 34.029, -118.4032, 14, 480, 707)\n",
      "(180810320, 2018, 5, 'May', '51-60', 'White', 'Male', 34.0711, -118.46700000000001, 8, 649, 501)\n",
      "(180106451, 2018, 2, 'February', '21-30', 'Hispanic', 'Male', 34.0522, -118.2434, 1, 624, 102)\n",
      "(180413435, 2018, 3, 'March', '11-20', 'Hispanic', 'Female', 34.0299, -118.2037, 4, 860, 501)\n"
     ]
    }
   ],
   "source": [
    "# Query data from crime table\n",
    "crime_data = engine.execute(\"SELECT * FROM crime\")\n",
    "\n",
    "i = 0\n",
    "for record in crime_data:\n",
    "    print(record)\n",
    "    i += 1\n",
    "    if i == 10:\n",
    "        break"
   ]
  },
  {
   "cell_type": "code",
   "execution_count": 3,
   "id": "249b3d2e",
   "metadata": {},
   "outputs": [
    {
     "name": "stdout",
     "output_type": "stream",
     "text": [
      "(626, 'Domestic Violence')\n",
      "(624, 'Assault')\n",
      "(440, 'Theft, Robbery, or Burglary')\n",
      "(480, 'Bike Theft')\n",
      "(649, 'Forgery')\n",
      "(860, 'Sexual Assualt or Rape')\n",
      "(421, 'Burglary from Vehicle')\n",
      "(740, 'Vandalism')\n",
      "(341, 'Theft, Robbery, or Burglary')\n",
      "(888, 'Trespassing')\n"
     ]
    }
   ],
   "source": [
    "# Query data from crime type table\n",
    "crime_type_data = engine.execute(\"SELECT * FROM crime_type\")\n",
    "\n",
    "i = 0\n",
    "for record in crime_type_data:\n",
    "    print(record)\n",
    "    i += 1\n",
    "    if i == 10:\n",
    "        break"
   ]
  },
  {
   "cell_type": "code",
   "execution_count": 4,
   "id": "42945a1c",
   "metadata": {},
   "outputs": [
    {
     "name": "stdout",
     "output_type": "stream",
     "text": [
      "(5, 'Harbor')\n",
      "(12, '77th Street')\n",
      "(2, 'Rampart')\n",
      "(9, 'Van Nuys')\n",
      "(11, 'Northeast')\n",
      "(20, 'Olympic')\n",
      "(14, 'Pacific')\n",
      "(8, 'West LA')\n",
      "(1, 'Central')\n",
      "(4, 'Hollenbeck')\n"
     ]
    }
   ],
   "source": [
    "# Query data from crime table\n",
    "area_data = engine.execute(\"SELECT * FROM area\")\n",
    "\n",
    "i = 0\n",
    "for record in area_data:\n",
    "    print(record)\n",
    "    i += 1\n",
    "    if i == 10:\n",
    "        break"
   ]
  },
  {
   "cell_type": "code",
   "execution_count": 5,
   "id": "a773b4fc",
   "metadata": {},
   "outputs": [
    {
     "name": "stdout",
     "output_type": "stream",
     "text": [
      "(501, 'Residence')\n",
      "(101, 'Freeway/Street')\n",
      "(502, 'Residence')\n",
      "(707, 'Residence')\n",
      "(102, 'Sidewalk')\n",
      "(103, 'Freeway/Street')\n",
      "(108, 'Parking Lot/Garage')\n",
      "(404, 'Store')\n",
      "(203, 'Business')\n",
      "(109, 'Park')\n"
     ]
    }
   ],
   "source": [
    "# Query data from crime table\n",
    "premise_data = engine.execute(\"SELECT * FROM premise\")\n",
    "\n",
    "i = 0\n",
    "for record in premise_data:\n",
    "    print(record)\n",
    "    i += 1\n",
    "    if i == 10:\n",
    "        break"
   ]
  },
  {
   "cell_type": "markdown",
   "id": "059b9730",
   "metadata": {},
   "source": [
    "## Joining the Tables"
   ]
  },
  {
   "cell_type": "code",
   "execution_count": 6,
   "id": "44047c4f",
   "metadata": {},
   "outputs": [],
   "source": [
    "# creating database session\n",
    "session = Session(engine)\n",
    "Base = automap_base()\n",
    "# Use the Base class to reflect the database tables\n",
    "Base.prepare(engine = engine, reflect = True)"
   ]
  },
  {
   "cell_type": "code",
   "execution_count": 7,
   "id": "9edf63fe",
   "metadata": {},
   "outputs": [
    {
     "data": {
      "text/plain": [
       "['area', 'crime', 'crime_type', 'premise']"
      ]
     },
     "execution_count": 7,
     "metadata": {},
     "output_type": "execute_result"
    }
   ],
   "source": [
    "# Collect the names of tables within the database\n",
    "inspector = inspect(engine)\n",
    "inspector.get_table_names()"
   ]
  },
  {
   "cell_type": "code",
   "execution_count": 8,
   "id": "8662f886",
   "metadata": {},
   "outputs": [
    {
     "name": "stdout",
     "output_type": "stream",
     "text": [
      "incident_id INTEGER\n",
      "year INTEGER\n",
      "month INTEGER\n",
      "month_name TEXT\n",
      "victim_age TEXT\n",
      "victim_ethnicity TEXT\n",
      "victim_gender TEXT\n",
      "lat REAL\n",
      "lon REAL\n",
      "area_code INTEGER\n",
      "crime_code INTEGER\n",
      "premise_code INTEGER\n"
     ]
    }
   ],
   "source": [
    "# Using the inspector to print the column names within the 'crime' table and its types\n",
    "columns = inspector.get_columns('crime')\n",
    "for column in columns:\n",
    "    print(column[\"name\"], column[\"type\"])"
   ]
  },
  {
   "cell_type": "code",
   "execution_count": 9,
   "id": "33d5e5d1",
   "metadata": {},
   "outputs": [
    {
     "data": {
      "text/plain": [
       "Table('crime', MetaData(bind=Engine(sqlite:///Resources/la_crime.db)), Column('incident_id', INTEGER(), table=<crime>), Column('year', INTEGER(), table=<crime>), Column('month', INTEGER(), table=<crime>), Column('month_name', TEXT(), table=<crime>), Column('victim_age', TEXT(), table=<crime>), Column('victim_ethnicity', TEXT(), table=<crime>), Column('victim_gender', TEXT(), table=<crime>), Column('lat', REAL(), table=<crime>), Column('lon', REAL(), table=<crime>), Column('area_code', INTEGER(), table=<crime>), Column('crime_code', INTEGER(), table=<crime>), Column('premise_code', INTEGER(), table=<crime>), schema=None)"
      ]
     },
     "execution_count": 9,
     "metadata": {},
     "output_type": "execute_result"
    }
   ],
   "source": [
    "# Reflect the database tables\n",
    "metadata =  MetaData(bind=engine)\n",
    "metadata.reflect()\n",
    "crime_table = metadata.tables['crime']\n",
    "area_table = metadata.tables['area']\n",
    "crime_type_table = metadata.tables['crime_type']\n",
    "premise_table = metadata.tables['premise']\n",
    "crime_table"
   ]
  },
  {
   "cell_type": "code",
   "execution_count": 10,
   "id": "d3b3f023",
   "metadata": {},
   "outputs": [
    {
     "name": "stdout",
     "output_type": "stream",
     "text": [
      "49\n",
      "(626, 'Domestic Violence')\n"
     ]
    }
   ],
   "source": [
    "# Select the crime table\n",
    "crime_type_tb = engine.execute(select([crime_type_table]))\n",
    "\n",
    "# Get all the rows\n",
    "rows = crime_type_tb.fetchall()\n",
    "\n",
    "# Print the number of rows\n",
    "print(len(rows))\n",
    "\n",
    "# Print the first row\n",
    "print(rows[0])"
   ]
  },
  {
   "cell_type": "code",
   "execution_count": 11,
   "id": "a4a389f5",
   "metadata": {},
   "outputs": [
    {
     "name": "stdout",
     "output_type": "stream",
     "text": [
      "757085\n",
      "(180512192, 2018, 6, 'June', '31-40', 'Hispanic', 'Female', 33.7932, -118.2648, 5, 626, 501)\n"
     ]
    }
   ],
   "source": [
    "# Select the crime type table\n",
    "crime_tb = engine.execute(select([crime_table]))\n",
    "\n",
    "# Get all the rows\n",
    "rows = crime_tb.fetchall()\n",
    "\n",
    "# Print the number of rows\n",
    "print(len(rows))\n",
    "\n",
    "# Print the first row\n",
    "print(rows[0])"
   ]
  },
  {
   "cell_type": "code",
   "execution_count": 12,
   "id": "579a6e69",
   "metadata": {},
   "outputs": [
    {
     "name": "stdout",
     "output_type": "stream",
     "text": [
      "21\n",
      "(5, 'Harbor')\n"
     ]
    }
   ],
   "source": [
    "# Select the area table\n",
    "area_tb = engine.execute(select([area_table]))\n",
    "\n",
    "# Get all the rows\n",
    "rows = area_tb.fetchall()\n",
    "\n",
    "# Print the number of rows\n",
    "print(len(rows))\n",
    "\n",
    "# Print the first row\n",
    "print(rows[0])"
   ]
  },
  {
   "cell_type": "code",
   "execution_count": 13,
   "id": "3cf8f096",
   "metadata": {},
   "outputs": [
    {
     "name": "stdout",
     "output_type": "stream",
     "text": [
      "93\n",
      "(501, 'Residence')\n"
     ]
    }
   ],
   "source": [
    "# Select the premise table\n",
    "premise = engine.execute(select([premise_table]))\n",
    "\n",
    "# Get all the rows\n",
    "rows = premise.fetchall()\n",
    "\n",
    "# Print the number of rows\n",
    "print(len(rows))\n",
    "\n",
    "# Print the first row\n",
    "print(rows[0])"
   ]
  },
  {
   "cell_type": "code",
   "execution_count": 14,
   "id": "caebb81a",
   "metadata": {},
   "outputs": [],
   "source": [
    "# Define the SQL query\n",
    "sql = text(\"\"\"SELECT * \n",
    "            FROM crime\n",
    "            LEFT JOIN area ON crime.area_code = area.area_code\n",
    "            LEFT JOIN premise ON crime.premise_code = premise.premise_code\n",
    "            LEFT JOIN crime_type ON crime.crime_code = crime_type.crime_code\"\"\")\n",
    "\n",
    "# Execute the SQL query\n",
    "la_crime = engine.execute(sql)"
   ]
  },
  {
   "cell_type": "code",
   "execution_count": 15,
   "id": "984b9472",
   "metadata": {},
   "outputs": [
    {
     "name": "stdout",
     "output_type": "stream",
     "text": [
      "Columns: ['incident_id', 'year', 'month', 'month_name', 'victim_age', 'victim_ethnicity', 'victim_gender', 'lat', 'lon', 'area_code', 'crime_code', 'premise_code', 'area_code', 'area_name', 'premise_code', 'premise', 'crime_code', 'crime']\n"
     ]
    }
   ],
   "source": [
    "# Print the column names\n",
    "print(f\"Columns: {la_crime.keys()}\")"
   ]
  },
  {
   "cell_type": "code",
   "execution_count": 16,
   "id": "e25c5d23",
   "metadata": {},
   "outputs": [
    {
     "name": "stdout",
     "output_type": "stream",
     "text": [
      "757085\n",
      "(180512192, 2018, 6, 'June', '31-40', 'Hispanic', 'Female', 33.7932, -118.2648, 5, 626, 501, 5, 'Harbor', 501, 'Residence', 626, 'Domestic Violence')\n"
     ]
    }
   ],
   "source": [
    "# Get all the rows\n",
    "rows = la_crime.fetchall()\n",
    "\n",
    "# Print the number of rows\n",
    "print(len(rows))\n",
    "\n",
    "# Print the first row\n",
    "print(rows[0])"
   ]
  },
  {
   "cell_type": "code",
   "execution_count": 17,
   "id": "f60be13e",
   "metadata": {},
   "outputs": [
    {
     "ename": "OperationalError",
     "evalue": "(sqlite3.OperationalError) database is locked\n[SQL: CREATE VIEW joined_view AS\n            SELECT * \n            FROM crime\n            LEFT JOIN area ON crime.area_code = area.area_code\n            LEFT JOIN premise ON crime.premise_code = premise.premise_code\n            LEFT JOIN crime_type ON crime.crime_code = crime_type.crime_code]\n(Background on this error at: http://sqlalche.me/e/e3q8)",
     "output_type": "error",
     "traceback": [
      "\u001b[1;31m---------------------------------------------------------------------------\u001b[0m",
      "\u001b[1;31mOperationalError\u001b[0m                          Traceback (most recent call last)",
      "\u001b[1;32m~\\anaconda3\\envs\\PythonData\\lib\\site-packages\\sqlalchemy\\engine\\base.py\u001b[0m in \u001b[0;36m_execute_context\u001b[1;34m(self, dialect, constructor, statement, parameters, *args)\u001b[0m\n\u001b[0;32m   1283\u001b[0m                     self.dialect.do_execute(\n\u001b[1;32m-> 1284\u001b[1;33m                         \u001b[0mcursor\u001b[0m\u001b[1;33m,\u001b[0m \u001b[0mstatement\u001b[0m\u001b[1;33m,\u001b[0m \u001b[0mparameters\u001b[0m\u001b[1;33m,\u001b[0m \u001b[0mcontext\u001b[0m\u001b[1;33m\u001b[0m\u001b[1;33m\u001b[0m\u001b[0m\n\u001b[0m\u001b[0;32m   1285\u001b[0m                     )\n",
      "\u001b[1;32m~\\anaconda3\\envs\\PythonData\\lib\\site-packages\\sqlalchemy\\engine\\default.py\u001b[0m in \u001b[0;36mdo_execute\u001b[1;34m(self, cursor, statement, parameters, context)\u001b[0m\n\u001b[0;32m    589\u001b[0m     \u001b[1;32mdef\u001b[0m \u001b[0mdo_execute\u001b[0m\u001b[1;33m(\u001b[0m\u001b[0mself\u001b[0m\u001b[1;33m,\u001b[0m \u001b[0mcursor\u001b[0m\u001b[1;33m,\u001b[0m \u001b[0mstatement\u001b[0m\u001b[1;33m,\u001b[0m \u001b[0mparameters\u001b[0m\u001b[1;33m,\u001b[0m \u001b[0mcontext\u001b[0m\u001b[1;33m=\u001b[0m\u001b[1;32mNone\u001b[0m\u001b[1;33m)\u001b[0m\u001b[1;33m:\u001b[0m\u001b[1;33m\u001b[0m\u001b[1;33m\u001b[0m\u001b[0m\n\u001b[1;32m--> 590\u001b[1;33m         \u001b[0mcursor\u001b[0m\u001b[1;33m.\u001b[0m\u001b[0mexecute\u001b[0m\u001b[1;33m(\u001b[0m\u001b[0mstatement\u001b[0m\u001b[1;33m,\u001b[0m \u001b[0mparameters\u001b[0m\u001b[1;33m)\u001b[0m\u001b[1;33m\u001b[0m\u001b[1;33m\u001b[0m\u001b[0m\n\u001b[0m\u001b[0;32m    591\u001b[0m \u001b[1;33m\u001b[0m\u001b[0m\n",
      "\u001b[1;31mOperationalError\u001b[0m: database is locked",
      "\nThe above exception was the direct cause of the following exception:\n",
      "\u001b[1;31mOperationalError\u001b[0m                          Traceback (most recent call last)",
      "\u001b[1;32m~\\AppData\\Local\\Temp\\ipykernel_59180\\3243292026.py\u001b[0m in \u001b[0;36m<module>\u001b[1;34m\u001b[0m\n\u001b[0;32m      6\u001b[0m             LEFT JOIN crime_type ON crime.crime_code = crime_type.crime_code\"\"\")\n\u001b[0;32m      7\u001b[0m \u001b[1;31m# Execute the query to create the view\u001b[0m\u001b[1;33m\u001b[0m\u001b[1;33m\u001b[0m\u001b[1;33m\u001b[0m\u001b[0m\n\u001b[1;32m----> 8\u001b[1;33m \u001b[0msession\u001b[0m\u001b[1;33m.\u001b[0m\u001b[0mexecute\u001b[0m\u001b[1;33m(\u001b[0m\u001b[0mview_query\u001b[0m\u001b[1;33m)\u001b[0m\u001b[1;33m\u001b[0m\u001b[1;33m\u001b[0m\u001b[0m\n\u001b[0m\u001b[0;32m      9\u001b[0m \u001b[1;33m\u001b[0m\u001b[0m\n\u001b[0;32m     10\u001b[0m \u001b[1;31m# Commit the transaction to save the view to the database\u001b[0m\u001b[1;33m\u001b[0m\u001b[1;33m\u001b[0m\u001b[1;33m\u001b[0m\u001b[0m\n",
      "\u001b[1;32m~\\anaconda3\\envs\\PythonData\\lib\\site-packages\\sqlalchemy\\orm\\session.py\u001b[0m in \u001b[0;36mexecute\u001b[1;34m(self, clause, params, mapper, bind, **kw)\u001b[0m\n\u001b[0;32m   1290\u001b[0m \u001b[1;33m\u001b[0m\u001b[0m\n\u001b[0;32m   1291\u001b[0m         return self._connection_for_bind(bind, close_with_result=True).execute(\n\u001b[1;32m-> 1292\u001b[1;33m             \u001b[0mclause\u001b[0m\u001b[1;33m,\u001b[0m \u001b[0mparams\u001b[0m \u001b[1;32mor\u001b[0m \u001b[1;33m{\u001b[0m\u001b[1;33m}\u001b[0m\u001b[1;33m\u001b[0m\u001b[1;33m\u001b[0m\u001b[0m\n\u001b[0m\u001b[0;32m   1293\u001b[0m         )\n\u001b[0;32m   1294\u001b[0m \u001b[1;33m\u001b[0m\u001b[0m\n",
      "\u001b[1;32m~\\anaconda3\\envs\\PythonData\\lib\\site-packages\\sqlalchemy\\engine\\base.py\u001b[0m in \u001b[0;36mexecute\u001b[1;34m(self, object_, *multiparams, **params)\u001b[0m\n\u001b[0;32m   1018\u001b[0m             )\n\u001b[0;32m   1019\u001b[0m         \u001b[1;32melse\u001b[0m\u001b[1;33m:\u001b[0m\u001b[1;33m\u001b[0m\u001b[1;33m\u001b[0m\u001b[0m\n\u001b[1;32m-> 1020\u001b[1;33m             \u001b[1;32mreturn\u001b[0m \u001b[0mmeth\u001b[0m\u001b[1;33m(\u001b[0m\u001b[0mself\u001b[0m\u001b[1;33m,\u001b[0m \u001b[0mmultiparams\u001b[0m\u001b[1;33m,\u001b[0m \u001b[0mparams\u001b[0m\u001b[1;33m)\u001b[0m\u001b[1;33m\u001b[0m\u001b[1;33m\u001b[0m\u001b[0m\n\u001b[0m\u001b[0;32m   1021\u001b[0m \u001b[1;33m\u001b[0m\u001b[0m\n\u001b[0;32m   1022\u001b[0m     \u001b[1;32mdef\u001b[0m \u001b[0m_execute_function\u001b[0m\u001b[1;33m(\u001b[0m\u001b[0mself\u001b[0m\u001b[1;33m,\u001b[0m \u001b[0mfunc\u001b[0m\u001b[1;33m,\u001b[0m \u001b[0mmultiparams\u001b[0m\u001b[1;33m,\u001b[0m \u001b[0mparams\u001b[0m\u001b[1;33m)\u001b[0m\u001b[1;33m:\u001b[0m\u001b[1;33m\u001b[0m\u001b[1;33m\u001b[0m\u001b[0m\n",
      "\u001b[1;32m~\\anaconda3\\envs\\PythonData\\lib\\site-packages\\sqlalchemy\\sql\\elements.py\u001b[0m in \u001b[0;36m_execute_on_connection\u001b[1;34m(self, connection, multiparams, params)\u001b[0m\n\u001b[0;32m    296\u001b[0m     \u001b[1;32mdef\u001b[0m \u001b[0m_execute_on_connection\u001b[0m\u001b[1;33m(\u001b[0m\u001b[0mself\u001b[0m\u001b[1;33m,\u001b[0m \u001b[0mconnection\u001b[0m\u001b[1;33m,\u001b[0m \u001b[0mmultiparams\u001b[0m\u001b[1;33m,\u001b[0m \u001b[0mparams\u001b[0m\u001b[1;33m)\u001b[0m\u001b[1;33m:\u001b[0m\u001b[1;33m\u001b[0m\u001b[1;33m\u001b[0m\u001b[0m\n\u001b[0;32m    297\u001b[0m         \u001b[1;32mif\u001b[0m \u001b[0mself\u001b[0m\u001b[1;33m.\u001b[0m\u001b[0msupports_execution\u001b[0m\u001b[1;33m:\u001b[0m\u001b[1;33m\u001b[0m\u001b[1;33m\u001b[0m\u001b[0m\n\u001b[1;32m--> 298\u001b[1;33m             \u001b[1;32mreturn\u001b[0m \u001b[0mconnection\u001b[0m\u001b[1;33m.\u001b[0m\u001b[0m_execute_clauseelement\u001b[0m\u001b[1;33m(\u001b[0m\u001b[0mself\u001b[0m\u001b[1;33m,\u001b[0m \u001b[0mmultiparams\u001b[0m\u001b[1;33m,\u001b[0m \u001b[0mparams\u001b[0m\u001b[1;33m)\u001b[0m\u001b[1;33m\u001b[0m\u001b[1;33m\u001b[0m\u001b[0m\n\u001b[0m\u001b[0;32m    299\u001b[0m         \u001b[1;32melse\u001b[0m\u001b[1;33m:\u001b[0m\u001b[1;33m\u001b[0m\u001b[1;33m\u001b[0m\u001b[0m\n\u001b[0;32m    300\u001b[0m             \u001b[1;32mraise\u001b[0m \u001b[0mexc\u001b[0m\u001b[1;33m.\u001b[0m\u001b[0mObjectNotExecutableError\u001b[0m\u001b[1;33m(\u001b[0m\u001b[0mself\u001b[0m\u001b[1;33m)\u001b[0m\u001b[1;33m\u001b[0m\u001b[1;33m\u001b[0m\u001b[0m\n",
      "\u001b[1;32m~\\anaconda3\\envs\\PythonData\\lib\\site-packages\\sqlalchemy\\engine\\base.py\u001b[0m in \u001b[0;36m_execute_clauseelement\u001b[1;34m(self, elem, multiparams, params)\u001b[0m\n\u001b[0;32m   1137\u001b[0m             \u001b[0mdistilled_params\u001b[0m\u001b[1;33m,\u001b[0m\u001b[1;33m\u001b[0m\u001b[1;33m\u001b[0m\u001b[0m\n\u001b[0;32m   1138\u001b[0m             \u001b[0mcompiled_sql\u001b[0m\u001b[1;33m,\u001b[0m\u001b[1;33m\u001b[0m\u001b[1;33m\u001b[0m\u001b[0m\n\u001b[1;32m-> 1139\u001b[1;33m             \u001b[0mdistilled_params\u001b[0m\u001b[1;33m,\u001b[0m\u001b[1;33m\u001b[0m\u001b[1;33m\u001b[0m\u001b[0m\n\u001b[0m\u001b[0;32m   1140\u001b[0m         )\n\u001b[0;32m   1141\u001b[0m         \u001b[1;32mif\u001b[0m \u001b[0mself\u001b[0m\u001b[1;33m.\u001b[0m\u001b[0m_has_events\u001b[0m \u001b[1;32mor\u001b[0m \u001b[0mself\u001b[0m\u001b[1;33m.\u001b[0m\u001b[0mengine\u001b[0m\u001b[1;33m.\u001b[0m\u001b[0m_has_events\u001b[0m\u001b[1;33m:\u001b[0m\u001b[1;33m\u001b[0m\u001b[1;33m\u001b[0m\u001b[0m\n",
      "\u001b[1;32m~\\anaconda3\\envs\\PythonData\\lib\\site-packages\\sqlalchemy\\engine\\base.py\u001b[0m in \u001b[0;36m_execute_context\u001b[1;34m(self, dialect, constructor, statement, parameters, *args)\u001b[0m\n\u001b[0;32m   1322\u001b[0m         \u001b[1;32mexcept\u001b[0m \u001b[0mBaseException\u001b[0m \u001b[1;32mas\u001b[0m \u001b[0me\u001b[0m\u001b[1;33m:\u001b[0m\u001b[1;33m\u001b[0m\u001b[1;33m\u001b[0m\u001b[0m\n\u001b[0;32m   1323\u001b[0m             self._handle_dbapi_exception(\n\u001b[1;32m-> 1324\u001b[1;33m                 \u001b[0me\u001b[0m\u001b[1;33m,\u001b[0m \u001b[0mstatement\u001b[0m\u001b[1;33m,\u001b[0m \u001b[0mparameters\u001b[0m\u001b[1;33m,\u001b[0m \u001b[0mcursor\u001b[0m\u001b[1;33m,\u001b[0m \u001b[0mcontext\u001b[0m\u001b[1;33m\u001b[0m\u001b[1;33m\u001b[0m\u001b[0m\n\u001b[0m\u001b[0;32m   1325\u001b[0m             )\n\u001b[0;32m   1326\u001b[0m \u001b[1;33m\u001b[0m\u001b[0m\n",
      "\u001b[1;32m~\\anaconda3\\envs\\PythonData\\lib\\site-packages\\sqlalchemy\\engine\\base.py\u001b[0m in \u001b[0;36m_handle_dbapi_exception\u001b[1;34m(self, e, statement, parameters, cursor, context)\u001b[0m\n\u001b[0;32m   1516\u001b[0m             \u001b[1;32melif\u001b[0m \u001b[0mshould_wrap\u001b[0m\u001b[1;33m:\u001b[0m\u001b[1;33m\u001b[0m\u001b[1;33m\u001b[0m\u001b[0m\n\u001b[0;32m   1517\u001b[0m                 util.raise_(\n\u001b[1;32m-> 1518\u001b[1;33m                     \u001b[0msqlalchemy_exception\u001b[0m\u001b[1;33m,\u001b[0m \u001b[0mwith_traceback\u001b[0m\u001b[1;33m=\u001b[0m\u001b[0mexc_info\u001b[0m\u001b[1;33m[\u001b[0m\u001b[1;36m2\u001b[0m\u001b[1;33m]\u001b[0m\u001b[1;33m,\u001b[0m \u001b[0mfrom_\u001b[0m\u001b[1;33m=\u001b[0m\u001b[0me\u001b[0m\u001b[1;33m\u001b[0m\u001b[1;33m\u001b[0m\u001b[0m\n\u001b[0m\u001b[0;32m   1519\u001b[0m                 )\n\u001b[0;32m   1520\u001b[0m             \u001b[1;32melse\u001b[0m\u001b[1;33m:\u001b[0m\u001b[1;33m\u001b[0m\u001b[1;33m\u001b[0m\u001b[0m\n",
      "\u001b[1;32m~\\anaconda3\\envs\\PythonData\\lib\\site-packages\\sqlalchemy\\util\\compat.py\u001b[0m in \u001b[0;36mraise_\u001b[1;34m(***failed resolving arguments***)\u001b[0m\n\u001b[0;32m    176\u001b[0m \u001b[1;33m\u001b[0m\u001b[0m\n\u001b[0;32m    177\u001b[0m         \u001b[1;32mtry\u001b[0m\u001b[1;33m:\u001b[0m\u001b[1;33m\u001b[0m\u001b[1;33m\u001b[0m\u001b[0m\n\u001b[1;32m--> 178\u001b[1;33m             \u001b[1;32mraise\u001b[0m \u001b[0mexception\u001b[0m\u001b[1;33m\u001b[0m\u001b[1;33m\u001b[0m\u001b[0m\n\u001b[0m\u001b[0;32m    179\u001b[0m         \u001b[1;32mfinally\u001b[0m\u001b[1;33m:\u001b[0m\u001b[1;33m\u001b[0m\u001b[1;33m\u001b[0m\u001b[0m\n\u001b[0;32m    180\u001b[0m             \u001b[1;31m# credit to\u001b[0m\u001b[1;33m\u001b[0m\u001b[1;33m\u001b[0m\u001b[1;33m\u001b[0m\u001b[0m\n",
      "\u001b[1;32m~\\anaconda3\\envs\\PythonData\\lib\\site-packages\\sqlalchemy\\engine\\base.py\u001b[0m in \u001b[0;36m_execute_context\u001b[1;34m(self, dialect, constructor, statement, parameters, *args)\u001b[0m\n\u001b[0;32m   1282\u001b[0m                 \u001b[1;32mif\u001b[0m \u001b[1;32mnot\u001b[0m \u001b[0mevt_handled\u001b[0m\u001b[1;33m:\u001b[0m\u001b[1;33m\u001b[0m\u001b[1;33m\u001b[0m\u001b[0m\n\u001b[0;32m   1283\u001b[0m                     self.dialect.do_execute(\n\u001b[1;32m-> 1284\u001b[1;33m                         \u001b[0mcursor\u001b[0m\u001b[1;33m,\u001b[0m \u001b[0mstatement\u001b[0m\u001b[1;33m,\u001b[0m \u001b[0mparameters\u001b[0m\u001b[1;33m,\u001b[0m \u001b[0mcontext\u001b[0m\u001b[1;33m\u001b[0m\u001b[1;33m\u001b[0m\u001b[0m\n\u001b[0m\u001b[0;32m   1285\u001b[0m                     )\n\u001b[0;32m   1286\u001b[0m \u001b[1;33m\u001b[0m\u001b[0m\n",
      "\u001b[1;32m~\\anaconda3\\envs\\PythonData\\lib\\site-packages\\sqlalchemy\\engine\\default.py\u001b[0m in \u001b[0;36mdo_execute\u001b[1;34m(self, cursor, statement, parameters, context)\u001b[0m\n\u001b[0;32m    588\u001b[0m \u001b[1;33m\u001b[0m\u001b[0m\n\u001b[0;32m    589\u001b[0m     \u001b[1;32mdef\u001b[0m \u001b[0mdo_execute\u001b[0m\u001b[1;33m(\u001b[0m\u001b[0mself\u001b[0m\u001b[1;33m,\u001b[0m \u001b[0mcursor\u001b[0m\u001b[1;33m,\u001b[0m \u001b[0mstatement\u001b[0m\u001b[1;33m,\u001b[0m \u001b[0mparameters\u001b[0m\u001b[1;33m,\u001b[0m \u001b[0mcontext\u001b[0m\u001b[1;33m=\u001b[0m\u001b[1;32mNone\u001b[0m\u001b[1;33m)\u001b[0m\u001b[1;33m:\u001b[0m\u001b[1;33m\u001b[0m\u001b[1;33m\u001b[0m\u001b[0m\n\u001b[1;32m--> 590\u001b[1;33m         \u001b[0mcursor\u001b[0m\u001b[1;33m.\u001b[0m\u001b[0mexecute\u001b[0m\u001b[1;33m(\u001b[0m\u001b[0mstatement\u001b[0m\u001b[1;33m,\u001b[0m \u001b[0mparameters\u001b[0m\u001b[1;33m)\u001b[0m\u001b[1;33m\u001b[0m\u001b[1;33m\u001b[0m\u001b[0m\n\u001b[0m\u001b[0;32m    591\u001b[0m \u001b[1;33m\u001b[0m\u001b[0m\n\u001b[0;32m    592\u001b[0m     \u001b[1;32mdef\u001b[0m \u001b[0mdo_execute_no_params\u001b[0m\u001b[1;33m(\u001b[0m\u001b[0mself\u001b[0m\u001b[1;33m,\u001b[0m \u001b[0mcursor\u001b[0m\u001b[1;33m,\u001b[0m \u001b[0mstatement\u001b[0m\u001b[1;33m,\u001b[0m \u001b[0mcontext\u001b[0m\u001b[1;33m=\u001b[0m\u001b[1;32mNone\u001b[0m\u001b[1;33m)\u001b[0m\u001b[1;33m:\u001b[0m\u001b[1;33m\u001b[0m\u001b[1;33m\u001b[0m\u001b[0m\n",
      "\u001b[1;31mOperationalError\u001b[0m: (sqlite3.OperationalError) database is locked\n[SQL: CREATE VIEW joined_view AS\n            SELECT * \n            FROM crime\n            LEFT JOIN area ON crime.area_code = area.area_code\n            LEFT JOIN premise ON crime.premise_code = premise.premise_code\n            LEFT JOIN crime_type ON crime.crime_code = crime_type.crime_code]\n(Background on this error at: http://sqlalche.me/e/e3q8)"
     ]
    }
   ],
   "source": [
    "view_query = text(\"\"\"CREATE VIEW joined_view AS\n",
    "            SELECT * \n",
    "            FROM crime\n",
    "            LEFT JOIN area ON crime.area_code = area.area_code\n",
    "            LEFT JOIN premise ON crime.premise_code = premise.premise_code\n",
    "            LEFT JOIN crime_type ON crime.crime_code = crime_type.crime_code\"\"\")\n",
    "# Execute the query to create the view\n",
    "session.execute(view_query)\n",
    "\n",
    "# Commit the transaction to save the view to the database\n",
    "session.commit()"
   ]
  },
  {
   "cell_type": "markdown",
   "id": "7e7a6bd3",
   "metadata": {},
   "source": [
    "## Data Queries - using SQLAlchamey"
   ]
  },
  {
   "cell_type": "code",
   "execution_count": null,
   "id": "4bbfbd9e",
   "metadata": {},
   "outputs": [],
   "source": []
  }
 ],
 "metadata": {
  "kernelspec": {
   "display_name": "PythonData",
   "language": "python",
   "name": "pythondata"
  },
  "language_info": {
   "codemirror_mode": {
    "name": "ipython",
    "version": 3
   },
   "file_extension": ".py",
   "mimetype": "text/x-python",
   "name": "python",
   "nbconvert_exporter": "python",
   "pygments_lexer": "ipython3",
   "version": "3.7.7"
  }
 },
 "nbformat": 4,
 "nbformat_minor": 5
}
