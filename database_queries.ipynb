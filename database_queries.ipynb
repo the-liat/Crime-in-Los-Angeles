{
 "cells": [
  {
   "cell_type": "code",
   "execution_count": 1,
   "id": "20652689",
   "metadata": {},
   "outputs": [],
   "source": [
    "# dependencies\n",
    "from sqlalchemy import create_engine, inspect, MetaData, select, text, Table, func\n",
    "from sqlalchemy import Column, Integer, String, Float\n",
    "from sqlalchemy.orm import Session\n",
    "from sqlalchemy.ext.automap import automap_base\n",
    "\n",
    "# Create an engine that can talk to the database\n",
    "engine = create_engine(\"sqlite:///Resources/la_crime.db\", connect_args={'timeout': 30}, echo=False)\n",
    "conn = engine.connect()"
   ]
  },
  {
   "cell_type": "markdown",
   "id": "06f59e73",
   "metadata": {},
   "source": [
    "## Checking Database Data - using SQL"
   ]
  },
  {
   "cell_type": "code",
   "execution_count": 2,
   "id": "7e750014",
   "metadata": {},
   "outputs": [
    {
     "name": "stdout",
     "output_type": "stream",
     "text": [
      "(10304468, 2020, 1, 'January', '31-40', 'Black', 'Female', 34.0141, -118.2978, 3, 624, 501)\n",
      "(20305364, 2019, 1, 'January', '41-50', 'Hispanic', 'Male', 34.0055, -118.2915, 3, 626, 502)\n",
      "(170701073, 2018, 1, 'January', '11-20', 'Black', 'Male', 34.0421, -118.3456, 7, 888, 501)\n",
      "(180100001, 2018, 9, 'September', '31-40', 'White', 'Female', 34.0382, -118.2889, 20, 510, 101)\n",
      "(180100513, 2018, 1, 'January', '51-60', 'Black', 'Male', 34.0328, -118.2647, 1, 624, 101)\n",
      "(180100514, 2018, 1, 'January', '31-40', 'White', 'Female', 34.0428, -118.2532, 1, 230, 108)\n",
      "(180100516, 2018, 1, 'January', '11-20', 'Other', 'Male', 34.0454, -118.2422, 1, 740, 101)\n",
      "(180100525, 2018, 1, 'January', '41-50', 'Hispanic', 'Male', 34.0487, -118.2588, 1, 624, 102)\n",
      "(180100526, 2018, 1, 'January', '21-30', 'Hispanic', 'Female', 34.0487, -118.2588, 1, 624, 102)\n",
      "(180100529, 2018, 1, 'January', '41-50', 'White', 'Male', 34.0713, -118.2291, 1, 740, 101)\n"
     ]
    }
   ],
   "source": [
    "# Query data from crime table\n",
    "crime_data = conn.execute(\"SELECT * FROM crime\")\n",
    "\n",
    "i = 0\n",
    "for record in crime_data:\n",
    "    print(record)\n",
    "    i += 1\n",
    "    if i == 10:\n",
    "        break"
   ]
  },
  {
   "cell_type": "code",
   "execution_count": 3,
   "id": "a29dd68c",
   "metadata": {},
   "outputs": [
    {
     "name": "stdout",
     "output_type": "stream",
     "text": [
      "(121, 'Sexual Assualt or Rape')\n",
      "(122, 'Sexual Assualt or Rape')\n",
      "(210, 'Theft, Robbery, or Burglary')\n",
      "(220, 'Theft, Robbery, or Burglary')\n",
      "(230, 'Assault')\n",
      "(231, 'Assault')\n",
      "(235, 'Child Maltreatment')\n",
      "(236, 'Domestic Violence')\n",
      "(237, 'Child Maltreatment')\n",
      "(310, 'Theft, Robbery, or Burglary')\n"
     ]
    }
   ],
   "source": [
    "# Query data from crime type table\n",
    "crime_type_data = conn.execute(\"SELECT * FROM crime_type\")\n",
    "\n",
    "i = 0\n",
    "for record in crime_type_data:\n",
    "    print(record)\n",
    "    i += 1\n",
    "    if i == 10:\n",
    "        break"
   ]
  },
  {
   "cell_type": "code",
   "execution_count": 4,
   "id": "9bd563f7",
   "metadata": {},
   "outputs": [
    {
     "name": "stdout",
     "output_type": "stream",
     "text": [
      "(1, 'Central')\n",
      "(2, 'Rampart')\n",
      "(3, 'Southwest')\n",
      "(4, 'Hollenbeck')\n",
      "(5, 'Harbor')\n",
      "(6, 'Hollywood')\n",
      "(7, 'Wilshire')\n",
      "(8, 'West LA')\n",
      "(9, 'Van Nuys')\n",
      "(10, 'West Valley')\n"
     ]
    }
   ],
   "source": [
    "# Query data from crime table\n",
    "area_data = conn.execute(\"SELECT * FROM area\")\n",
    "\n",
    "i = 0\n",
    "for record in area_data:\n",
    "    print(record)\n",
    "    i += 1\n",
    "    if i == 10:\n",
    "        break"
   ]
  },
  {
   "cell_type": "code",
   "execution_count": 5,
   "id": "c34c72e0",
   "metadata": {},
   "outputs": [
    {
     "name": "stdout",
     "output_type": "stream",
     "text": [
      "(101, 'Freeway/Street')\n",
      "(102, 'Sidewalk')\n",
      "(103, 'Freeway/Street')\n",
      "(104, 'Driveway')\n",
      "(108, 'Parking Lot/Garage')\n",
      "(109, 'Park')\n",
      "(110, 'Freeway/Street')\n",
      "(117, 'Beach')\n",
      "(119, 'Residence')\n",
      "(121, 'Yard')\n"
     ]
    }
   ],
   "source": [
    "# Query data from crime table\n",
    "premise_data = conn.execute(\"SELECT * FROM premise\")\n",
    "\n",
    "i = 0\n",
    "for record in premise_data:\n",
    "    print(record)\n",
    "    i += 1\n",
    "    if i == 10:\n",
    "        break"
   ]
  },
  {
   "cell_type": "markdown",
   "id": "795ce7b2",
   "metadata": {},
   "source": [
    "## Joining the Tables"
   ]
  },
  {
   "cell_type": "code",
   "execution_count": 6,
   "id": "7ca0193c",
   "metadata": {},
   "outputs": [
    {
     "data": {
      "text/plain": [
       "['area', 'crime', 'crime_type', 'premise', 'la_crime']"
      ]
     },
     "execution_count": 6,
     "metadata": {},
     "output_type": "execute_result"
    }
   ],
   "source": [
    "# creating database session\n",
    "metadata = MetaData(bind=engine)\n",
    "Base = automap_base(metadata=metadata)\n",
    "# Use the Base class to reflect the database tables\n",
    "Base.prepare(engine=engine, reflect=True)\n",
    "Base.classes.keys()"
   ]
  },
  {
   "cell_type": "code",
   "execution_count": 7,
   "id": "78789e36",
   "metadata": {},
   "outputs": [
    {
     "data": {
      "text/plain": [
       "['area', 'crime', 'crime_type', 'la_crime', 'premise']"
      ]
     },
     "execution_count": 7,
     "metadata": {},
     "output_type": "execute_result"
    }
   ],
   "source": [
    "# Collect the names of tables within the database\n",
    "inspector = inspect(engine)\n",
    "inspector.get_table_names()"
   ]
  },
  {
   "cell_type": "code",
   "execution_count": 8,
   "id": "522f57e5",
   "metadata": {},
   "outputs": [
    {
     "name": "stdout",
     "output_type": "stream",
     "text": [
      "incident_id INTEGER\n",
      "year INTEGER\n",
      "month INTEGER\n",
      "month_name VARCHAR\n",
      "victim_age VARCHAR\n",
      "victim_ethnicity VARCHAR\n",
      "victim_gender VARCHAR\n",
      "lat FLOAT\n",
      "lon FLOAT\n",
      "area_code INTEGER\n",
      "crime_code INTEGER\n",
      "premise_code INTEGER\n"
     ]
    }
   ],
   "source": [
    "# Using the inspector to print the column names within the 'crime' table and its types\n",
    "columns = inspector.get_columns('crime')\n",
    "for column in columns:\n",
    "    print(column[\"name\"], column[\"type\"])"
   ]
  },
  {
   "cell_type": "code",
   "execution_count": 9,
   "id": "c129460b",
   "metadata": {},
   "outputs": [
    {
     "data": {
      "text/plain": [
       "Table('crime', MetaData(bind=Engine(sqlite:///Resources/la_crime.db)), Column('incident_id', INTEGER(), table=<crime>, primary_key=True, nullable=False), Column('year', INTEGER(), table=<crime>), Column('month', INTEGER(), table=<crime>), Column('month_name', VARCHAR(), table=<crime>), Column('victim_age', VARCHAR(), table=<crime>), Column('victim_ethnicity', VARCHAR(), table=<crime>), Column('victim_gender', VARCHAR(), table=<crime>), Column('lat', FLOAT(), table=<crime>), Column('lon', FLOAT(), table=<crime>), Column('area_code', INTEGER(), ForeignKey('area.area_code'), table=<crime>), Column('crime_code', INTEGER(), ForeignKey('crime_type.crime_code'), table=<crime>), Column('premise_code', INTEGER(), ForeignKey('premise.premise_code'), table=<crime>), schema=None)"
      ]
     },
     "execution_count": 9,
     "metadata": {},
     "output_type": "execute_result"
    }
   ],
   "source": [
    "# Reflect the database tables\n",
    "metadata =  MetaData(bind=engine)\n",
    "metadata.reflect()\n",
    "crime_table = metadata.tables['crime']\n",
    "area_table = metadata.tables['area']\n",
    "crime_type_table = metadata.tables['crime_type']\n",
    "premise_table = metadata.tables['premise']\n",
    "crime_table"
   ]
  },
  {
   "cell_type": "code",
   "execution_count": 10,
   "id": "dfb50d4b",
   "metadata": {},
   "outputs": [
    {
     "name": "stdout",
     "output_type": "stream",
     "text": [
      "49\n",
      "(121, 'Sexual Assualt or Rape')\n"
     ]
    }
   ],
   "source": [
    "# Select the crime table\n",
    "crime_type_tb = engine.execute(select([crime_type_table]))\n",
    "\n",
    "# Get all the rows\n",
    "rows = crime_type_tb.fetchall()\n",
    "\n",
    "# Print the number of rows\n",
    "print(len(rows))\n",
    "\n",
    "# Print the first row\n",
    "print(rows[0])"
   ]
  },
  {
   "cell_type": "code",
   "execution_count": 11,
   "id": "adca8809",
   "metadata": {},
   "outputs": [
    {
     "name": "stdout",
     "output_type": "stream",
     "text": [
      "757085\n",
      "(10304468, 2020, 1, 'January', '31-40', 'Black', 'Female', 34.0141, -118.2978, 3, 624, 501)\n"
     ]
    }
   ],
   "source": [
    "# Select the crime type table\n",
    "crime_tb = engine.execute(select([crime_table]))\n",
    "\n",
    "# Get all the rows\n",
    "rows = crime_tb.fetchall()\n",
    "\n",
    "# Print the number of rows\n",
    "print(len(rows))\n",
    "\n",
    "# Print the first row\n",
    "print(rows[0])"
   ]
  },
  {
   "cell_type": "code",
   "execution_count": 12,
   "id": "6344216a",
   "metadata": {},
   "outputs": [
    {
     "name": "stdout",
     "output_type": "stream",
     "text": [
      "21\n",
      "(1, 'Central')\n"
     ]
    }
   ],
   "source": [
    "# Select the area table\n",
    "area_tb = engine.execute(select([area_table]))\n",
    "\n",
    "# Get all the rows\n",
    "rows = area_tb.fetchall()\n",
    "\n",
    "# Print the number of rows\n",
    "print(len(rows))\n",
    "\n",
    "# Print the first row\n",
    "print(rows[0])"
   ]
  },
  {
   "cell_type": "code",
   "execution_count": 13,
   "id": "b204b09d",
   "metadata": {},
   "outputs": [
    {
     "name": "stdout",
     "output_type": "stream",
     "text": [
      "93\n",
      "(101, 'Freeway/Street')\n"
     ]
    }
   ],
   "source": [
    "# Select the premise table\n",
    "premise = engine.execute(select([premise_table]))\n",
    "\n",
    "# Get all the rows\n",
    "rows = premise.fetchall()\n",
    "\n",
    "# Print the number of rows\n",
    "print(len(rows))\n",
    "\n",
    "# Print the first row\n",
    "print(rows[0])"
   ]
  },
  {
   "cell_type": "code",
   "execution_count": 14,
   "id": "fc1ac607",
   "metadata": {},
   "outputs": [],
   "source": [
    "# Define the SQL query\n",
    "sql = text(\"\"\"SELECT * \n",
    "            FROM crime\n",
    "            LEFT JOIN area ON crime.area_code = area.area_code\n",
    "            LEFT JOIN premise ON crime.premise_code = premise.premise_code\n",
    "            LEFT JOIN crime_type ON crime.crime_code = crime_type.crime_code\"\"\")\n",
    "\n",
    "# Execute the SQL query\n",
    "la_crime = engine.execute(sql)"
   ]
  },
  {
   "cell_type": "code",
   "execution_count": 15,
   "id": "78e77b3c",
   "metadata": {},
   "outputs": [
    {
     "name": "stdout",
     "output_type": "stream",
     "text": [
      "Columns: ['incident_id', 'year', 'month', 'month_name', 'victim_age', 'victim_ethnicity', 'victim_gender', 'lat', 'lon', 'area_code', 'crime_code', 'premise_code', 'area_code', 'area_name', 'premise_code', 'premise', 'crime_code', 'crime']\n"
     ]
    }
   ],
   "source": [
    "# Print the column names\n",
    "print(f\"Columns: {la_crime.keys()}\")"
   ]
  },
  {
   "cell_type": "code",
   "execution_count": 16,
   "id": "b60d05e1",
   "metadata": {},
   "outputs": [
    {
     "name": "stdout",
     "output_type": "stream",
     "text": [
      "757085\n",
      "(10304468, 2020, 1, 'January', '31-40', 'Black', 'Female', 34.0141, -118.2978, 3, 624, 501, 3, 'Southwest', 501, 'Residence', 624, 'Assault')\n"
     ]
    }
   ],
   "source": [
    "# Get all the rows\n",
    "rows = la_crime.fetchall()\n",
    "\n",
    "# Print the number of rows\n",
    "print(len(rows))\n",
    "\n",
    "# Print the first row\n",
    "print(rows[0])"
   ]
  },
  {
   "cell_type": "code",
   "execution_count": 17,
   "id": "605ea482",
   "metadata": {},
   "outputs": [
    {
     "name": "stdout",
     "output_type": "stream",
     "text": [
      "(10304468, 2020, 1, 'January', '31-40', 'Black', 'Female', 34.0141, -118.2978, 3, 624, 501, 3, 'Southwest', 501, 'Residence', 624, 'Assault')\n",
      "(20305364, 2019, 1, 'January', '41-50', 'Hispanic', 'Male', 34.0055, -118.2915, 3, 626, 502, 3, 'Southwest', 502, 'Residence', 626, 'Domestic Violence')\n",
      "(170701073, 2018, 1, 'January', '11-20', 'Black', 'Male', 34.0421, -118.3456, 7, 888, 501, 7, 'Wilshire', 501, 'Residence', 888, 'Trespassing')\n",
      "(180100001, 2018, 9, 'September', '31-40', 'White', 'Female', 34.0382, -118.2889, 20, 510, 101, 20, 'Olympic', 101, 'Freeway/Street', 510, 'Vehicle Theft')\n",
      "(180100513, 2018, 1, 'January', '51-60', 'Black', 'Male', 34.0328, -118.2647, 1, 624, 101, 1, 'Central', 101, 'Freeway/Street', 624, 'Assault')\n",
      "(180100514, 2018, 1, 'January', '31-40', 'White', 'Female', 34.0428, -118.2532, 1, 230, 108, 1, 'Central', 108, 'Parking Lot/Garage', 230, 'Assault')\n",
      "(180100516, 2018, 1, 'January', '11-20', 'Other', 'Male', 34.0454, -118.2422, 1, 740, 101, 1, 'Central', 101, 'Freeway/Street', 740, 'Vandalism')\n",
      "(180100525, 2018, 1, 'January', '41-50', 'Hispanic', 'Male', 34.0487, -118.2588, 1, 624, 102, 1, 'Central', 102, 'Sidewalk', 624, 'Assault')\n",
      "(180100526, 2018, 1, 'January', '21-30', 'Hispanic', 'Female', 34.0487, -118.2588, 1, 624, 102, 1, 'Central', 102, 'Sidewalk', 624, 'Assault')\n",
      "(180100529, 2018, 1, 'January', '41-50', 'White', 'Male', 34.0713, -118.2291, 1, 740, 101, 1, 'Central', 101, 'Freeway/Street', 740, 'Vandalism')\n",
      "(180100531, 2018, 1, 'January', '61-70', 'Black', 'Male', 34.0589, -118.2323, 1, 230, 102, 1, 'Central', 102, 'Sidewalk', 230, 'Assault')\n"
     ]
    }
   ],
   "source": [
    "# print first 10 rows\n",
    "i = 0\n",
    "for row in rows:\n",
    "    print(row)\n",
    "    if i == 10:\n",
    "        break\n",
    "    i += 1"
   ]
  },
  {
   "cell_type": "markdown",
   "id": "7babc2c5",
   "metadata": {},
   "source": [
    "## Creating the final table for running queries "
   ]
  },
  {
   "cell_type": "code",
   "execution_count": 21,
   "id": "4915973e",
   "metadata": {},
   "outputs": [
    {
     "data": {
      "text/plain": [
       "['area', 'crime', 'crime_type', 'premise', 'la_crime']"
      ]
     },
     "execution_count": 21,
     "metadata": {},
     "output_type": "execute_result"
    }
   ],
   "source": [
    "# creating database session\n",
    "session = Session(engine)\n",
    "metadata = MetaData(bind=engine)\n",
    "Base = automap_base(metadata=metadata)\n",
    "# Use the Base class to reflect the database tables\n",
    "Base.prepare(engine = engine, reflect = True)\n",
    "Base.classes.keys()"
   ]
  },
  {
   "cell_type": "code",
   "execution_count": null,
   "id": "2b7ca7e5",
   "metadata": {},
   "outputs": [],
   "source": [
    "# Define the la_crime class , which will have a one-to-one relationship with the Area, premise and crime type tables\n",
    "class CrimeJoined(Base):\n",
    "    __tablename__ = 'la_crime'\n",
    "    id = Column(Integer, primary_key=True, autoincrement=True)\n",
    "    incident_id = Column(Integer)\n",
    "    year = Column(Integer)\n",
    "    month = Column(Integer)\n",
    "    month_name = Column(String)\n",
    "    victim_age = Column(String)\n",
    "    victim_ethnicity = Column(String)\n",
    "    victim_gender = Column(String)\n",
    "    lat = Column(Float)\n",
    "    lon = Column(Float)\n",
    "    area_code = Column(Integer)\n",
    "    crime_code = Column(Integer)\n",
    "    premise_code = Column(Integer)\n",
    "    area_name = Column(String, nullable=False)\n",
    "    crime = Column(String, nullable=False)\n",
    "    premise = Column(String, nullable=False)"
   ]
  },
  {
   "cell_type": "code",
   "execution_count": null,
   "id": "f81cd2bd",
   "metadata": {},
   "outputs": [],
   "source": [
    "# create the table in the database\n",
    "metadata.create_all(bind=engine, checkfirst=True)"
   ]
  },
  {
   "cell_type": "code",
   "execution_count": null,
   "id": "4b97eb66",
   "metadata": {},
   "outputs": [],
   "source": [
    "# Define the SQL query\n",
    "sql = text(\"\"\"SELECT * \n",
    "            FROM crime\n",
    "            LEFT JOIN area ON crime.area_code = area.area_code\n",
    "            LEFT JOIN premise ON crime.premise_code = premise.premise_code\n",
    "            LEFT JOIN crime_type ON crime.crime_code = crime_type.crime_code\"\"\")\n",
    "# Execute the SQL query\n",
    "la_crime = engine.execute(sql)\n",
    "rows = la_crime.fetchall()\n",
    "print(len(rows))\n",
    "\n",
    "# loop over the result set and insert each row into the new table\n",
    "for row in rows:\n",
    "    print(row)\n",
    "    new_row = CrimeJoined(incident_id = row.incident_id, \n",
    "                       year = row.year,\n",
    "                       month = row.month,\n",
    "                       month_name = row.month_name,\n",
    "                       victim_age = row.victim_age, \n",
    "                       victim_ethnicity = row.victim_ethnicity,\n",
    "                       victim_gender = row. victim_gender,\n",
    "                       lat = row.lat,\n",
    "                       lon = row.lon,\n",
    "                       area_code = row.area_code,\n",
    "                       crime_code = row.crime_code, \n",
    "                       premise_code= row.premise_code,\n",
    "                       area_name = row.area_name, \n",
    "                       crime = row.crime,\n",
    "                       premise = row.premise)\n",
    "    session.add(new_row)\n",
    "\n",
    "# commit the changes\n",
    "session.commit()"
   ]
  },
  {
   "cell_type": "code",
   "execution_count": 18,
   "id": "83e45a3c",
   "metadata": {},
   "outputs": [
    {
     "data": {
      "text/plain": [
       "['area', 'crime', 'crime_type', 'la_crime', 'premise']"
      ]
     },
     "execution_count": 18,
     "metadata": {},
     "output_type": "execute_result"
    }
   ],
   "source": [
    "inspector.get_table_names()"
   ]
  },
  {
   "cell_type": "code",
   "execution_count": null,
   "id": "c020e403",
   "metadata": {},
   "outputs": [],
   "source": [
    "# Select the la_crime table\n",
    "la_crime = engine.execute(select([metadata.tables['la_crime_joined']]))"
   ]
  },
  {
   "cell_type": "code",
   "execution_count": null,
   "id": "412ded4b",
   "metadata": {},
   "outputs": [],
   "source": [
    "# Get all the rows\n",
    "rows = la_crime_tb.fetchall()\n",
    "\n",
    "# Print the number of rows\n",
    "print(len(rows))\n",
    "\n",
    "# Print the first row\n",
    "print(rows[0])"
   ]
  },
  {
   "cell_type": "markdown",
   "id": "b0449db2",
   "metadata": {},
   "source": [
    "## Data Queries - using SQLAlchamey (copy to flask app to create functions)"
   ]
  },
  {
   "cell_type": "markdown",
   "id": "537cb92f",
   "metadata": {},
   "source": [
    "use the table named la_crime for all queries (class is CrimeJoined)"
   ]
  },
  {
   "cell_type": "code",
   "execution_count": 22,
   "id": "613e2ccc",
   "metadata": {},
   "outputs": [],
   "source": [
    "la_crime = engine.execute(select([metadata.tables['la_crime']]))"
   ]
  },
  {
   "cell_type": "code",
   "execution_count": 23,
   "id": "cb59e53f",
   "metadata": {},
   "outputs": [
    {
     "ename": "AttributeError",
     "evalue": "'ResultProxy' object has no attribute 'year'",
     "output_type": "error",
     "traceback": [
      "\u001b[1;31m---------------------------------------------------------------------------\u001b[0m",
      "\u001b[1;31mAttributeError\u001b[0m                            Traceback (most recent call last)",
      "\u001b[1;32m~\\AppData\\Local\\Temp\\ipykernel_49968\\2233914885.py\u001b[0m in \u001b[0;36m<module>\u001b[1;34m\u001b[0m\n\u001b[0;32m      1\u001b[0m \u001b[1;31m# Data for overall line chart by year - number of total crimes\u001b[0m\u001b[1;33m\u001b[0m\u001b[1;33m\u001b[0m\u001b[1;33m\u001b[0m\u001b[0m\n\u001b[1;32m----> 2\u001b[1;33m \u001b[0msel\u001b[0m \u001b[1;33m=\u001b[0m \u001b[1;33m[\u001b[0m\u001b[0mla_crime\u001b[0m\u001b[1;33m.\u001b[0m\u001b[0myear\u001b[0m\u001b[1;33m,\u001b[0m \u001b[0mla_crime\u001b[0m\u001b[1;33m.\u001b[0m\u001b[0mcrime\u001b[0m\u001b[1;33m]\u001b[0m\u001b[1;33m\u001b[0m\u001b[1;33m\u001b[0m\u001b[0m\n\u001b[0m\u001b[0;32m      3\u001b[0m \u001b[0mall_crimes_by_year\u001b[0m \u001b[1;33m=\u001b[0m \u001b[0msession\u001b[0m\u001b[1;33m.\u001b[0m\u001b[0mquery\u001b[0m\u001b[1;33m(\u001b[0m\u001b[1;33m*\u001b[0m\u001b[0msel\u001b[0m\u001b[1;33m)\u001b[0m\u001b[1;33m.\u001b[0m\u001b[0mgroup_by\u001b[0m\u001b[1;33m(\u001b[0m\u001b[0mla_crime\u001b[0m\u001b[1;33m.\u001b[0m\u001b[0myear\u001b[0m\u001b[1;33m)\u001b[0m\u001b[1;33m.\u001b[0m\u001b[0mall\u001b[0m\u001b[1;33m(\u001b[0m\u001b[1;33m)\u001b[0m\u001b[1;33m\u001b[0m\u001b[1;33m\u001b[0m\u001b[0m\n\u001b[0;32m      4\u001b[0m \u001b[0mall_crimes_by_year\u001b[0m\u001b[1;33m\u001b[0m\u001b[1;33m\u001b[0m\u001b[0m\n",
      "\u001b[1;31mAttributeError\u001b[0m: 'ResultProxy' object has no attribute 'year'"
     ]
    }
   ],
   "source": [
    "# Data for overall line chart by year - number of total crimes\n",
    "sel = [la_crime.year, la_crime.crime]\n",
    "all_crimes_by_year = session.query(*sel).group_by(la_crime.year).all()\n",
    "all_crimes_by_year"
   ]
  },
  {
   "cell_type": "code",
   "execution_count": null,
   "id": "ad259d53",
   "metadata": {},
   "outputs": [],
   "source": [
    "# Data for overall line chart by year - number of total crimes\n",
    "sel = [LA_Crime.year, \n",
    "       func.avg(Dow.open_price), \n",
    "       func.avg(Dow.high_price), \n",
    "       func.avg(Dow.low_price), \n",
    "       func.avg(Dow.close_price)]\n",
    "may_averages = session.query(*sel).\\\n",
    "    filter(LA_Crime.year == 2018).\\   # in the flask app replace the year 2018 with selected_year var\n",
    "    filter(LA_Crime.crime == 'Domestic Violence').\\   # in the flask app replace 'Domestic Violence' with selected_crime var\n",
    "    group_by(Dow.stock).\\\n",
    "    order_by(Dow.stock).all()\n",
    "may_averages\n",
    "\n",
    "\n",
    "num_rows = session.query(MyTable).count()\n",
    "\n",
    "'year', 'month', 'month_name', 'victim_age', 'victim_ethnicity', 'victim_gender', 'lat', 'lon', 'area_code', 'crime_code', 'premise_code', 'area_code', 'area_name', 'premise_code', 'premise', 'crime_code', 'crime'"
   ]
  }
 ],
 "metadata": {
  "kernelspec": {
   "display_name": "PythonData",
   "language": "python",
   "name": "pythondata"
  },
  "language_info": {
   "codemirror_mode": {
    "name": "ipython",
    "version": 3
   },
   "file_extension": ".py",
   "mimetype": "text/x-python",
   "name": "python",
   "nbconvert_exporter": "python",
   "pygments_lexer": "ipython3",
   "version": "3.7.7"
  }
 },
 "nbformat": 4,
 "nbformat_minor": 5
}
