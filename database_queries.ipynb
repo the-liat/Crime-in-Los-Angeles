{
 "cells": [
  {
   "cell_type": "code",
   "execution_count": 44,
   "id": "b851371a",
   "metadata": {},
   "outputs": [],
   "source": [
    "# dependencies\n",
    "from sqlalchemy import create_engine, inspect, MetaData, select, text, Table, func\n",
    "from sqlalchemy import Column, Integer, String, Float\n",
    "from sqlalchemy.orm import Session\n",
    "from sqlalchemy.ext.automap import automap_base\n",
    "\n",
    "# Create an engine that can talk to the database\n",
    "engine = create_engine(\"sqlite:///Resources/la_crime.db\", connect_args={'timeout': 30}, echo=False)\n",
    "conn = engine.connect()"
   ]
  },
  {
   "cell_type": "markdown",
   "id": "c430bc24",
   "metadata": {},
   "source": [
    "## Checking Database Data - using SQL"
   ]
  },
  {
   "cell_type": "code",
   "execution_count": 6,
   "id": "e37067df",
   "metadata": {},
   "outputs": [
    {
     "name": "stdout",
     "output_type": "stream",
     "text": [
      "(180512192, 2018, 6, 'June', '31-40', 'Hispanic', 'Female', 33.7932, -118.2648, 5, 626, 501)\n",
      "(181211151, 2018, 4, 'April', '51-60', 'Hispanic', 'Female', 33.9891, -118.3167, 12, 624, 101)\n",
      "(180220154, 2018, 9, 'September', '61-70', 'Hispanic', 'Female', 34.0529, -118.2733, 2, 624, 502)\n",
      "(190909830, 2018, 10, 'October', '31-40', 'Hispanic', 'Female', 34.1867, -118.4181, 9, 440, 502)\n",
      "(181113371, 2018, 7, 'July', '71+', 'White', 'Male', 34.1008, -118.2665, 11, 440, 501)\n",
      "(182019832, 2018, 8, 'August', '31-40', 'Asian', 'Female', 34.0588, -118.2941, 20, 440, 502)\n",
      "(181421617, 2018, 10, 'October', '31-40', 'White', 'Male', 34.029, -118.4032, 14, 480, 707)\n",
      "(180810320, 2018, 5, 'May', '51-60', 'White', 'Male', 34.0711, -118.46700000000001, 8, 649, 501)\n",
      "(180106451, 2018, 2, 'February', '21-30', 'Hispanic', 'Male', 34.0522, -118.2434, 1, 624, 102)\n",
      "(180413435, 2018, 3, 'March', '11-20', 'Hispanic', 'Female', 34.0299, -118.2037, 4, 860, 501)\n"
     ]
    }
   ],
   "source": [
    "# Query data from crime table\n",
    "crime_data = conn.execute(\"SELECT * FROM crime\")\n",
    "\n",
    "i = 0\n",
    "for record in crime_data:\n",
    "    print(record)\n",
    "    i += 1\n",
    "    if i == 10:\n",
    "        break"
   ]
  },
  {
   "cell_type": "code",
   "execution_count": 7,
   "id": "cc70d917",
   "metadata": {},
   "outputs": [
    {
     "name": "stdout",
     "output_type": "stream",
     "text": [
      "(626, 'Domestic Violence')\n",
      "(624, 'Assault')\n",
      "(440, 'Theft, Robbery, or Burglary')\n",
      "(480, 'Bike Theft')\n",
      "(649, 'Forgery')\n",
      "(860, 'Sexual Assualt or Rape')\n",
      "(421, 'Burglary from Vehicle')\n",
      "(740, 'Vandalism')\n",
      "(341, 'Theft, Robbery, or Burglary')\n",
      "(888, 'Trespassing')\n"
     ]
    }
   ],
   "source": [
    "# Query data from crime type table\n",
    "crime_type_data = conn.execute(\"SELECT * FROM crime_type\")\n",
    "\n",
    "i = 0\n",
    "for record in crime_type_data:\n",
    "    print(record)\n",
    "    i += 1\n",
    "    if i == 10:\n",
    "        break"
   ]
  },
  {
   "cell_type": "code",
   "execution_count": 8,
   "id": "2ae351fe",
   "metadata": {},
   "outputs": [
    {
     "name": "stdout",
     "output_type": "stream",
     "text": [
      "(5, 'Harbor')\n",
      "(12, '77th Street')\n",
      "(2, 'Rampart')\n",
      "(9, 'Van Nuys')\n",
      "(11, 'Northeast')\n",
      "(20, 'Olympic')\n",
      "(14, 'Pacific')\n",
      "(8, 'West LA')\n",
      "(1, 'Central')\n",
      "(4, 'Hollenbeck')\n"
     ]
    }
   ],
   "source": [
    "# Query data from crime table\n",
    "area_data = conn.execute(\"SELECT * FROM area\")\n",
    "\n",
    "i = 0\n",
    "for record in area_data:\n",
    "    print(record)\n",
    "    i += 1\n",
    "    if i == 10:\n",
    "        break"
   ]
  },
  {
   "cell_type": "code",
   "execution_count": 9,
   "id": "881b7a15",
   "metadata": {},
   "outputs": [
    {
     "name": "stdout",
     "output_type": "stream",
     "text": [
      "(501, 'Residence')\n",
      "(101, 'Freeway/Street')\n",
      "(502, 'Residence')\n",
      "(707, 'Residence')\n",
      "(102, 'Sidewalk')\n",
      "(103, 'Freeway/Street')\n",
      "(108, 'Parking Lot/Garage')\n",
      "(404, 'Store')\n",
      "(203, 'Business')\n",
      "(109, 'Park')\n"
     ]
    }
   ],
   "source": [
    "# Query data from crime table\n",
    "premise_data = conn.execute(\"SELECT * FROM premise\")\n",
    "\n",
    "i = 0\n",
    "for record in premise_data:\n",
    "    print(record)\n",
    "    i += 1\n",
    "    if i == 10:\n",
    "        break"
   ]
  },
  {
   "cell_type": "markdown",
   "id": "9fbe3170",
   "metadata": {},
   "source": [
    "## Joining the Tables"
   ]
  },
  {
   "cell_type": "code",
   "execution_count": 47,
   "id": "5691f09f",
   "metadata": {},
   "outputs": [
    {
     "data": {
      "text/plain": [
       "['la_crime_joined']"
      ]
     },
     "execution_count": 47,
     "metadata": {},
     "output_type": "execute_result"
    }
   ],
   "source": [
    "# creating database session\n",
    "metadata = MetaData(bind=engine)\n",
    "Base = automap_base(metadata=metadata)\n",
    "# Use the Base class to reflect the database tables\n",
    "Base.prepare(engine=engine, reflect=True)\n",
    "Base.classes.keys()"
   ]
  },
  {
   "cell_type": "code",
   "execution_count": 48,
   "id": "77527e79",
   "metadata": {},
   "outputs": [
    {
     "data": {
      "text/plain": [
       "['area', 'crime', 'crime_type', 'la_crime', 'la_crime_joined', 'premise']"
      ]
     },
     "execution_count": 48,
     "metadata": {},
     "output_type": "execute_result"
    }
   ],
   "source": [
    "# Collect the names of tables within the database\n",
    "inspector = inspect(engine)\n",
    "inspector.get_table_names()"
   ]
  },
  {
   "cell_type": "code",
   "execution_count": 12,
   "id": "9891c473",
   "metadata": {},
   "outputs": [
    {
     "name": "stdout",
     "output_type": "stream",
     "text": [
      "incident_id INTEGER\n",
      "year INTEGER\n",
      "month INTEGER\n",
      "month_name TEXT\n",
      "victim_age TEXT\n",
      "victim_ethnicity TEXT\n",
      "victim_gender TEXT\n",
      "lat REAL\n",
      "lon REAL\n",
      "area_code INTEGER\n",
      "crime_code INTEGER\n",
      "premise_code INTEGER\n"
     ]
    }
   ],
   "source": [
    "# Using the inspector to print the column names within the 'crime' table and its types\n",
    "columns = inspector.get_columns('crime')\n",
    "for column in columns:\n",
    "    print(column[\"name\"], column[\"type\"])"
   ]
  },
  {
   "cell_type": "code",
   "execution_count": 49,
   "id": "d42dad0f",
   "metadata": {},
   "outputs": [
    {
     "data": {
      "text/plain": [
       "Table('crime', MetaData(bind=Engine(sqlite:///Resources/la_crime.db)), Column('incident_id', INTEGER(), table=<crime>), Column('year', INTEGER(), table=<crime>), Column('month', INTEGER(), table=<crime>), Column('month_name', TEXT(), table=<crime>), Column('victim_age', TEXT(), table=<crime>), Column('victim_ethnicity', TEXT(), table=<crime>), Column('victim_gender', TEXT(), table=<crime>), Column('lat', REAL(), table=<crime>), Column('lon', REAL(), table=<crime>), Column('area_code', INTEGER(), table=<crime>), Column('crime_code', INTEGER(), table=<crime>), Column('premise_code', INTEGER(), table=<crime>), schema=None)"
      ]
     },
     "execution_count": 49,
     "metadata": {},
     "output_type": "execute_result"
    }
   ],
   "source": [
    "# Reflect the database tables\n",
    "metadata =  MetaData(bind=engine)\n",
    "metadata.reflect()\n",
    "crime_table = metadata.tables['crime']\n",
    "area_table = metadata.tables['area']\n",
    "crime_type_table = metadata.tables['crime_type']\n",
    "premise_table = metadata.tables['premise']\n",
    "crime_table"
   ]
  },
  {
   "cell_type": "code",
   "execution_count": 50,
   "id": "587bb265",
   "metadata": {},
   "outputs": [
    {
     "name": "stdout",
     "output_type": "stream",
     "text": [
      "49\n",
      "(626, 'Domestic Violence')\n"
     ]
    }
   ],
   "source": [
    "# Select the crime table\n",
    "crime_type_tb = engine.execute(select([crime_type_table]))\n",
    "\n",
    "# Get all the rows\n",
    "rows = crime_type_tb.fetchall()\n",
    "\n",
    "# Print the number of rows\n",
    "print(len(rows))\n",
    "\n",
    "# Print the first row\n",
    "print(rows[0])"
   ]
  },
  {
   "cell_type": "code",
   "execution_count": 51,
   "id": "ccaa389f",
   "metadata": {},
   "outputs": [
    {
     "name": "stdout",
     "output_type": "stream",
     "text": [
      "757085\n",
      "(180512192, 2018, 6, 'June', '31-40', 'Hispanic', 'Female', 33.7932, -118.2648, 5, 626, 501)\n"
     ]
    }
   ],
   "source": [
    "# Select the crime type table\n",
    "crime_tb = engine.execute(select([crime_table]))\n",
    "\n",
    "# Get all the rows\n",
    "rows = crime_tb.fetchall()\n",
    "\n",
    "# Print the number of rows\n",
    "print(len(rows))\n",
    "\n",
    "# Print the first row\n",
    "print(rows[0])"
   ]
  },
  {
   "cell_type": "code",
   "execution_count": 52,
   "id": "70c7c66f",
   "metadata": {},
   "outputs": [
    {
     "name": "stdout",
     "output_type": "stream",
     "text": [
      "21\n",
      "(5, 'Harbor')\n"
     ]
    }
   ],
   "source": [
    "# Select the area table\n",
    "area_tb = engine.execute(select([area_table]))\n",
    "\n",
    "# Get all the rows\n",
    "rows = area_tb.fetchall()\n",
    "\n",
    "# Print the number of rows\n",
    "print(len(rows))\n",
    "\n",
    "# Print the first row\n",
    "print(rows[0])"
   ]
  },
  {
   "cell_type": "code",
   "execution_count": 53,
   "id": "8d442dea",
   "metadata": {},
   "outputs": [
    {
     "name": "stdout",
     "output_type": "stream",
     "text": [
      "93\n",
      "(501, 'Residence')\n"
     ]
    }
   ],
   "source": [
    "# Select the premise table\n",
    "premise = engine.execute(select([premise_table]))\n",
    "\n",
    "# Get all the rows\n",
    "rows = premise.fetchall()\n",
    "\n",
    "# Print the number of rows\n",
    "print(len(rows))\n",
    "\n",
    "# Print the first row\n",
    "print(rows[0])"
   ]
  },
  {
   "cell_type": "code",
   "execution_count": 32,
   "id": "6dd0b24e",
   "metadata": {},
   "outputs": [],
   "source": [
    "# Define the SQL query\n",
    "sql = text(\"\"\"SELECT * \n",
    "            FROM crime\n",
    "            LEFT JOIN area ON crime.area_code = area.area_code\n",
    "            LEFT JOIN premise ON crime.premise_code = premise.premise_code\n",
    "            LEFT JOIN crime_type ON crime.crime_code = crime_type.crime_code\"\"\")\n",
    "\n",
    "# Execute the SQL query\n",
    "la_crime = engine.execute(sql)"
   ]
  },
  {
   "cell_type": "code",
   "execution_count": 33,
   "id": "a6d26c49",
   "metadata": {},
   "outputs": [
    {
     "name": "stdout",
     "output_type": "stream",
     "text": [
      "Columns: ['incident_id', 'year', 'month', 'month_name', 'victim_age', 'victim_ethnicity', 'victim_gender', 'lat', 'lon', 'area_code', 'crime_code', 'premise_code', 'area_code', 'area_name', 'premise_code', 'premise', 'crime_code', 'crime']\n"
     ]
    }
   ],
   "source": [
    "# Print the column names\n",
    "print(f\"Columns: {la_crime.keys()}\")"
   ]
  },
  {
   "cell_type": "code",
   "execution_count": 34,
   "id": "43dbcd1d",
   "metadata": {},
   "outputs": [
    {
     "name": "stdout",
     "output_type": "stream",
     "text": [
      "757085\n",
      "(180512192, 2018, 6, 'June', '31-40', 'Hispanic', 'Female', 33.7932, -118.2648, 5, 626, 501, 5, 'Harbor', 501, 'Residence', 626, 'Domestic Violence')\n"
     ]
    }
   ],
   "source": [
    "# Get all the rows\n",
    "rows = la_crime.fetchall()\n",
    "\n",
    "# Print the number of rows\n",
    "print(len(rows))\n",
    "\n",
    "# Print the first row\n",
    "print(rows[0])"
   ]
  },
  {
   "cell_type": "code",
   "execution_count": 21,
   "id": "a62c68a8",
   "metadata": {},
   "outputs": [
    {
     "name": "stdout",
     "output_type": "stream",
     "text": [
      "(180512192, 2018, 6, 'June', '31-40', 'Hispanic', 'Female', 33.7932, -118.2648, 5, 626, 501, 5, 'Harbor', 501, 'Residence', 626, 'Domestic Violence')\n",
      "(181211151, 2018, 4, 'April', '51-60', 'Hispanic', 'Female', 33.9891, -118.3167, 12, 624, 101, 12, '77th Street', 101, 'Freeway/Street', 624, 'Assault')\n",
      "(180220154, 2018, 9, 'September', '61-70', 'Hispanic', 'Female', 34.0529, -118.2733, 2, 624, 502, 2, 'Rampart', 502, 'Residence', 624, 'Assault')\n",
      "(190909830, 2018, 10, 'October', '31-40', 'Hispanic', 'Female', 34.1867, -118.4181, 9, 440, 502, 9, 'Van Nuys', 502, 'Residence', 440, 'Theft, Robbery, or Burglary')\n",
      "(181113371, 2018, 7, 'July', '71+', 'White', 'Male', 34.1008, -118.2665, 11, 440, 501, 11, 'Northeast', 501, 'Residence', 440, 'Theft, Robbery, or Burglary')\n",
      "(182019832, 2018, 8, 'August', '31-40', 'Asian', 'Female', 34.0588, -118.2941, 20, 440, 502, 20, 'Olympic', 502, 'Residence', 440, 'Theft, Robbery, or Burglary')\n",
      "(181421617, 2018, 10, 'October', '31-40', 'White', 'Male', 34.029, -118.4032, 14, 480, 707, 14, 'Pacific', 707, 'Residence', 480, 'Bike Theft')\n",
      "(180810320, 2018, 5, 'May', '51-60', 'White', 'Male', 34.0711, -118.46700000000001, 8, 649, 501, 8, 'West LA', 501, 'Residence', 649, 'Forgery')\n",
      "(180106451, 2018, 2, 'February', '21-30', 'Hispanic', 'Male', 34.0522, -118.2434, 1, 624, 102, 1, 'Central', 102, 'Sidewalk', 624, 'Assault')\n",
      "(180413435, 2018, 3, 'March', '11-20', 'Hispanic', 'Female', 34.0299, -118.2037, 4, 860, 501, 4, 'Hollenbeck', 501, 'Residence', 860, 'Sexual Assualt or Rape')\n",
      "(181815736, 2018, 7, 'July', '51-60', 'Hispanic', 'Male', 33.9473, -118.2396, 18, 421, 103, 18, 'Southeast', 103, 'Freeway/Street', 421, 'Burglary from Vehicle')\n"
     ]
    }
   ],
   "source": [
    "# print first 10 rows\n",
    "i = 0\n",
    "for row in rows:\n",
    "    print(row)\n",
    "    if i == 10:\n",
    "        break\n",
    "    i += 1"
   ]
  },
  {
   "cell_type": "markdown",
   "id": "8435af0c",
   "metadata": {},
   "source": [
    "## Creating the final table for running queries "
   ]
  },
  {
   "cell_type": "code",
   "execution_count": 35,
   "id": "17a1d68f",
   "metadata": {},
   "outputs": [
    {
     "data": {
      "text/plain": [
       "['la_crime_joined']"
      ]
     },
     "execution_count": 35,
     "metadata": {},
     "output_type": "execute_result"
    }
   ],
   "source": [
    "# creating database session\n",
    "session = Session(engine)\n",
    "metadata = MetaData(bind=engine)\n",
    "Base = automap_base(metadata=metadata)\n",
    "# Use the Base class to reflect the database tables\n",
    "Base.prepare(engine = engine, reflect = True)\n",
    "Base.classes.keys()"
   ]
  },
  {
   "cell_type": "code",
   "execution_count": 3,
   "id": "ca591e19",
   "metadata": {},
   "outputs": [],
   "source": [
    "# Define the la_crime class , which will have a one-to-one relationship with the Area, premise and crime type tables\n",
    "class CrimeJoined(Base):\n",
    "    __tablename__ = 'la_crime_joined'\n",
    "    incident_id = Column(Integer, primary_key=True)\n",
    "    year = Column(Integer)\n",
    "    month = Column(Integer)\n",
    "    month_name = Column(String)\n",
    "    victim_age = Column(String)\n",
    "    victim_ethnicity = Column(String)\n",
    "    victim_gender = Column(String)\n",
    "    lat = Column(Float)\n",
    "    lon = Column(Float)\n",
    "    area_code = Column(Integer)\n",
    "    crime_code = Column(Integer)\n",
    "    premise_code = Column(Integer)\n",
    "    area_name = Column(String, nullable=False)\n",
    "    crime = Column(String, nullable=False)\n",
    "    premise = Column(String, nullable=False)"
   ]
  },
  {
   "cell_type": "code",
   "execution_count": 4,
   "id": "7f0e4537",
   "metadata": {},
   "outputs": [],
   "source": [
    "# create the table in the database\n",
    "metadata.create_all(bind=engine, checkfirst=True)"
   ]
  },
  {
   "cell_type": "code",
   "execution_count": 54,
   "id": "68765363",
   "metadata": {},
   "outputs": [
    {
     "name": "stdout",
     "output_type": "stream",
     "text": [
      "757085\n"
     ]
    },
    {
     "ename": "UnmappedInstanceError",
     "evalue": "Class '__main__.CrimeJoined' is not mapped",
     "output_type": "error",
     "traceback": [
      "\u001b[1;31m---------------------------------------------------------------------------\u001b[0m",
      "\u001b[1;31mAttributeError\u001b[0m                            Traceback (most recent call last)",
      "\u001b[1;32m~\\anaconda3\\envs\\PythonData\\lib\\site-packages\\sqlalchemy\\orm\\session.py\u001b[0m in \u001b[0;36madd\u001b[1;34m(self, instance, _warn)\u001b[0m\n\u001b[0;32m   2001\u001b[0m         \u001b[1;32mtry\u001b[0m\u001b[1;33m:\u001b[0m\u001b[1;33m\u001b[0m\u001b[1;33m\u001b[0m\u001b[0m\n\u001b[1;32m-> 2002\u001b[1;33m             \u001b[0mstate\u001b[0m \u001b[1;33m=\u001b[0m \u001b[0mattributes\u001b[0m\u001b[1;33m.\u001b[0m\u001b[0minstance_state\u001b[0m\u001b[1;33m(\u001b[0m\u001b[0minstance\u001b[0m\u001b[1;33m)\u001b[0m\u001b[1;33m\u001b[0m\u001b[1;33m\u001b[0m\u001b[0m\n\u001b[0m\u001b[0;32m   2003\u001b[0m         \u001b[1;32mexcept\u001b[0m \u001b[0mexc\u001b[0m\u001b[1;33m.\u001b[0m\u001b[0mNO_STATE\u001b[0m \u001b[1;32mas\u001b[0m \u001b[0merr\u001b[0m\u001b[1;33m:\u001b[0m\u001b[1;33m\u001b[0m\u001b[1;33m\u001b[0m\u001b[0m\n",
      "\u001b[1;31mAttributeError\u001b[0m: 'CrimeJoined' object has no attribute '_sa_instance_state'",
      "\nThe above exception was the direct cause of the following exception:\n",
      "\u001b[1;31mUnmappedInstanceError\u001b[0m                     Traceback (most recent call last)",
      "\u001b[1;32m~\\AppData\\Local\\Temp\\ipykernel_45252\\1302825834.py\u001b[0m in \u001b[0;36m<module>\u001b[1;34m\u001b[0m\n\u001b[0;32m     27\u001b[0m                        \u001b[0mcrime\u001b[0m \u001b[1;33m=\u001b[0m \u001b[0mrow\u001b[0m\u001b[1;33m.\u001b[0m\u001b[0mcrime\u001b[0m\u001b[1;33m,\u001b[0m\u001b[1;33m\u001b[0m\u001b[1;33m\u001b[0m\u001b[0m\n\u001b[0;32m     28\u001b[0m                        premise = row.premise)\n\u001b[1;32m---> 29\u001b[1;33m     \u001b[0msession\u001b[0m\u001b[1;33m.\u001b[0m\u001b[0madd\u001b[0m\u001b[1;33m(\u001b[0m\u001b[0mnew_row\u001b[0m\u001b[1;33m)\u001b[0m\u001b[1;33m\u001b[0m\u001b[1;33m\u001b[0m\u001b[0m\n\u001b[0m\u001b[0;32m     30\u001b[0m \u001b[1;33m\u001b[0m\u001b[0m\n\u001b[0;32m     31\u001b[0m \u001b[1;31m# commit the changes\u001b[0m\u001b[1;33m\u001b[0m\u001b[1;33m\u001b[0m\u001b[1;33m\u001b[0m\u001b[0m\n",
      "\u001b[1;32m~\\anaconda3\\envs\\PythonData\\lib\\site-packages\\sqlalchemy\\orm\\session.py\u001b[0m in \u001b[0;36madd\u001b[1;34m(self, instance, _warn)\u001b[0m\n\u001b[0;32m   2003\u001b[0m         \u001b[1;32mexcept\u001b[0m \u001b[0mexc\u001b[0m\u001b[1;33m.\u001b[0m\u001b[0mNO_STATE\u001b[0m \u001b[1;32mas\u001b[0m \u001b[0merr\u001b[0m\u001b[1;33m:\u001b[0m\u001b[1;33m\u001b[0m\u001b[1;33m\u001b[0m\u001b[0m\n\u001b[0;32m   2004\u001b[0m             util.raise_(\n\u001b[1;32m-> 2005\u001b[1;33m                 \u001b[0mexc\u001b[0m\u001b[1;33m.\u001b[0m\u001b[0mUnmappedInstanceError\u001b[0m\u001b[1;33m(\u001b[0m\u001b[0minstance\u001b[0m\u001b[1;33m)\u001b[0m\u001b[1;33m,\u001b[0m \u001b[0mreplace_context\u001b[0m\u001b[1;33m=\u001b[0m\u001b[0merr\u001b[0m\u001b[1;33m,\u001b[0m\u001b[1;33m\u001b[0m\u001b[1;33m\u001b[0m\u001b[0m\n\u001b[0m\u001b[0;32m   2006\u001b[0m             )\n\u001b[0;32m   2007\u001b[0m \u001b[1;33m\u001b[0m\u001b[0m\n",
      "\u001b[1;32m~\\anaconda3\\envs\\PythonData\\lib\\site-packages\\sqlalchemy\\util\\compat.py\u001b[0m in \u001b[0;36mraise_\u001b[1;34m(***failed resolving arguments***)\u001b[0m\n\u001b[0;32m    176\u001b[0m \u001b[1;33m\u001b[0m\u001b[0m\n\u001b[0;32m    177\u001b[0m         \u001b[1;32mtry\u001b[0m\u001b[1;33m:\u001b[0m\u001b[1;33m\u001b[0m\u001b[1;33m\u001b[0m\u001b[0m\n\u001b[1;32m--> 178\u001b[1;33m             \u001b[1;32mraise\u001b[0m \u001b[0mexception\u001b[0m\u001b[1;33m\u001b[0m\u001b[1;33m\u001b[0m\u001b[0m\n\u001b[0m\u001b[0;32m    179\u001b[0m         \u001b[1;32mfinally\u001b[0m\u001b[1;33m:\u001b[0m\u001b[1;33m\u001b[0m\u001b[1;33m\u001b[0m\u001b[0m\n\u001b[0;32m    180\u001b[0m             \u001b[1;31m# credit to\u001b[0m\u001b[1;33m\u001b[0m\u001b[1;33m\u001b[0m\u001b[1;33m\u001b[0m\u001b[0m\n",
      "\u001b[1;31mUnmappedInstanceError\u001b[0m: Class '__main__.CrimeJoined' is not mapped"
     ]
    }
   ],
   "source": [
    "# Define the SQL query\n",
    "sql = text(\"\"\"SELECT * \n",
    "            FROM crime\n",
    "            LEFT JOIN area ON crime.area_code = area.area_code\n",
    "            LEFT JOIN premise ON crime.premise_code = premise.premise_code\n",
    "            LEFT JOIN crime_type ON crime.crime_code = crime_type.crime_code\"\"\")\n",
    "# Execute the SQL query\n",
    "la_crime = engine.execute(sql)\n",
    "rows = la_crime.fetchall()\n",
    "print(len(rows))\n",
    "\n",
    "# loop over the result set and insert each row into the new table\n",
    "for row in rows:\n",
    "    new_row = CrimeJoined(incident_id = row.incident_id, \n",
    "                       year = row.year,\n",
    "                       month = row.month,\n",
    "                       month_name = row.month_name,\n",
    "                       victim_age = row.victim_age, \n",
    "                       victim_ethnicity = row.victim_ethnicity,\n",
    "                       victim_gender = row. victim_gender,\n",
    "                       lat = row.lat,\n",
    "                       lon = row.lon,\n",
    "                       area_code = row.area_code,\n",
    "                       crime_code = row.crime_code, \n",
    "                       premise_code= row.premise_code,\n",
    "                       area_name = row.area_name, \n",
    "                       crime = row.crime,\n",
    "                       premise = row.premise)\n",
    "    session.add(new_row)\n",
    "\n",
    "# commit the changes\n",
    "session.commit()"
   ]
  },
  {
   "cell_type": "code",
   "execution_count": 39,
   "id": "dc0b36c2",
   "metadata": {},
   "outputs": [
    {
     "data": {
      "text/plain": [
       "['area', 'crime', 'crime_type', 'la_crime', 'la_crime_joined', 'premise']"
      ]
     },
     "execution_count": 39,
     "metadata": {},
     "output_type": "execute_result"
    }
   ],
   "source": [
    "inspector.get_table_names()"
   ]
  },
  {
   "cell_type": "code",
   "execution_count": 40,
   "id": "4eac85df",
   "metadata": {},
   "outputs": [],
   "source": [
    "# Select the la_crime table\n",
    "la_crime_tb = engine.execute(select([metadata.tables['la_crime_joined']]))"
   ]
  },
  {
   "cell_type": "code",
   "execution_count": 41,
   "id": "21a80e14",
   "metadata": {},
   "outputs": [
    {
     "name": "stdout",
     "output_type": "stream",
     "text": [
      "0\n"
     ]
    },
    {
     "ename": "IndexError",
     "evalue": "list index out of range",
     "output_type": "error",
     "traceback": [
      "\u001b[1;31m---------------------------------------------------------------------------\u001b[0m",
      "\u001b[1;31mIndexError\u001b[0m                                Traceback (most recent call last)",
      "\u001b[1;32m~\\AppData\\Local\\Temp\\ipykernel_45252\\4261871500.py\u001b[0m in \u001b[0;36m<module>\u001b[1;34m\u001b[0m\n\u001b[0;32m      6\u001b[0m \u001b[1;33m\u001b[0m\u001b[0m\n\u001b[0;32m      7\u001b[0m \u001b[1;31m# Print the first row\u001b[0m\u001b[1;33m\u001b[0m\u001b[1;33m\u001b[0m\u001b[1;33m\u001b[0m\u001b[0m\n\u001b[1;32m----> 8\u001b[1;33m \u001b[0mprint\u001b[0m\u001b[1;33m(\u001b[0m\u001b[0mrows\u001b[0m\u001b[1;33m[\u001b[0m\u001b[1;36m0\u001b[0m\u001b[1;33m]\u001b[0m\u001b[1;33m)\u001b[0m\u001b[1;33m\u001b[0m\u001b[1;33m\u001b[0m\u001b[0m\n\u001b[0m",
      "\u001b[1;31mIndexError\u001b[0m: list index out of range"
     ]
    }
   ],
   "source": [
    "# Get all the rows\n",
    "rows = la_crime_tb.fetchall()\n",
    "\n",
    "# Print the number of rows\n",
    "print(len(rows))\n",
    "\n",
    "# Print the first row\n",
    "print(rows[0])"
   ]
  },
  {
   "cell_type": "markdown",
   "id": "317544d4",
   "metadata": {},
   "source": [
    "## Data Queries - using SQLAlchamey (copy to flask app to create functions)"
   ]
  },
  {
   "cell_type": "markdown",
   "id": "ccfd670c",
   "metadata": {},
   "source": [
    "use the table named la_crime_tb for all queries"
   ]
  },
  {
   "cell_type": "code",
   "execution_count": null,
   "id": "1e512513",
   "metadata": {},
   "outputs": [],
   "source": [
    "group_by(la_crime_tb.year)."
   ]
  },
  {
   "cell_type": "code",
   "execution_count": 24,
   "id": "589e27d0",
   "metadata": {},
   "outputs": [
    {
     "ename": "AttributeError",
     "evalue": "'ResultProxy' object has no attribute 'year'",
     "output_type": "error",
     "traceback": [
      "\u001b[1;31m---------------------------------------------------------------------------\u001b[0m",
      "\u001b[1;31mAttributeError\u001b[0m                            Traceback (most recent call last)",
      "\u001b[1;32m~\\AppData\\Local\\Temp\\ipykernel_55612\\24355691.py\u001b[0m in \u001b[0;36m<module>\u001b[1;34m\u001b[0m\n\u001b[0;32m      1\u001b[0m \u001b[1;31m# Data for overall line chart by year - number of total crimes\u001b[0m\u001b[1;33m\u001b[0m\u001b[1;33m\u001b[0m\u001b[1;33m\u001b[0m\u001b[0m\n\u001b[1;32m----> 2\u001b[1;33m \u001b[0msel\u001b[0m \u001b[1;33m=\u001b[0m \u001b[1;33m[\u001b[0m\u001b[0mla_crime_tb\u001b[0m\u001b[1;33m.\u001b[0m\u001b[0myear\u001b[0m\u001b[1;33m,\u001b[0m \u001b[0mla_crime_tb\u001b[0m\u001b[1;33m.\u001b[0m\u001b[0mcrime\u001b[0m\u001b[1;33m]\u001b[0m\u001b[1;33m\u001b[0m\u001b[1;33m\u001b[0m\u001b[0m\n\u001b[0m\u001b[0;32m      3\u001b[0m \u001b[0mall_crimes_by_year\u001b[0m \u001b[1;33m=\u001b[0m \u001b[0msession\u001b[0m\u001b[1;33m.\u001b[0m\u001b[0mquery\u001b[0m\u001b[1;33m(\u001b[0m\u001b[1;33m*\u001b[0m\u001b[0msel\u001b[0m\u001b[1;33m)\u001b[0m\u001b[1;33m.\u001b[0m\u001b[0mall\u001b[0m\u001b[1;33m(\u001b[0m\u001b[1;33m)\u001b[0m\u001b[1;33m\u001b[0m\u001b[1;33m\u001b[0m\u001b[0m\n\u001b[0;32m      4\u001b[0m \u001b[0mall_crimes_by_year\u001b[0m\u001b[1;33m\u001b[0m\u001b[1;33m\u001b[0m\u001b[0m\n",
      "\u001b[1;31mAttributeError\u001b[0m: 'ResultProxy' object has no attribute 'year'"
     ]
    }
   ],
   "source": [
    "# Data for overall line chart by year - number of total crimes\n",
    "sel = [la_crime_tb.year, la_crime_tb.crime]\n",
    "all_crimes_by_year = session.query(*sel).all()\n",
    "all_crimes_by_year"
   ]
  },
  {
   "cell_type": "code",
   "execution_count": null,
   "id": "81e369ad",
   "metadata": {},
   "outputs": [],
   "source": [
    "# Data for overall line chart by year - number of total crimes\n",
    "sel = [LA_Crime.year, \n",
    "       func.avg(Dow.open_price), \n",
    "       func.avg(Dow.high_price), \n",
    "       func.avg(Dow.low_price), \n",
    "       func.avg(Dow.close_price)]\n",
    "may_averages = session.query(*sel).\\\n",
    "    filter(LA_Crime.year == 2018).\\   # in the flask app replace the year 2018 with selected_year var\n",
    "    filter(LA_Crime.crime == 'Domestic Violence').\\   # in the flask app replace 'Domestic Violence' with selected_crime var\n",
    "    group_by(Dow.stock).\\\n",
    "    order_by(Dow.stock).all()\n",
    "may_averages\n",
    "\n",
    "\n",
    "num_rows = session.query(MyTable).count()\n",
    "\n",
    "'year', 'month', 'month_name', 'victim_age', 'victim_ethnicity', 'victim_gender', 'lat', 'lon', 'area_code', 'crime_code', 'premise_code', 'area_code', 'area_name', 'premise_code', 'premise', 'crime_code', 'crime'"
   ]
  }
 ],
 "metadata": {
  "kernelspec": {
   "display_name": "PythonData",
   "language": "python",
   "name": "pythondata"
  },
  "language_info": {
   "codemirror_mode": {
    "name": "ipython",
    "version": 3
   },
   "file_extension": ".py",
   "mimetype": "text/x-python",
   "name": "python",
   "nbconvert_exporter": "python",
   "pygments_lexer": "ipython3",
   "version": "3.7.7"
  }
 },
 "nbformat": 4,
 "nbformat_minor": 5
}
