{
 "cells": [
  {
   "cell_type": "code",
   "execution_count": 8,
   "id": "d3853b6f",
   "metadata": {},
   "outputs": [
    {
     "name": "stdout",
     "output_type": "stream",
     "text": [
      "('Assault', 142949)\n",
      "('Bike Theft', 9902)\n",
      "('Brandish Weapon', 14837)\n",
      "('Burglary from Vehicle', 125171)\n",
      "('Child Maltreatment', 8474)\n",
      "('Criminal threat', 21777)\n",
      "('Domestic Violence', 70450)\n",
      "('Extortion', 1974)\n",
      "('Forgery', 3769)\n",
      "('Identity Theft', 57041)\n"
     ]
    }
   ],
   "source": [
    "# dependencies\n",
    "from sqlalchemy import create_engine\n",
    "# Create an engine that can talk to the database\n",
    "engine = create_engine(\"sqlite:///Resources/la_crime.db\")\n",
    "# Query All Records in the the Database\n",
    "data = engine.execute(\"SELECT * FROM crime_type\")\n",
    "\n",
    "i = 0\n",
    "for record in data:\n",
    "    print(record)\n",
    "    i += 1\n",
    "    if i == 10:\n",
    "        break"
   ]
  },
  {
   "cell_type": "code",
   "execution_count": 10,
   "id": "e04de550",
   "metadata": {},
   "outputs": [],
   "source": [
    "engine.dispose()"
   ]
  },
  {
   "cell_type": "code",
   "execution_count": null,
   "id": "3ed1e79c",
   "metadata": {},
   "outputs": [],
   "source": []
  }
 ],
 "metadata": {
  "kernelspec": {
   "display_name": "PythonData",
   "language": "python",
   "name": "pythondata"
  },
  "language_info": {
   "codemirror_mode": {
    "name": "ipython",
    "version": 3
   },
   "file_extension": ".py",
   "mimetype": "text/x-python",
   "name": "python",
   "nbconvert_exporter": "python",
   "pygments_lexer": "ipython3",
   "version": "3.7.7"
  }
 },
 "nbformat": 4,
 "nbformat_minor": 5
}
