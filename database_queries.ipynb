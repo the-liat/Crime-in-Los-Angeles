{
 "cells": [
  {
   "cell_type": "code",
   "execution_count": 1,
   "id": "568e3ef9",
   "metadata": {},
   "outputs": [],
   "source": [
    "# dependencies\n",
    "from sqlalchemy import create_engine, inspect, MetaData, select, text, Table, func\n",
    "from sqlalchemy import Column, Integer, String, Float\n",
    "from sqlalchemy.orm import Session\n",
    "from sqlalchemy.ext.automap import automap_base\n",
    "\n",
    "# Create an engine that can talk to the database\n",
    "engine = create_engine(\"sqlite:///Resources/la_crime.db\", connect_args={'timeout': 30}, echo=False)\n",
    "conn = engine.connect()"
   ]
  },
  {
   "cell_type": "markdown",
   "id": "dbcf3b8a",
   "metadata": {},
   "source": [
    "## Checking Database Data - using SQL"
   ]
  },
  {
   "cell_type": "code",
   "execution_count": 2,
   "id": "b0a89783",
   "metadata": {},
   "outputs": [
    {
     "name": "stdout",
     "output_type": "stream",
     "text": [
      "(10304468, 2020, 1, 'January', '31-40', 'Black', 'Female', 34.0141, -118.2978, 3, 624, 501)\n",
      "(20305364, 2019, 1, 'January', '41-50', 'Hispanic', 'Male', 34.0055, -118.2915, 3, 626, 502)\n",
      "(170701073, 2018, 1, 'January', '11-20', 'Black', 'Male', 34.0421, -118.3456, 7, 888, 501)\n",
      "(180100001, 2018, 9, 'September', '31-40', 'White', 'Female', 34.0382, -118.2889, 20, 510, 101)\n",
      "(180100513, 2018, 1, 'January', '51-60', 'Black', 'Male', 34.0328, -118.2647, 1, 624, 101)\n",
      "(180100514, 2018, 1, 'January', '31-40', 'White', 'Female', 34.0428, -118.2532, 1, 230, 108)\n",
      "(180100516, 2018, 1, 'January', '11-20', 'Other', 'Male', 34.0454, -118.2422, 1, 740, 101)\n",
      "(180100525, 2018, 1, 'January', '41-50', 'Hispanic', 'Male', 34.0487, -118.2588, 1, 624, 102)\n",
      "(180100526, 2018, 1, 'January', '21-30', 'Hispanic', 'Female', 34.0487, -118.2588, 1, 624, 102)\n",
      "(180100529, 2018, 1, 'January', '41-50', 'White', 'Male', 34.0713, -118.2291, 1, 740, 101)\n"
     ]
    }
   ],
   "source": [
    "# Query data from crime table\n",
    "crime_data = conn.execute(\"SELECT * FROM crime\")\n",
    "\n",
    "i = 0\n",
    "for record in crime_data:\n",
    "    print(record)\n",
    "    i += 1\n",
    "    if i == 10:\n",
    "        break"
   ]
  },
  {
   "cell_type": "code",
   "execution_count": 3,
   "id": "bef0af74",
   "metadata": {},
   "outputs": [
    {
     "name": "stdout",
     "output_type": "stream",
     "text": [
      "(121, 'Sexual Assualt or Rape')\n",
      "(122, 'Sexual Assualt or Rape')\n",
      "(210, 'Theft, Robbery, or Burglary')\n",
      "(220, 'Theft, Robbery, or Burglary')\n",
      "(230, 'Assault')\n",
      "(231, 'Assault')\n",
      "(235, 'Child Maltreatment')\n",
      "(236, 'Domestic Violence')\n",
      "(237, 'Child Maltreatment')\n",
      "(310, 'Theft, Robbery, or Burglary')\n"
     ]
    }
   ],
   "source": [
    "# Query data from crime type table\n",
    "crime_type_data = conn.execute(\"SELECT * FROM crime_type\")\n",
    "\n",
    "i = 0\n",
    "for record in crime_type_data:\n",
    "    print(record)\n",
    "    i += 1\n",
    "    if i == 10:\n",
    "        break"
   ]
  },
  {
   "cell_type": "code",
   "execution_count": 4,
   "id": "7622d1b8",
   "metadata": {},
   "outputs": [
    {
     "name": "stdout",
     "output_type": "stream",
     "text": [
      "(1, 'Central')\n",
      "(2, 'Rampart')\n",
      "(3, 'Southwest')\n",
      "(4, 'Hollenbeck')\n",
      "(5, 'Harbor')\n",
      "(6, 'Hollywood')\n",
      "(7, 'Wilshire')\n",
      "(8, 'West LA')\n",
      "(9, 'Van Nuys')\n",
      "(10, 'West Valley')\n"
     ]
    }
   ],
   "source": [
    "# Query data from crime table\n",
    "area_data = conn.execute(\"SELECT * FROM area\")\n",
    "\n",
    "i = 0\n",
    "for record in area_data:\n",
    "    print(record)\n",
    "    i += 1\n",
    "    if i == 10:\n",
    "        break"
   ]
  },
  {
   "cell_type": "code",
   "execution_count": 5,
   "id": "2ca9e93f",
   "metadata": {},
   "outputs": [
    {
     "name": "stdout",
     "output_type": "stream",
     "text": [
      "(101, 'Freeway/Street')\n",
      "(102, 'Sidewalk')\n",
      "(103, 'Freeway/Street')\n",
      "(104, 'Driveway')\n",
      "(108, 'Parking Lot/Garage')\n",
      "(109, 'Park')\n",
      "(110, 'Freeway/Street')\n",
      "(117, 'Beach')\n",
      "(119, 'Residence')\n",
      "(121, 'Yard')\n"
     ]
    }
   ],
   "source": [
    "# Query data from crime table\n",
    "premise_data = conn.execute(\"SELECT * FROM premise\")\n",
    "\n",
    "i = 0\n",
    "for record in premise_data:\n",
    "    print(record)\n",
    "    i += 1\n",
    "    if i == 10:\n",
    "        break"
   ]
  },
  {
   "cell_type": "markdown",
   "id": "d7e48065",
   "metadata": {},
   "source": [
    "## Joining the Tables"
   ]
  },
  {
   "cell_type": "code",
   "execution_count": 6,
   "id": "2a87c2c8",
   "metadata": {},
   "outputs": [
    {
     "data": {
      "text/plain": [
       "['area', 'crime', 'crime_type', 'premise', 'la_crime']"
      ]
     },
     "execution_count": 6,
     "metadata": {},
     "output_type": "execute_result"
    }
   ],
   "source": [
    "# creating database session\n",
    "metadata = MetaData(bind=engine)\n",
    "Base = automap_base(metadata=metadata)\n",
    "# Use the Base class to reflect the database tables\n",
    "Base.prepare(engine=engine, reflect=True)\n",
    "Base.classes.keys()"
   ]
  },
  {
   "cell_type": "code",
   "execution_count": 7,
   "id": "424d014a",
   "metadata": {},
   "outputs": [
    {
     "data": {
      "text/plain": [
       "['area', 'crime', 'crime_type', 'la_crime', 'premise']"
      ]
     },
     "execution_count": 7,
     "metadata": {},
     "output_type": "execute_result"
    }
   ],
   "source": [
    "# Collect the names of tables within the database\n",
    "inspector = inspect(engine)\n",
    "inspector.get_table_names()"
   ]
  },
  {
   "cell_type": "code",
   "execution_count": 8,
   "id": "2ea6a066",
   "metadata": {},
   "outputs": [
    {
     "name": "stdout",
     "output_type": "stream",
     "text": [
      "incident_id INTEGER\n",
      "year INTEGER\n",
      "month INTEGER\n",
      "month_name VARCHAR\n",
      "victim_age VARCHAR\n",
      "victim_ethnicity VARCHAR\n",
      "victim_gender VARCHAR\n",
      "lat FLOAT\n",
      "lon FLOAT\n",
      "area_code INTEGER\n",
      "crime_code INTEGER\n",
      "premise_code INTEGER\n"
     ]
    }
   ],
   "source": [
    "# Using the inspector to print the column names within the 'crime' table and its types\n",
    "columns = inspector.get_columns('crime')\n",
    "for column in columns:\n",
    "    print(column[\"name\"], column[\"type\"])"
   ]
  },
  {
   "cell_type": "code",
   "execution_count": 9,
   "id": "b53b9ca6",
   "metadata": {},
   "outputs": [
    {
     "data": {
      "text/plain": [
       "Table('crime', MetaData(bind=Engine(sqlite:///Resources/la_crime.db)), Column('incident_id', INTEGER(), table=<crime>, primary_key=True, nullable=False), Column('year', INTEGER(), table=<crime>), Column('month', INTEGER(), table=<crime>), Column('month_name', VARCHAR(), table=<crime>), Column('victim_age', VARCHAR(), table=<crime>), Column('victim_ethnicity', VARCHAR(), table=<crime>), Column('victim_gender', VARCHAR(), table=<crime>), Column('lat', FLOAT(), table=<crime>), Column('lon', FLOAT(), table=<crime>), Column('area_code', INTEGER(), ForeignKey('area.area_code'), table=<crime>), Column('crime_code', INTEGER(), ForeignKey('crime_type.crime_code'), table=<crime>), Column('premise_code', INTEGER(), ForeignKey('premise.premise_code'), table=<crime>), schema=None)"
      ]
     },
     "execution_count": 9,
     "metadata": {},
     "output_type": "execute_result"
    }
   ],
   "source": [
    "# Reflect the database tables\n",
    "metadata =  MetaData(bind=engine)\n",
    "metadata.reflect()\n",
    "crime_table = metadata.tables['crime']\n",
    "area_table = metadata.tables['area']\n",
    "crime_type_table = metadata.tables['crime_type']\n",
    "premise_table = metadata.tables['premise']\n",
    "crime_table"
   ]
  },
  {
   "cell_type": "code",
   "execution_count": 10,
   "id": "bfe06404",
   "metadata": {},
   "outputs": [
    {
     "name": "stdout",
     "output_type": "stream",
     "text": [
      "49\n",
      "(121, 'Sexual Assualt or Rape')\n"
     ]
    }
   ],
   "source": [
    "# Select the crime table\n",
    "crime_type_tb = engine.execute(select([crime_type_table]))\n",
    "\n",
    "# Get all the rows\n",
    "rows = crime_type_tb.fetchall()\n",
    "\n",
    "# Print the number of rows\n",
    "print(len(rows))\n",
    "\n",
    "# Print the first row\n",
    "print(rows[0])"
   ]
  },
  {
   "cell_type": "code",
   "execution_count": 11,
   "id": "cba64b48",
   "metadata": {},
   "outputs": [
    {
     "name": "stdout",
     "output_type": "stream",
     "text": [
      "744444\n",
      "(10304468, 2020, 1, 'January', '31-40', 'Black', 'Female', 34.0141, -118.2978, 3, 624, 501)\n"
     ]
    }
   ],
   "source": [
    "# Select the crime type table\n",
    "crime_tb = engine.execute(select([crime_table]))\n",
    "\n",
    "# Get all the rows\n",
    "rows = crime_tb.fetchall()\n",
    "\n",
    "# Print the number of rows\n",
    "print(len(rows))\n",
    "\n",
    "# Print the first row\n",
    "print(rows[0])"
   ]
  },
  {
   "cell_type": "code",
   "execution_count": 12,
   "id": "2fb144ef",
   "metadata": {},
   "outputs": [
    {
     "name": "stdout",
     "output_type": "stream",
     "text": [
      "21\n",
      "(1, 'Central')\n"
     ]
    }
   ],
   "source": [
    "# Select the area table\n",
    "area_tb = engine.execute(select([area_table]))\n",
    "\n",
    "# Get all the rows\n",
    "rows = area_tb.fetchall()\n",
    "\n",
    "# Print the number of rows\n",
    "print(len(rows))\n",
    "\n",
    "# Print the first row\n",
    "print(rows[0])"
   ]
  },
  {
   "cell_type": "code",
   "execution_count": 13,
   "id": "e93bb5f0",
   "metadata": {},
   "outputs": [
    {
     "name": "stdout",
     "output_type": "stream",
     "text": [
      "93\n",
      "(101, 'Freeway/Street')\n"
     ]
    }
   ],
   "source": [
    "# Select the premise table\n",
    "premise = engine.execute(select([premise_table]))\n",
    "\n",
    "# Get all the rows\n",
    "rows = premise.fetchall()\n",
    "\n",
    "# Print the number of rows\n",
    "print(len(rows))\n",
    "\n",
    "# Print the first row\n",
    "print(rows[0])"
   ]
  },
  {
   "cell_type": "code",
   "execution_count": 14,
   "id": "8f03856c",
   "metadata": {},
   "outputs": [],
   "source": [
    "# Define the SQL query\n",
    "sql = text(\"\"\"SELECT * \n",
    "            FROM crime\n",
    "            LEFT JOIN area ON crime.area_code = area.area_code\n",
    "            LEFT JOIN premise ON crime.premise_code = premise.premise_code\n",
    "            LEFT JOIN crime_type ON crime.crime_code = crime_type.crime_code\"\"\")\n",
    "\n",
    "# Execute the SQL query\n",
    "la_crime = engine.execute(sql)"
   ]
  },
  {
   "cell_type": "code",
   "execution_count": 15,
   "id": "01bad5fd",
   "metadata": {},
   "outputs": [
    {
     "name": "stdout",
     "output_type": "stream",
     "text": [
      "Columns: ['incident_id', 'year', 'month', 'month_name', 'victim_age', 'victim_ethnicity', 'victim_gender', 'lat', 'lon', 'area_code', 'crime_code', 'premise_code', 'area_code', 'area_name', 'premise_code', 'premise', 'crime_code', 'crime']\n"
     ]
    }
   ],
   "source": [
    "# Print the column names\n",
    "print(f\"Columns: {la_crime.keys()}\")"
   ]
  },
  {
   "cell_type": "code",
   "execution_count": 16,
   "id": "f1353d71",
   "metadata": {},
   "outputs": [
    {
     "name": "stdout",
     "output_type": "stream",
     "text": [
      "744444\n",
      "(10304468, 2020, 1, 'January', '31-40', 'Black', 'Female', 34.0141, -118.2978, 3, 624, 501, 3, 'Southwest', 501, 'Residence', 624, 'Assault')\n"
     ]
    }
   ],
   "source": [
    "# Get all the rows\n",
    "rows = la_crime.fetchall()\n",
    "\n",
    "# Print the number of rows\n",
    "print(len(rows))\n",
    "\n",
    "# Print the first row\n",
    "print(rows[0])"
   ]
  },
  {
   "cell_type": "code",
   "execution_count": 17,
   "id": "6872d67d",
   "metadata": {},
   "outputs": [
    {
     "name": "stdout",
     "output_type": "stream",
     "text": [
      "(10304468, 2020, 1, 'January', '31-40', 'Black', 'Female', 34.0141, -118.2978, 3, 624, 501, 3, 'Southwest', 501, 'Residence', 624, 'Assault')\n",
      "(20305364, 2019, 1, 'January', '41-50', 'Hispanic', 'Male', 34.0055, -118.2915, 3, 626, 502, 3, 'Southwest', 502, 'Residence', 626, 'Domestic Violence')\n",
      "(170701073, 2018, 1, 'January', '11-20', 'Black', 'Male', 34.0421, -118.3456, 7, 888, 501, 7, 'Wilshire', 501, 'Residence', 888, 'Trespassing')\n",
      "(180100001, 2018, 9, 'September', '31-40', 'White', 'Female', 34.0382, -118.2889, 20, 510, 101, 20, 'Olympic', 101, 'Freeway/Street', 510, 'Vehicle Theft')\n",
      "(180100513, 2018, 1, 'January', '51-60', 'Black', 'Male', 34.0328, -118.2647, 1, 624, 101, 1, 'Central', 101, 'Freeway/Street', 624, 'Assault')\n",
      "(180100514, 2018, 1, 'January', '31-40', 'White', 'Female', 34.0428, -118.2532, 1, 230, 108, 1, 'Central', 108, 'Parking Lot/Garage', 230, 'Assault')\n",
      "(180100516, 2018, 1, 'January', '11-20', 'Other', 'Male', 34.0454, -118.2422, 1, 740, 101, 1, 'Central', 101, 'Freeway/Street', 740, 'Vandalism')\n",
      "(180100525, 2018, 1, 'January', '41-50', 'Hispanic', 'Male', 34.0487, -118.2588, 1, 624, 102, 1, 'Central', 102, 'Sidewalk', 624, 'Assault')\n",
      "(180100526, 2018, 1, 'January', '21-30', 'Hispanic', 'Female', 34.0487, -118.2588, 1, 624, 102, 1, 'Central', 102, 'Sidewalk', 624, 'Assault')\n",
      "(180100529, 2018, 1, 'January', '41-50', 'White', 'Male', 34.0713, -118.2291, 1, 740, 101, 1, 'Central', 101, 'Freeway/Street', 740, 'Vandalism')\n",
      "(180100531, 2018, 1, 'January', '61-70', 'Black', 'Male', 34.0589, -118.2323, 1, 230, 102, 1, 'Central', 102, 'Sidewalk', 230, 'Assault')\n"
     ]
    }
   ],
   "source": [
    "# print first 10 rows\n",
    "i = 0\n",
    "for row in rows:\n",
    "    print(row)\n",
    "    if i == 10:\n",
    "        break\n",
    "    i += 1"
   ]
  },
  {
   "cell_type": "markdown",
   "id": "875c2a58",
   "metadata": {},
   "source": [
    "## Creating the final table for running queries "
   ]
  },
  {
   "cell_type": "code",
   "execution_count": 8,
   "id": "e022926e",
   "metadata": {},
   "outputs": [
    {
     "data": {
      "text/plain": [
       "['area', 'crime', 'crime_type', 'premise', 'la_crime', 'la_crime2']"
      ]
     },
     "execution_count": 8,
     "metadata": {},
     "output_type": "execute_result"
    }
   ],
   "source": [
    "from sqlalchemy.orm import sessionmaker\n",
    "# creating database session\n",
    "Session = sessionmaker(bind=engine)\n",
    "session = Session()\n",
    "metadata = MetaData(bind=engine)\n",
    "Base = automap_base(metadata=metadata)\n",
    "# Use the Base class to reflect the database tables\n",
    "Base.prepare(engine = engine, reflect = True)\n",
    "Base.classes.keys()"
   ]
  },
  {
   "cell_type": "code",
   "execution_count": 3,
   "id": "dc86b53e",
   "metadata": {},
   "outputs": [],
   "source": [
    "# Define the la_crime class , which will have a one-to-one relationship with the Area, premise and crime type tables\n",
    "class CrimeJoined2(Base):\n",
    "    __tablename__ = 'la_crime2'\n",
    "    id = Column(Integer, primary_key=True, autoincrement=True)\n",
    "    incident_id = Column(Integer)\n",
    "    year = Column(Integer)\n",
    "    month = Column(Integer)\n",
    "    month_name = Column(String)\n",
    "    victim_age = Column(String)\n",
    "    victim_ethnicity = Column(String)\n",
    "    victim_gender = Column(String)\n",
    "    lat = Column(Float)\n",
    "    lon = Column(Float)\n",
    "    area_code = Column(Integer)\n",
    "    crime_code = Column(Integer)\n",
    "    premise_code = Column(Integer)\n",
    "    area_name = Column(String, nullable=False)\n",
    "    crime = Column(String, nullable=False)\n",
    "    premise = Column(String, nullable=False)"
   ]
  },
  {
   "cell_type": "code",
   "execution_count": 4,
   "id": "181ca4c8",
   "metadata": {},
   "outputs": [],
   "source": [
    "# create the table in the database\n",
    "metadata.create_all(bind=engine, checkfirst=True)"
   ]
  },
  {
   "cell_type": "code",
   "execution_count": 9,
   "id": "d71189ca",
   "metadata": {},
   "outputs": [
    {
     "name": "stdout",
     "output_type": "stream",
     "text": [
      "744444\n",
      "(10304468, 2020, 1, 'January', '31-40', 'Black', 'Female', 34.0141, -118.2978, 3, 624, 501, 3, 'Southwest', 501, 'Residence', 624, 'Assault')\n"
     ]
    },
    {
     "ename": "UnmappedInstanceError",
     "evalue": "Class '__main__.CrimeJoined2' is not mapped",
     "output_type": "error",
     "traceback": [
      "\u001b[1;31m---------------------------------------------------------------------------\u001b[0m",
      "\u001b[1;31mAttributeError\u001b[0m                            Traceback (most recent call last)",
      "\u001b[1;32m~\\anaconda3\\envs\\PythonData\\lib\\site-packages\\sqlalchemy\\orm\\session.py\u001b[0m in \u001b[0;36madd\u001b[1;34m(self, instance, _warn)\u001b[0m\n\u001b[0;32m   2001\u001b[0m         \u001b[1;32mtry\u001b[0m\u001b[1;33m:\u001b[0m\u001b[1;33m\u001b[0m\u001b[1;33m\u001b[0m\u001b[0m\n\u001b[1;32m-> 2002\u001b[1;33m             \u001b[0mstate\u001b[0m \u001b[1;33m=\u001b[0m \u001b[0mattributes\u001b[0m\u001b[1;33m.\u001b[0m\u001b[0minstance_state\u001b[0m\u001b[1;33m(\u001b[0m\u001b[0minstance\u001b[0m\u001b[1;33m)\u001b[0m\u001b[1;33m\u001b[0m\u001b[1;33m\u001b[0m\u001b[0m\n\u001b[0m\u001b[0;32m   2003\u001b[0m         \u001b[1;32mexcept\u001b[0m \u001b[0mexc\u001b[0m\u001b[1;33m.\u001b[0m\u001b[0mNO_STATE\u001b[0m \u001b[1;32mas\u001b[0m \u001b[0merr\u001b[0m\u001b[1;33m:\u001b[0m\u001b[1;33m\u001b[0m\u001b[1;33m\u001b[0m\u001b[0m\n",
      "\u001b[1;31mAttributeError\u001b[0m: 'CrimeJoined2' object has no attribute '_sa_instance_state'",
      "\nThe above exception was the direct cause of the following exception:\n",
      "\u001b[1;31mUnmappedInstanceError\u001b[0m                     Traceback (most recent call last)",
      "\u001b[1;32m~\\AppData\\Local\\Temp\\ipykernel_59112\\2312875770.py\u001b[0m in \u001b[0;36m<module>\u001b[1;34m\u001b[0m\n\u001b[0;32m     28\u001b[0m                        \u001b[0mcrime\u001b[0m \u001b[1;33m=\u001b[0m \u001b[0mrow\u001b[0m\u001b[1;33m.\u001b[0m\u001b[0mcrime\u001b[0m\u001b[1;33m,\u001b[0m\u001b[1;33m\u001b[0m\u001b[1;33m\u001b[0m\u001b[0m\n\u001b[0;32m     29\u001b[0m                        premise = row.premise)\n\u001b[1;32m---> 30\u001b[1;33m     \u001b[0msession\u001b[0m\u001b[1;33m.\u001b[0m\u001b[0madd\u001b[0m\u001b[1;33m(\u001b[0m\u001b[0mnew_row\u001b[0m\u001b[1;33m)\u001b[0m\u001b[1;33m\u001b[0m\u001b[1;33m\u001b[0m\u001b[0m\n\u001b[0m\u001b[0;32m     31\u001b[0m \u001b[1;33m\u001b[0m\u001b[0m\n\u001b[0;32m     32\u001b[0m \u001b[1;31m# commit the changes\u001b[0m\u001b[1;33m\u001b[0m\u001b[1;33m\u001b[0m\u001b[1;33m\u001b[0m\u001b[0m\n",
      "\u001b[1;32m~\\anaconda3\\envs\\PythonData\\lib\\site-packages\\sqlalchemy\\orm\\session.py\u001b[0m in \u001b[0;36madd\u001b[1;34m(self, instance, _warn)\u001b[0m\n\u001b[0;32m   2003\u001b[0m         \u001b[1;32mexcept\u001b[0m \u001b[0mexc\u001b[0m\u001b[1;33m.\u001b[0m\u001b[0mNO_STATE\u001b[0m \u001b[1;32mas\u001b[0m \u001b[0merr\u001b[0m\u001b[1;33m:\u001b[0m\u001b[1;33m\u001b[0m\u001b[1;33m\u001b[0m\u001b[0m\n\u001b[0;32m   2004\u001b[0m             util.raise_(\n\u001b[1;32m-> 2005\u001b[1;33m                 \u001b[0mexc\u001b[0m\u001b[1;33m.\u001b[0m\u001b[0mUnmappedInstanceError\u001b[0m\u001b[1;33m(\u001b[0m\u001b[0minstance\u001b[0m\u001b[1;33m)\u001b[0m\u001b[1;33m,\u001b[0m \u001b[0mreplace_context\u001b[0m\u001b[1;33m=\u001b[0m\u001b[0merr\u001b[0m\u001b[1;33m,\u001b[0m\u001b[1;33m\u001b[0m\u001b[1;33m\u001b[0m\u001b[0m\n\u001b[0m\u001b[0;32m   2006\u001b[0m             )\n\u001b[0;32m   2007\u001b[0m \u001b[1;33m\u001b[0m\u001b[0m\n",
      "\u001b[1;32m~\\anaconda3\\envs\\PythonData\\lib\\site-packages\\sqlalchemy\\util\\compat.py\u001b[0m in \u001b[0;36mraise_\u001b[1;34m(***failed resolving arguments***)\u001b[0m\n\u001b[0;32m    176\u001b[0m \u001b[1;33m\u001b[0m\u001b[0m\n\u001b[0;32m    177\u001b[0m         \u001b[1;32mtry\u001b[0m\u001b[1;33m:\u001b[0m\u001b[1;33m\u001b[0m\u001b[1;33m\u001b[0m\u001b[0m\n\u001b[1;32m--> 178\u001b[1;33m             \u001b[1;32mraise\u001b[0m \u001b[0mexception\u001b[0m\u001b[1;33m\u001b[0m\u001b[1;33m\u001b[0m\u001b[0m\n\u001b[0m\u001b[0;32m    179\u001b[0m         \u001b[1;32mfinally\u001b[0m\u001b[1;33m:\u001b[0m\u001b[1;33m\u001b[0m\u001b[1;33m\u001b[0m\u001b[0m\n\u001b[0;32m    180\u001b[0m             \u001b[1;31m# credit to\u001b[0m\u001b[1;33m\u001b[0m\u001b[1;33m\u001b[0m\u001b[1;33m\u001b[0m\u001b[0m\n",
      "\u001b[1;31mUnmappedInstanceError\u001b[0m: Class '__main__.CrimeJoined2' is not mapped"
     ]
    }
   ],
   "source": [
    "# Define the SQL query\n",
    "sql = text(\"\"\"SELECT * \n",
    "            FROM crime\n",
    "            LEFT JOIN area ON crime.area_code = area.area_code\n",
    "            LEFT JOIN premise ON crime.premise_code = premise.premise_code\n",
    "            LEFT JOIN crime_type ON crime.crime_code = crime_type.crime_code\"\"\")\n",
    "# Execute the SQL query\n",
    "la_crime = engine.execute(sql)\n",
    "rows = la_crime.fetchall()\n",
    "print(len(rows))\n",
    "\n",
    "# loop over the result set and insert each row into the new table\n",
    "for row in rows:\n",
    "    print(row)\n",
    "    new_row = CrimeJoined2(incident_id = row.incident_id, \n",
    "                       year = row.year,\n",
    "                       month = row.month,\n",
    "                       month_name = row.month_name,\n",
    "                       victim_age = row.victim_age, \n",
    "                       victim_ethnicity = row.victim_ethnicity,\n",
    "                       victim_gender = row. victim_gender,\n",
    "                       lat = row.lat,\n",
    "                       lon = row.lon,\n",
    "                       area_code = row.area_code,\n",
    "                       crime_code = row.crime_code, \n",
    "                       premise_code= row.premise_code,\n",
    "                       area_name = row.area_name, \n",
    "                       crime = row.crime,\n",
    "                       premise = row.premise)\n",
    "    session.add(new_row)\n",
    "\n",
    "# commit the changes\n",
    "session.commit()"
   ]
  },
  {
   "cell_type": "code",
   "execution_count": null,
   "id": "f386e519",
   "metadata": {},
   "outputs": [],
   "source": [
    "inspector.get_table_names()"
   ]
  },
  {
   "cell_type": "code",
   "execution_count": null,
   "id": "472920a4",
   "metadata": {},
   "outputs": [],
   "source": [
    "# Select the la_crime table\n",
    "la_crime = engine.execute(select([metadata.tables['la_crime_joined']]))"
   ]
  },
  {
   "cell_type": "code",
   "execution_count": null,
   "id": "8dbda1e5",
   "metadata": {},
   "outputs": [],
   "source": [
    "# Get all the rows\n",
    "rows = la_crime_tb.fetchall()\n",
    "\n",
    "# Print the number of rows\n",
    "print(len(rows))\n",
    "\n",
    "# Print the first row\n",
    "print(rows[0])"
   ]
  },
  {
   "cell_type": "markdown",
   "id": "0acb606a",
   "metadata": {},
   "source": [
    "## Data Queries - using SQLAlchamey (copy to flask app to create functions)"
   ]
  },
  {
   "cell_type": "markdown",
   "id": "a0142b94",
   "metadata": {},
   "source": [
    "use the table named la_crime for all queries (class is CrimeJoined)"
   ]
  },
  {
   "cell_type": "code",
   "execution_count": 11,
   "id": "2e161024",
   "metadata": {},
   "outputs": [
    {
     "data": {
      "text/plain": [
       "['area', 'crime', 'crime_type', 'premise', 'la_crime']"
      ]
     },
     "execution_count": 11,
     "metadata": {},
     "output_type": "execute_result"
    }
   ],
   "source": [
    "# creating database session\n",
    "metadata = MetaData(bind=engine)\n",
    "Base = automap_base(metadata=metadata)\n",
    "# Use the Base class to reflect the database tables\n",
    "Base.prepare(engine = engine, reflect = True)\n",
    "Base.classes.keys()"
   ]
  },
  {
   "cell_type": "code",
   "execution_count": 12,
   "id": "24a50aaf",
   "metadata": {},
   "outputs": [],
   "source": [
    "la_crime = engine.execute(select([metadata.tables['la_crime']]))"
   ]
  },
  {
   "cell_type": "code",
   "execution_count": 13,
   "id": "809c13eb",
   "metadata": {},
   "outputs": [
    {
     "name": "stdout",
     "output_type": "stream",
     "text": [
      "(164523, 2018)\n",
      "(155471, 2019)\n",
      "(132425, 2020)\n",
      "(138336, 2021)\n",
      "(153689, 2022)\n",
      "[{'Year': 2018, 'Total Crimes': 164523}, {'Year': 2019, 'Total Crimes': 155471}, {'Year': 2020, 'Total Crimes': 132425}, {'Year': 2021, 'Total Crimes': 138336}, {'Year': 2022, 'Total Crimes': 153689}]\n"
     ]
    }
   ],
   "source": [
    "# Data for overall line chart by year - number of total crimes\n",
    "query = text(\"\"\"\n",
    "    SELECT count('crime'), year \n",
    "    FROM la_crime\n",
    "    GROUP BY year\n",
    "    \"\"\")\n",
    "result = engine.execute(query)\n",
    "rows = result.fetchall()\n",
    "crime_dict = []\n",
    "for row in rows:\n",
    "    print(row)\n",
    "    crime_dict.append({\"Year\": row[1], \"Total Crimes\": row[0]})\n",
    "print(crime_dict)"
   ]
  },
  {
   "cell_type": "code",
   "execution_count": 14,
   "id": "59bc492f",
   "metadata": {},
   "outputs": [
    {
     "name": "stdout",
     "output_type": "stream",
     "text": [
      "(2287, 2018, 1, 'January')\n",
      "(2011, 2018, 2, 'February')\n",
      "(2394, 2018, 3, 'March')\n",
      "(2445, 2018, 4, 'April')\n",
      "(2595, 2018, 5, 'May')\n",
      "(2545, 2018, 6, 'June')\n",
      "(2656, 2018, 7, 'July')\n",
      "(2484, 2018, 8, 'August')\n",
      "(2442, 2018, 9, 'September')\n",
      "(2548, 2018, 10, 'October')\n",
      "(2240, 2018, 11, 'November')\n",
      "(2293, 2018, 12, 'December')\n",
      "[{'Month': 'January', 'Total Crimes': 2287}, {'Month': 'February', 'Total Crimes': 2011}, {'Month': 'March', 'Total Crimes': 2394}, {'Month': 'April', 'Total Crimes': 2445}, {'Month': 'May', 'Total Crimes': 2595}, {'Month': 'June', 'Total Crimes': 2545}, {'Month': 'July', 'Total Crimes': 2656}, {'Month': 'August', 'Total Crimes': 2484}, {'Month': 'September', 'Total Crimes': 2442}, {'Month': 'October', 'Total Crimes': 2548}, {'Month': 'November', 'Total Crimes': 2240}, {'Month': 'December', 'Total Crimes': 2293}]\n"
     ]
    }
   ],
   "source": [
    "# Data for line chart by month - for specific year and crime\n",
    "query = text(\"\"\"\n",
    "    SELECT count('crime'), year, month, month_name \n",
    "    FROM la_crime\n",
    "    WHERE year = 2018 \n",
    "    AND crime = 'Assault'\n",
    "    GROUP BY month_name, month\n",
    "    ORDER BY month    \n",
    "    \"\"\")\n",
    "result = engine.execute(query)\n",
    "rows = result.fetchall()\n",
    "age_dict = []\n",
    "for row in rows:\n",
    "    print(row)\n",
    "    age_dict.append({\"Month\": row[3], \"Total Crimes\": row[0]})\n",
    "print(crime_dict)"
   ]
  },
  {
   "cell_type": "code",
   "execution_count": 52,
   "id": "ea7815bc",
   "metadata": {},
   "outputs": [
    {
     "name": "stdout",
     "output_type": "stream",
     "text": [
      "('Burglary from Vehicle', 2018, '1-10', 8)\n",
      "('Burglary from Vehicle', 2018, '11-20', 780)\n",
      "('Burglary from Vehicle', 2018, '21-30', 7985)\n",
      "('Burglary from Vehicle', 2018, '31-40', 7555)\n",
      "('Burglary from Vehicle', 2018, '41-50', 5304)\n",
      "('Burglary from Vehicle', 2018, '51-60', 3746)\n",
      "('Burglary from Vehicle', 2018, '61-70', 1874)\n",
      "('Burglary from Vehicle', 2018, '71+', 626)\n",
      "[{'Age': '1-10', 'Age Count': 8}, {'Age': '11-20', 'Age Count': 780}, {'Age': '21-30', 'Age Count': 7985}, {'Age': '31-40', 'Age Count': 7555}, {'Age': '41-50', 'Age Count': 5304}, {'Age': '51-60', 'Age Count': 3746}, {'Age': '61-70', 'Age Count': 1874}, {'Age': '71+', 'Age Count': 626}] 27878\n",
      "[{'Age': '1-10', 'Age Count': 8, 'Total People': 27878, 'Age %': 0}, {'Age': '11-20', 'Age Count': 780, 'Total People': 27878, 'Age %': 3}, {'Age': '21-30', 'Age Count': 7985, 'Total People': 27878, 'Age %': 29}, {'Age': '31-40', 'Age Count': 7555, 'Total People': 27878, 'Age %': 27}, {'Age': '41-50', 'Age Count': 5304, 'Total People': 27878, 'Age %': 19}, {'Age': '51-60', 'Age Count': 3746, 'Total People': 27878, 'Age %': 13}, {'Age': '61-70', 'Age Count': 1874, 'Total People': 27878, 'Age %': 7}, {'Age': '71+', 'Age Count': 626, 'Total People': 27878, 'Age %': 2}]\n"
     ]
    }
   ],
   "source": [
    "# Data for victim age by year and crime\n",
    "query_age = text(\"\"\"\n",
    "    SELECT crime, year, Victim_age, count(*) AS total_count \n",
    "    FROM la_crime\n",
    "    WHERE year = 2018 \n",
    "    AND crime = 'Burglary from Vehicle'\n",
    "    GROUP BY Victim_age\n",
    "    \"\"\")\n",
    "\n",
    "result = engine.execute(query_age)\n",
    "rows = result.fetchall()\n",
    "age_dict = []\n",
    "total_count = 0\n",
    "for row in rows:\n",
    "    print(row)\n",
    "    age_dict.append({\"Age\": row[2], \"Age Count\": row[3]})\n",
    "    total_count += row[3]\n",
    "print(age_dict, total_count)\n",
    "for d in age_dict:\n",
    "    d[\"Total People\"] = total_count\n",
    "    d[\"Age %\"] = round((d[\"Age Count\"]/d[\"Total People\"]) * 100)\n",
    "print(age_dict)"
   ]
  },
  {
   "cell_type": "code",
   "execution_count": 53,
   "id": "a16de9a7",
   "metadata": {},
   "outputs": [
    {
     "name": "stdout",
     "output_type": "stream",
     "text": [
      "('Burglary from Vehicle', 2018, 'Female', 12143)\n",
      "('Burglary from Vehicle', 2018, 'Male', 15735)\n",
      "[{'Gender': 'Female', 'Gender Count': 12143}, {'Gender': 'Male', 'Gender Count': 15735}] 27878\n",
      "[{'Gender': 'Female', 'Gender Count': 12143, 'Total People': 27878, 'Gender %': 44}, {'Gender': 'Male', 'Gender Count': 15735, 'Total People': 27878, 'Gender %': 56}]\n"
     ]
    }
   ],
   "source": [
    "# Data for victim gender by year and crime\n",
    "query_gender = text(\"\"\"\n",
    "    SELECT crime, year, Victim_gender, count(*) AS total_count\n",
    "    FROM la_crime\n",
    "    WHERE year = 2018 \n",
    "    AND crime = 'Burglary from Vehicle'\n",
    "    GROUP BY Victim_gender\n",
    "    \"\"\")\n",
    "result = engine.execute(query_gender)\n",
    "rows = result.fetchall()\n",
    "gender_dict = []\n",
    "total_count = 0\n",
    "for row in rows:\n",
    "    print(row)\n",
    "    gender_dict.append({\"Gender\": row[2], \"Gender Count\": row[3]})\n",
    "    total_count += row[3]\n",
    "print(gender_dict, total_count)\n",
    "for d in gender_dict:\n",
    "    d[\"Total People\"] = total_count\n",
    "    d[\"Gender %\"] = round((d[\"Gender Count\"]/d[\"Total People\"]) * 100)\n",
    "print(gender_dict)"
   ]
  },
  {
   "cell_type": "code",
   "execution_count": 54,
   "id": "4a378880",
   "metadata": {},
   "outputs": [
    {
     "name": "stdout",
     "output_type": "stream",
     "text": [
      "('Burglary from Vehicle', 2018, 'Asian', 1481)\n",
      "('Burglary from Vehicle', 2018, 'Asian Indian', 4)\n",
      "('Burglary from Vehicle', 2018, 'Black', 3588)\n",
      "('Burglary from Vehicle', 2018, 'Hispanic', 10356)\n",
      "('Burglary from Vehicle', 2018, 'Native American', 7)\n",
      "('Burglary from Vehicle', 2018, 'Other', 3473)\n",
      "('Burglary from Vehicle', 2018, 'Pacific Islander/Hawaiian', 7)\n",
      "('Burglary from Vehicle', 2018, 'White', 8962)\n",
      "[{'Ethnicity': 'Asian', 'Ethnicity Count': 1481}, {'Ethnicity': 'Asian Indian', 'Ethnicity Count': 4}, {'Ethnicity': 'Black', 'Ethnicity Count': 3588}, {'Ethnicity': 'Hispanic', 'Ethnicity Count': 10356}, {'Ethnicity': 'Native American', 'Ethnicity Count': 7}, {'Ethnicity': 'Other', 'Ethnicity Count': 3473}, {'Ethnicity': 'Pacific Islander/Hawaiian', 'Ethnicity Count': 7}, {'Ethnicity': 'White', 'Ethnicity Count': 8962}] 27878\n",
      "[{'Ethnicity': 'Asian', 'Ethnicity Count': 1481, 'Total People': 27878, 'Ethnicity %': 5}, {'Ethnicity': 'Asian Indian', 'Ethnicity Count': 4, 'Total People': 27878, 'Ethnicity %': 0}, {'Ethnicity': 'Black', 'Ethnicity Count': 3588, 'Total People': 27878, 'Ethnicity %': 13}, {'Ethnicity': 'Hispanic', 'Ethnicity Count': 10356, 'Total People': 27878, 'Ethnicity %': 37}, {'Ethnicity': 'Native American', 'Ethnicity Count': 7, 'Total People': 27878, 'Ethnicity %': 0}, {'Ethnicity': 'Other', 'Ethnicity Count': 3473, 'Total People': 27878, 'Ethnicity %': 12}, {'Ethnicity': 'Pacific Islander/Hawaiian', 'Ethnicity Count': 7, 'Total People': 27878, 'Ethnicity %': 0}, {'Ethnicity': 'White', 'Ethnicity Count': 8962, 'Total People': 27878, 'Ethnicity %': 32}]\n"
     ]
    }
   ],
   "source": [
    "# Data for victim ethnicity by year and crime\n",
    "query_ethnicity = text(\"\"\"\n",
    "    SELECT crime, year, Victim_ethnicity, count(*) AS total_count\n",
    "    FROM la_crime\n",
    "    WHERE year = 2018 \n",
    "    AND crime = 'Burglary from Vehicle'\n",
    "    GROUP BY Victim_ethnicity\n",
    "    \"\"\")\n",
    "result = engine.execute(query_ethnicity)\n",
    "rows = result.fetchall()\n",
    "ethnicity_dict = []\n",
    "total_count = 0\n",
    "for row in rows:\n",
    "    print(row)\n",
    "    ethnicity_dict.append({\"Ethnicity\": row[2], \"Ethnicity Count\": row[3]})\n",
    "    total_count += row[3]\n",
    "print(ethnicity_dict, total_count)\n",
    "for d in ethnicity_dict:\n",
    "    d[\"Total People\"] = total_count\n",
    "    d[\"Ethnicity %\"] = round((d[\"Ethnicity Count\"]/d[\"Total People\"]) * 100)\n",
    "print(ethnicity_dict)"
   ]
  },
  {
   "cell_type": "code",
   "execution_count": 50,
   "id": "62bfae41",
   "metadata": {},
   "outputs": [
    {
     "data": {
      "text/plain": [
       "{'Age Data': [{'Age': '1-10', 'Age Count': 8},\n",
       "  {'Age': '11-20', 'Age Count': 780},\n",
       "  {'Age': '21-30', 'Age Count': 7985},\n",
       "  {'Age': '31-40', 'Age Count': 7555},\n",
       "  {'Age': '41-50', 'Age Count': 5304},\n",
       "  {'Age': '51-60', 'Age Count': 3746},\n",
       "  {'Age': '61-70', 'Age Count': 1874},\n",
       "  {'Age': '71+', 'Age Count': 626}],\n",
       " 'Gender Data': [{'Gender': 'Female',\n",
       "   'Gender Count': 12143,\n",
       "   'Total People': 27878,\n",
       "   'Gender %': 44},\n",
       "  {'Gender': 'Male',\n",
       "   'Gender Count': 15735,\n",
       "   'Total People': 27878,\n",
       "   'Gender %': 56}],\n",
       " 'Ethnicity Data': [{'Ethnicity': 'Asian',\n",
       "   'Ethnicity Count': 1481,\n",
       "   'Total People': 27878,\n",
       "   'Ethnicity %': 5},\n",
       "  {'Ethnicity': 'Asian Indian',\n",
       "   'Ethnicity Count': 4,\n",
       "   'Total People': 27878,\n",
       "   'Ethnicity %': 0},\n",
       "  {'Ethnicity': 'Black',\n",
       "   'Ethnicity Count': 3588,\n",
       "   'Total People': 27878,\n",
       "   'Ethnicity %': 13},\n",
       "  {'Ethnicity': 'Hispanic',\n",
       "   'Ethnicity Count': 10356,\n",
       "   'Total People': 27878,\n",
       "   'Ethnicity %': 37},\n",
       "  {'Ethnicity': 'Native American',\n",
       "   'Ethnicity Count': 7,\n",
       "   'Total People': 27878,\n",
       "   'Ethnicity %': 0},\n",
       "  {'Ethnicity': 'Other',\n",
       "   'Ethnicity Count': 3473,\n",
       "   'Total People': 27878,\n",
       "   'Ethnicity %': 12},\n",
       "  {'Ethnicity': 'Pacific Islander/Hawaiian',\n",
       "   'Ethnicity Count': 7,\n",
       "   'Total People': 27878,\n",
       "   'Ethnicity %': 0},\n",
       "  {'Ethnicity': 'White',\n",
       "   'Ethnicity Count': 8962,\n",
       "   'Total People': 27878,\n",
       "   'Ethnicity %': 32}]}"
      ]
     },
     "execution_count": 50,
     "metadata": {},
     "output_type": "execute_result"
    }
   ],
   "source": [
    "crime_dict = {\"Age Data\": age_dict, \"Gender Data\": gender_dict, \"Ethnicity Data\": ethnicity_dict}\n",
    "crime_dict"
   ]
  },
  {
   "cell_type": "code",
   "execution_count": null,
   "id": "3f5919f0",
   "metadata": {},
   "outputs": [],
   "source": []
  },
  {
   "cell_type": "code",
   "execution_count": 58,
   "id": "ed929e04",
   "metadata": {},
   "outputs": [
    {
     "name": "stdout",
     "output_type": "stream",
     "text": [
      "100\n",
      "('Burglary from Vehicle', 2018, 33.7065, -118.2928, 'Harbor', 'Parking Lot/Garage', 1)\n",
      "('Burglary from Vehicle', 2018, 33.707, -118.2939, 'Harbor', 'Freeway/Street', 1)\n",
      "('Burglary from Vehicle', 2018, 33.7079, -118.2879, 'Harbor', 'Driveway', 1)\n",
      "('Burglary from Vehicle', 2018, 33.7087, -118.2862, 'Harbor', 'Residence', 1)\n",
      "('Burglary from Vehicle', 2018, 33.7089, -118.2855, 'Harbor', 'Freeway/Street', 1)\n",
      "('Burglary from Vehicle', 2018, 33.7096, -118.2906, 'Harbor', 'Driveway', 1)\n",
      "('Burglary from Vehicle', 2018, 33.7096, -118.2862, 'Harbor', 'Driveway', 1)\n",
      "('Burglary from Vehicle', 2018, 33.7105, -118.286, 'Harbor', 'Parking Lot/Garage', 1)\n",
      "('Burglary from Vehicle', 2018, 33.7105, -118.286, 'Harbor', 'Residence', 1)\n",
      "('Burglary from Vehicle', 2018, 33.7115, -118.2879, 'Harbor', 'Freeway/Street', 1)\n",
      "('Burglary from Vehicle', 2018, 33.7115, -118.2879, 'Harbor', 'Residence', 1)\n",
      "('Burglary from Vehicle', 2018, 33.7116, -118.2981, 'Harbor', 'Freeway/Street', 1)\n",
      "('Burglary from Vehicle', 2018, 33.7124, -118.2907, 'Harbor', 'Freeway/Street', 2)\n",
      "('Burglary from Vehicle', 2018, 33.7135, -118.3037, 'Harbor', 'Freeway/Street', 1)\n",
      "('Burglary from Vehicle', 2018, 33.7136, -118.2904, 'Harbor', 'Freeway/Street', 1)\n",
      "('Burglary from Vehicle', 2018, 33.7141, -118.3089, 'Harbor', 'Freeway/Street', 1)\n",
      "('Burglary from Vehicle', 2018, 33.7143, -118.2916, 'Harbor', 'Residence', 1)\n",
      "('Burglary from Vehicle', 2018, 33.7144, -118.2997, 'Harbor', 'Residence', 1)\n",
      "('Burglary from Vehicle', 2018, 33.7152, -118.3029, 'Harbor', 'Residence', 1)\n",
      "('Burglary from Vehicle', 2018, 33.7152, -118.2929, 'Harbor', 'Freeway/Street', 1)\n",
      "('Burglary from Vehicle', 2018, 33.7152, -118.2871, 'Harbor', 'Parking Lot/Garage', 1)\n",
      "('Burglary from Vehicle', 2018, 33.7157, -118.3147, 'Harbor', 'Parking Lot/Garage', 1)\n",
      "('Burglary from Vehicle', 2018, 33.7161, -118.2916, 'Harbor', 'Residence', 1)\n",
      "('Burglary from Vehicle', 2018, 33.7167, -118.2842, 'Harbor', 'Parking Lot/Garage', 1)\n",
      "('Burglary from Vehicle', 2018, 33.7179, -118.2916, 'Harbor', 'Freeway/Street', 1)\n",
      "('Burglary from Vehicle', 2018, 33.7181, -118.2804, 'Harbor', 'Parking Lot/Garage', 1)\n",
      "('Burglary from Vehicle', 2018, 33.7187, -118.2929, 'Harbor', 'Freeway/Street', 1)\n",
      "('Burglary from Vehicle', 2018, 33.7189, -118.2942, 'Harbor', 'Driveway', 1)\n",
      "('Burglary from Vehicle', 2018, 33.719, -118.32, 'Harbor', 'Freeway/Street', 1)\n",
      "('Burglary from Vehicle', 2018, 33.719, -118.2946, 'Harbor', 'Driveway', 1)\n",
      "('Burglary from Vehicle', 2018, 33.7194, -118.3215, 'Harbor', 'Driveway', 1)\n",
      "('Burglary from Vehicle', 2018, 33.7206, -118.2938, 'Harbor', 'Parking Lot/Garage', 1)\n",
      "('Burglary from Vehicle', 2018, 33.7206, -118.2916, 'Harbor', 'Residence', 1)\n",
      "('Burglary from Vehicle', 2018, 33.7206, -118.2907, 'Harbor', 'Freeway/Street', 1)\n",
      "('Burglary from Vehicle', 2018, 33.7206, -118.2898, 'Harbor', 'Driveway', 1)\n",
      "('Burglary from Vehicle', 2018, 33.7206, -118.288, 'Harbor', 'Residence', 2)\n",
      "('Burglary from Vehicle', 2018, 33.7207, -118.3108, 'Harbor', 'Parking Lot/Garage', 1)\n",
      "('Burglary from Vehicle', 2018, 33.7208, -118.3032, 'Harbor', 'Driveway', 1)\n",
      "('Burglary from Vehicle', 2018, 33.7215, -118.289, 'Harbor', 'Residence', 1)\n",
      "('Burglary from Vehicle', 2018, 33.7216, -118.3083, 'Harbor', 'Parking Lot/Garage', 2)\n",
      "('Burglary from Vehicle', 2018, 33.7216, -118.29899999999999, 'Harbor', 'Freeway/Street', 2)\n",
      "('Burglary from Vehicle', 2018, 33.7216, -118.2818, 'Harbor', 'Parking Lot/Garage', 1)\n",
      "('Burglary from Vehicle', 2018, 33.7225, -118.29899999999999, 'Harbor', 'Driveway', 1)\n",
      "('Burglary from Vehicle', 2018, 33.7226, -118.3185, 'Harbor', 'Freeway/Street', 3)\n",
      "('Burglary from Vehicle', 2018, 33.723, -118.3129, 'Harbor', 'Parking Lot/Garage', 1)\n",
      "('Burglary from Vehicle', 2018, 33.7234, -118.2924, 'Harbor', 'Freeway/Street', 2)\n",
      "('Burglary from Vehicle', 2018, 33.7234, -118.2902, 'Harbor', 'Freeway/Street', 1)\n",
      "('Burglary from Vehicle', 2018, 33.7242, -118.2869, 'Harbor', 'Freeway/Street', 2)\n",
      "('Burglary from Vehicle', 2018, 33.7243, -118.29899999999999, 'Harbor', 'Freeway/Street', 1)\n",
      "('Burglary from Vehicle', 2018, 33.7243, -118.2963, 'Harbor', 'Parking Lot/Garage', 1)\n",
      "('Burglary from Vehicle', 2018, 33.7243, -118.2946, 'Harbor', 'Freeway/Street', 1)\n",
      "('Burglary from Vehicle', 2018, 33.7243, -118.2858, 'Harbor', 'Parking Lot/Garage', 1)\n",
      "('Burglary from Vehicle', 2018, 33.7244, -118.322, 'Harbor', 'Residence', 1)\n",
      "('Burglary from Vehicle', 2018, 33.7248, -118.3183, 'Harbor', 'Driveway', 1)\n",
      "('Burglary from Vehicle', 2018, 33.7251, -118.2858, 'Harbor', 'Freeway/Street', 2)\n",
      "('Burglary from Vehicle', 2018, 33.7252, -118.3034, 'Harbor', 'Freeway/Street', 1)\n",
      "('Burglary from Vehicle', 2018, 33.7257, -118.2801, 'Harbor', 'Parking Lot/Garage', 1)\n",
      "('Burglary from Vehicle', 2018, 33.726, -118.321, 'Harbor', 'Freeway/Street', 2)\n",
      "('Burglary from Vehicle', 2018, 33.7261, -118.29899999999999, 'Harbor', 'Freeway/Street', 1)\n",
      "('Burglary from Vehicle', 2018, 33.7262, -118.2781, 'Harbor', 'Parking Lot/Garage', 1)\n",
      "('Burglary from Vehicle', 2018, 33.7267, -118.3127, 'Harbor', 'Freeway/Street', 1)\n",
      "('Burglary from Vehicle', 2018, 33.727, -118.3242, 'Harbor', 'Parking Lot/Garage', 2)\n",
      "('Burglary from Vehicle', 2018, 33.727, -118.3078, 'Harbor', 'Freeway/Street', 1)\n",
      "('Burglary from Vehicle', 2018, 33.727, -118.3034, 'Harbor', 'Freeway/Street', 1)\n",
      "('Burglary from Vehicle', 2018, 33.727, -118.29899999999999, 'Harbor', 'Freeway/Street', 1)\n",
      "('Burglary from Vehicle', 2018, 33.727, -118.2946, 'Harbor', 'Freeway/Street', 1)\n",
      "('Burglary from Vehicle', 2018, 33.727, -118.2902, 'Harbor', 'Freeway/Street', 1)\n",
      "('Burglary from Vehicle', 2018, 33.7279, -118.2946, 'Harbor', 'Freeway/Street', 1)\n",
      "('Burglary from Vehicle', 2018, 33.7279, -118.2924, 'Harbor', 'Freeway/Street', 2)\n",
      "('Burglary from Vehicle', 2018, 33.7279, -118.288, 'Harbor', 'Freeway/Street', 1)\n",
      "('Burglary from Vehicle', 2018, 33.7285, -118.3161, 'Harbor', 'Driveway', 1)\n",
      "('Burglary from Vehicle', 2018, 33.7287, -118.3138, 'Harbor', 'Driveway', 2)\n",
      "('Burglary from Vehicle', 2018, 33.7288, -118.3034, 'Harbor', 'Freeway/Street', 1)\n",
      "('Burglary from Vehicle', 2018, 33.7288, -118.29899999999999, 'Harbor', 'Freeway/Street', 1)\n",
      "('Burglary from Vehicle', 2018, 33.7288, -118.2946, 'Harbor', 'Freeway/Street', 2)\n",
      "('Burglary from Vehicle', 2018, 33.7288, -118.2924, 'Harbor', 'Freeway/Street', 2)\n",
      "('Burglary from Vehicle', 2018, 33.7288, -118.2902, 'Harbor', 'Freeway/Street', 1)\n",
      "('Burglary from Vehicle', 2018, 33.7288, -118.288, 'Harbor', 'Parking Lot/Garage', 1)\n",
      "('Burglary from Vehicle', 2018, 33.7288, -118.288, 'Harbor', 'Residence', 1)\n",
      "('Burglary from Vehicle', 2018, 33.7288, -118.2836, 'Harbor', 'Freeway/Street', 1)\n",
      "('Burglary from Vehicle', 2018, 33.729, -118.3204, 'Harbor', 'Freeway/Street', 1)\n",
      "('Burglary from Vehicle', 2018, 33.7297, -118.3034, 'Harbor', 'Freeway/Street', 1)\n",
      "('Burglary from Vehicle', 2018, 33.7297, -118.288, 'Harbor', 'Freeway/Street', 1)\n",
      "('Burglary from Vehicle', 2018, 33.7297, -118.288, 'Harbor', 'Residence', 1)\n",
      "('Burglary from Vehicle', 2018, 33.7297, -118.2857, 'Harbor', 'Freeway/Street', 1)\n",
      "('Burglary from Vehicle', 2018, 33.7306, -118.3012, 'Harbor', 'Freeway/Street', 1)\n",
      "('Burglary from Vehicle', 2018, 33.7306, -118.29899999999999, 'Harbor', 'School/College', 1)\n",
      "('Burglary from Vehicle', 2018, 33.7306, -118.2924, 'Harbor', 'Driveway', 1)\n",
      "('Burglary from Vehicle', 2018, 33.7306, -118.2902, 'Harbor', 'Freeway/Street', 1)\n",
      "('Burglary from Vehicle', 2018, 33.7306, -118.2879, 'Harbor', 'Freeway/Street', 1)\n",
      "('Burglary from Vehicle', 2018, 33.7306, -118.2857, 'Harbor', 'Driveway', 1)\n",
      "('Burglary from Vehicle', 2018, 33.7306, -118.2857, 'Harbor', 'School/College', 1)\n",
      "('Burglary from Vehicle', 2018, 33.7306, -118.2814, 'Harbor', 'Driveway', 2)\n",
      "('Burglary from Vehicle', 2018, 33.7306, -118.2814, 'Harbor', 'Parking Lot/Garage', 1)\n",
      "('Burglary from Vehicle', 2018, 33.7307, -118.3034, 'Harbor', 'Driveway', 1)\n",
      "('Burglary from Vehicle', 2018, 33.7315, -118.3012, 'Harbor', 'Driveway', 1)\n",
      "('Burglary from Vehicle', 2018, 33.7315, -118.2879, 'Harbor', 'Freeway/Street', 1)\n",
      "('Burglary from Vehicle', 2018, 33.7321, -118.295, 'Harbor', 'Freeway/Street', 2)\n",
      "('Burglary from Vehicle', 2018, 33.7321, -118.295, 'Harbor', 'Parking Lot/Garage', 2)\n",
      "('Burglary from Vehicle', 2018, 33.7321, -118.295, 'Harbor', 'Residence', 2)\n",
      "[{'lat': 33.7065, 'lon': -118.2928, 'Area': 'Harbor', 'Premise': 'Parking Lot/Garage', 'Number of Crimes': 1}, {'lat': 33.707, 'lon': -118.2939, 'Area': 'Harbor', 'Premise': 'Freeway/Street', 'Number of Crimes': 1}, {'lat': 33.7079, 'lon': -118.2879, 'Area': 'Harbor', 'Premise': 'Driveway', 'Number of Crimes': 1}, {'lat': 33.7087, 'lon': -118.2862, 'Area': 'Harbor', 'Premise': 'Residence', 'Number of Crimes': 1}, {'lat': 33.7089, 'lon': -118.2855, 'Area': 'Harbor', 'Premise': 'Freeway/Street', 'Number of Crimes': 1}, {'lat': 33.7096, 'lon': -118.2906, 'Area': 'Harbor', 'Premise': 'Driveway', 'Number of Crimes': 1}, {'lat': 33.7096, 'lon': -118.2862, 'Area': 'Harbor', 'Premise': 'Driveway', 'Number of Crimes': 1}, {'lat': 33.7105, 'lon': -118.286, 'Area': 'Harbor', 'Premise': 'Parking Lot/Garage', 'Number of Crimes': 1}, {'lat': 33.7105, 'lon': -118.286, 'Area': 'Harbor', 'Premise': 'Residence', 'Number of Crimes': 1}, {'lat': 33.7115, 'lon': -118.2879, 'Area': 'Harbor', 'Premise': 'Freeway/Street', 'Number of Crimes': 1}, {'lat': 33.7115, 'lon': -118.2879, 'Area': 'Harbor', 'Premise': 'Residence', 'Number of Crimes': 1}, {'lat': 33.7116, 'lon': -118.2981, 'Area': 'Harbor', 'Premise': 'Freeway/Street', 'Number of Crimes': 1}, {'lat': 33.7124, 'lon': -118.2907, 'Area': 'Harbor', 'Premise': 'Freeway/Street', 'Number of Crimes': 2}, {'lat': 33.7135, 'lon': -118.3037, 'Area': 'Harbor', 'Premise': 'Freeway/Street', 'Number of Crimes': 1}, {'lat': 33.7136, 'lon': -118.2904, 'Area': 'Harbor', 'Premise': 'Freeway/Street', 'Number of Crimes': 1}, {'lat': 33.7141, 'lon': -118.3089, 'Area': 'Harbor', 'Premise': 'Freeway/Street', 'Number of Crimes': 1}, {'lat': 33.7143, 'lon': -118.2916, 'Area': 'Harbor', 'Premise': 'Residence', 'Number of Crimes': 1}, {'lat': 33.7144, 'lon': -118.2997, 'Area': 'Harbor', 'Premise': 'Residence', 'Number of Crimes': 1}, {'lat': 33.7152, 'lon': -118.3029, 'Area': 'Harbor', 'Premise': 'Residence', 'Number of Crimes': 1}, {'lat': 33.7152, 'lon': -118.2929, 'Area': 'Harbor', 'Premise': 'Freeway/Street', 'Number of Crimes': 1}, {'lat': 33.7152, 'lon': -118.2871, 'Area': 'Harbor', 'Premise': 'Parking Lot/Garage', 'Number of Crimes': 1}, {'lat': 33.7157, 'lon': -118.3147, 'Area': 'Harbor', 'Premise': 'Parking Lot/Garage', 'Number of Crimes': 1}, {'lat': 33.7161, 'lon': -118.2916, 'Area': 'Harbor', 'Premise': 'Residence', 'Number of Crimes': 1}, {'lat': 33.7167, 'lon': -118.2842, 'Area': 'Harbor', 'Premise': 'Parking Lot/Garage', 'Number of Crimes': 1}, {'lat': 33.7179, 'lon': -118.2916, 'Area': 'Harbor', 'Premise': 'Freeway/Street', 'Number of Crimes': 1}, {'lat': 33.7181, 'lon': -118.2804, 'Area': 'Harbor', 'Premise': 'Parking Lot/Garage', 'Number of Crimes': 1}, {'lat': 33.7187, 'lon': -118.2929, 'Area': 'Harbor', 'Premise': 'Freeway/Street', 'Number of Crimes': 1}, {'lat': 33.7189, 'lon': -118.2942, 'Area': 'Harbor', 'Premise': 'Driveway', 'Number of Crimes': 1}, {'lat': 33.719, 'lon': -118.32, 'Area': 'Harbor', 'Premise': 'Freeway/Street', 'Number of Crimes': 1}, {'lat': 33.719, 'lon': -118.2946, 'Area': 'Harbor', 'Premise': 'Driveway', 'Number of Crimes': 1}, {'lat': 33.7194, 'lon': -118.3215, 'Area': 'Harbor', 'Premise': 'Driveway', 'Number of Crimes': 1}, {'lat': 33.7206, 'lon': -118.2938, 'Area': 'Harbor', 'Premise': 'Parking Lot/Garage', 'Number of Crimes': 1}, {'lat': 33.7206, 'lon': -118.2916, 'Area': 'Harbor', 'Premise': 'Residence', 'Number of Crimes': 1}, {'lat': 33.7206, 'lon': -118.2907, 'Area': 'Harbor', 'Premise': 'Freeway/Street', 'Number of Crimes': 1}, {'lat': 33.7206, 'lon': -118.2898, 'Area': 'Harbor', 'Premise': 'Driveway', 'Number of Crimes': 1}, {'lat': 33.7206, 'lon': -118.288, 'Area': 'Harbor', 'Premise': 'Residence', 'Number of Crimes': 2}, {'lat': 33.7207, 'lon': -118.3108, 'Area': 'Harbor', 'Premise': 'Parking Lot/Garage', 'Number of Crimes': 1}, {'lat': 33.7208, 'lon': -118.3032, 'Area': 'Harbor', 'Premise': 'Driveway', 'Number of Crimes': 1}, {'lat': 33.7215, 'lon': -118.289, 'Area': 'Harbor', 'Premise': 'Residence', 'Number of Crimes': 1}, {'lat': 33.7216, 'lon': -118.3083, 'Area': 'Harbor', 'Premise': 'Parking Lot/Garage', 'Number of Crimes': 2}, {'lat': 33.7216, 'lon': -118.29899999999999, 'Area': 'Harbor', 'Premise': 'Freeway/Street', 'Number of Crimes': 2}, {'lat': 33.7216, 'lon': -118.2818, 'Area': 'Harbor', 'Premise': 'Parking Lot/Garage', 'Number of Crimes': 1}, {'lat': 33.7225, 'lon': -118.29899999999999, 'Area': 'Harbor', 'Premise': 'Driveway', 'Number of Crimes': 1}, {'lat': 33.7226, 'lon': -118.3185, 'Area': 'Harbor', 'Premise': 'Freeway/Street', 'Number of Crimes': 3}, {'lat': 33.723, 'lon': -118.3129, 'Area': 'Harbor', 'Premise': 'Parking Lot/Garage', 'Number of Crimes': 1}, {'lat': 33.7234, 'lon': -118.2924, 'Area': 'Harbor', 'Premise': 'Freeway/Street', 'Number of Crimes': 2}, {'lat': 33.7234, 'lon': -118.2902, 'Area': 'Harbor', 'Premise': 'Freeway/Street', 'Number of Crimes': 1}, {'lat': 33.7242, 'lon': -118.2869, 'Area': 'Harbor', 'Premise': 'Freeway/Street', 'Number of Crimes': 2}, {'lat': 33.7243, 'lon': -118.29899999999999, 'Area': 'Harbor', 'Premise': 'Freeway/Street', 'Number of Crimes': 1}, {'lat': 33.7243, 'lon': -118.2963, 'Area': 'Harbor', 'Premise': 'Parking Lot/Garage', 'Number of Crimes': 1}, {'lat': 33.7243, 'lon': -118.2946, 'Area': 'Harbor', 'Premise': 'Freeway/Street', 'Number of Crimes': 1}, {'lat': 33.7243, 'lon': -118.2858, 'Area': 'Harbor', 'Premise': 'Parking Lot/Garage', 'Number of Crimes': 1}, {'lat': 33.7244, 'lon': -118.322, 'Area': 'Harbor', 'Premise': 'Residence', 'Number of Crimes': 1}, {'lat': 33.7248, 'lon': -118.3183, 'Area': 'Harbor', 'Premise': 'Driveway', 'Number of Crimes': 1}, {'lat': 33.7251, 'lon': -118.2858, 'Area': 'Harbor', 'Premise': 'Freeway/Street', 'Number of Crimes': 2}, {'lat': 33.7252, 'lon': -118.3034, 'Area': 'Harbor', 'Premise': 'Freeway/Street', 'Number of Crimes': 1}, {'lat': 33.7257, 'lon': -118.2801, 'Area': 'Harbor', 'Premise': 'Parking Lot/Garage', 'Number of Crimes': 1}, {'lat': 33.726, 'lon': -118.321, 'Area': 'Harbor', 'Premise': 'Freeway/Street', 'Number of Crimes': 2}, {'lat': 33.7261, 'lon': -118.29899999999999, 'Area': 'Harbor', 'Premise': 'Freeway/Street', 'Number of Crimes': 1}, {'lat': 33.7262, 'lon': -118.2781, 'Area': 'Harbor', 'Premise': 'Parking Lot/Garage', 'Number of Crimes': 1}, {'lat': 33.7267, 'lon': -118.3127, 'Area': 'Harbor', 'Premise': 'Freeway/Street', 'Number of Crimes': 1}, {'lat': 33.727, 'lon': -118.3242, 'Area': 'Harbor', 'Premise': 'Parking Lot/Garage', 'Number of Crimes': 2}, {'lat': 33.727, 'lon': -118.3078, 'Area': 'Harbor', 'Premise': 'Freeway/Street', 'Number of Crimes': 1}, {'lat': 33.727, 'lon': -118.3034, 'Area': 'Harbor', 'Premise': 'Freeway/Street', 'Number of Crimes': 1}, {'lat': 33.727, 'lon': -118.29899999999999, 'Area': 'Harbor', 'Premise': 'Freeway/Street', 'Number of Crimes': 1}, {'lat': 33.727, 'lon': -118.2946, 'Area': 'Harbor', 'Premise': 'Freeway/Street', 'Number of Crimes': 1}, {'lat': 33.727, 'lon': -118.2902, 'Area': 'Harbor', 'Premise': 'Freeway/Street', 'Number of Crimes': 1}, {'lat': 33.7279, 'lon': -118.2946, 'Area': 'Harbor', 'Premise': 'Freeway/Street', 'Number of Crimes': 1}, {'lat': 33.7279, 'lon': -118.2924, 'Area': 'Harbor', 'Premise': 'Freeway/Street', 'Number of Crimes': 2}, {'lat': 33.7279, 'lon': -118.288, 'Area': 'Harbor', 'Premise': 'Freeway/Street', 'Number of Crimes': 1}, {'lat': 33.7285, 'lon': -118.3161, 'Area': 'Harbor', 'Premise': 'Driveway', 'Number of Crimes': 1}, {'lat': 33.7287, 'lon': -118.3138, 'Area': 'Harbor', 'Premise': 'Driveway', 'Number of Crimes': 2}, {'lat': 33.7288, 'lon': -118.3034, 'Area': 'Harbor', 'Premise': 'Freeway/Street', 'Number of Crimes': 1}, {'lat': 33.7288, 'lon': -118.29899999999999, 'Area': 'Harbor', 'Premise': 'Freeway/Street', 'Number of Crimes': 1}, {'lat': 33.7288, 'lon': -118.2946, 'Area': 'Harbor', 'Premise': 'Freeway/Street', 'Number of Crimes': 2}, {'lat': 33.7288, 'lon': -118.2924, 'Area': 'Harbor', 'Premise': 'Freeway/Street', 'Number of Crimes': 2}, {'lat': 33.7288, 'lon': -118.2902, 'Area': 'Harbor', 'Premise': 'Freeway/Street', 'Number of Crimes': 1}, {'lat': 33.7288, 'lon': -118.288, 'Area': 'Harbor', 'Premise': 'Parking Lot/Garage', 'Number of Crimes': 1}, {'lat': 33.7288, 'lon': -118.288, 'Area': 'Harbor', 'Premise': 'Residence', 'Number of Crimes': 1}, {'lat': 33.7288, 'lon': -118.2836, 'Area': 'Harbor', 'Premise': 'Freeway/Street', 'Number of Crimes': 1}, {'lat': 33.729, 'lon': -118.3204, 'Area': 'Harbor', 'Premise': 'Freeway/Street', 'Number of Crimes': 1}, {'lat': 33.7297, 'lon': -118.3034, 'Area': 'Harbor', 'Premise': 'Freeway/Street', 'Number of Crimes': 1}, {'lat': 33.7297, 'lon': -118.288, 'Area': 'Harbor', 'Premise': 'Freeway/Street', 'Number of Crimes': 1}, {'lat': 33.7297, 'lon': -118.288, 'Area': 'Harbor', 'Premise': 'Residence', 'Number of Crimes': 1}, {'lat': 33.7297, 'lon': -118.2857, 'Area': 'Harbor', 'Premise': 'Freeway/Street', 'Number of Crimes': 1}, {'lat': 33.7306, 'lon': -118.3012, 'Area': 'Harbor', 'Premise': 'Freeway/Street', 'Number of Crimes': 1}, {'lat': 33.7306, 'lon': -118.29899999999999, 'Area': 'Harbor', 'Premise': 'School/College', 'Number of Crimes': 1}, {'lat': 33.7306, 'lon': -118.2924, 'Area': 'Harbor', 'Premise': 'Driveway', 'Number of Crimes': 1}, {'lat': 33.7306, 'lon': -118.2902, 'Area': 'Harbor', 'Premise': 'Freeway/Street', 'Number of Crimes': 1}, {'lat': 33.7306, 'lon': -118.2879, 'Area': 'Harbor', 'Premise': 'Freeway/Street', 'Number of Crimes': 1}, {'lat': 33.7306, 'lon': -118.2857, 'Area': 'Harbor', 'Premise': 'Driveway', 'Number of Crimes': 1}, {'lat': 33.7306, 'lon': -118.2857, 'Area': 'Harbor', 'Premise': 'School/College', 'Number of Crimes': 1}, {'lat': 33.7306, 'lon': -118.2814, 'Area': 'Harbor', 'Premise': 'Driveway', 'Number of Crimes': 2}, {'lat': 33.7306, 'lon': -118.2814, 'Area': 'Harbor', 'Premise': 'Parking Lot/Garage', 'Number of Crimes': 1}, {'lat': 33.7307, 'lon': -118.3034, 'Area': 'Harbor', 'Premise': 'Driveway', 'Number of Crimes': 1}, {'lat': 33.7315, 'lon': -118.3012, 'Area': 'Harbor', 'Premise': 'Driveway', 'Number of Crimes': 1}, {'lat': 33.7315, 'lon': -118.2879, 'Area': 'Harbor', 'Premise': 'Freeway/Street', 'Number of Crimes': 1}, {'lat': 33.7321, 'lon': -118.295, 'Area': 'Harbor', 'Premise': 'Freeway/Street', 'Number of Crimes': 2}, {'lat': 33.7321, 'lon': -118.295, 'Area': 'Harbor', 'Premise': 'Parking Lot/Garage', 'Number of Crimes': 2}, {'lat': 33.7321, 'lon': -118.295, 'Area': 'Harbor', 'Premise': 'Residence', 'Number of Crimes': 2}]\n"
     ]
    }
   ],
   "source": [
    "# Data for map by year and crime\n",
    "query_map = text(\"\"\"\n",
    "    SELECT crime, year, lat, lon, area_name, premise, count(*) AS total_count\n",
    "    FROM la_crime\n",
    "    WHERE year = 2018 \n",
    "    AND crime = 'Burglary from Vehicle'\n",
    "    GROUP BY lat, lon, area_name, premise\n",
    "    LIMIT 100\n",
    "    \"\"\")\n",
    "\n",
    "result = engine.execute(query_map)\n",
    "rows = result.fetchall()\n",
    "map_dict = []\n",
    "print(len(rows))\n",
    "for row in rows:\n",
    "    print(row)\n",
    "    map_dict.append({\"lat\": row[2], \"lon\": row[3], \"Area\": row[4],\"Premise\": row[5], \"Number of Crimes\": row[6]})\n",
    "print(map_dict)"
   ]
  },
  {
   "cell_type": "code",
   "execution_count": null,
   "id": "90d85740",
   "metadata": {},
   "outputs": [],
   "source": []
  }
 ],
 "metadata": {
  "kernelspec": {
   "display_name": "PythonData",
   "language": "python",
   "name": "pythondata"
  },
  "language_info": {
   "codemirror_mode": {
    "name": "ipython",
    "version": 3
   },
   "file_extension": ".py",
   "mimetype": "text/x-python",
   "name": "python",
   "nbconvert_exporter": "python",
   "pygments_lexer": "ipython3",
   "version": "3.7.7"
  }
 },
 "nbformat": 4,
 "nbformat_minor": 5
}
