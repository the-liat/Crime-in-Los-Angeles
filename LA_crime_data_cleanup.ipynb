{
 "cells": [
  {
   "cell_type": "code",
   "execution_count": null,
   "id": "2ffed3e6",
   "metadata": {},
   "outputs": [],
   "source": [
    "# import dependencies\n",
    "import pandas as pd\n",
    "from datetime import datetime as dt"
   ]
  },
  {
   "cell_type": "code",
   "execution_count": null,
   "id": "b265c059",
   "metadata": {},
   "outputs": [],
   "source": [
    "# read first csv file\n",
    "file1 = \"Resources\\Crime_Data_from_2010_to_2019.csv\"\n",
    "la_crime1 = pd.read_csv(file1, encoding=\"utf-8\")\n",
    "la_crime1 = la_crime1[1672533: ] # selecting only 2018 and 2019 data\n",
    "la_crime1.info()"
   ]
  },
  {
   "cell_type": "code",
   "execution_count": null,
   "id": "47a52262",
   "metadata": {},
   "outputs": [],
   "source": [
    "# read second csv file\n",
    "file2 = \"Resources\\Crime_Data_from_2020_to_Present.csv\"\n",
    "la_crime2 = pd.read_csv(file2, encoding=\"utf-8\")\n",
    "la_crime2 = la_crime2[: 640388] # selecting 2020-2022 data\n",
    "la_crime2.info()"
   ]
  },
  {
   "cell_type": "code",
   "execution_count": null,
   "id": "99760b7f",
   "metadata": {},
   "outputs": [],
   "source": [
    "# Getting columns names\n",
    "la_crime1.columns"
   ]
  },
  {
   "cell_type": "code",
   "execution_count": null,
   "id": "3e255d6a",
   "metadata": {},
   "outputs": [],
   "source": [
    "# Getting column names and comparing to first set \n",
    "la_crime2.columns\n",
    "# Note that the area var as a trailing space"
   ]
  },
  {
   "cell_type": "code",
   "execution_count": null,
   "id": "736138ef",
   "metadata": {},
   "outputs": [],
   "source": [
    "# selecting only the cariables of interest\n",
    "la_crime1 = la_crime1[['DR_NO', 'DATE OCC', 'AREA ', 'AREA NAME', 'Crm Cd', 'Crm Cd Desc', \n",
    "                       'Vict Age', 'Vict Sex', 'Vict Descent', 'Premis Cd', 'Premis Desc',\n",
    "                       'Weapon Used Cd', 'Weapon Desc', 'LAT','LON']]\n",
    "la_crime2 = la_crime2[['DR_NO', 'DATE OCC', 'AREA', 'AREA NAME', 'Crm Cd', 'Crm Cd Desc', \n",
    "                       'Vict Age', 'Vict Sex', 'Vict Descent', 'Premis Cd', 'Premis Desc',\n",
    "                       'Weapon Used Cd', 'Weapon Desc', 'LAT','LON']]\n",
    "la_crime2.head()"
   ]
  },
  {
   "cell_type": "code",
   "execution_count": null,
   "id": "f5d0ce46",
   "metadata": {},
   "outputs": [],
   "source": [
    "#The column Area for the first set has a space, so needs to change it to be the same as the second set\n",
    "la_crime1 = la_crime1.rename(columns={\"AREA \": \"AREA\"})\n",
    "la_crime1.head()"
   ]
  },
  {
   "cell_type": "code",
   "execution_count": null,
   "id": "cb70a4c9",
   "metadata": {},
   "outputs": [],
   "source": [
    "# Recode date variable\n",
    "\n",
    "# convert the date column to datetime format\n",
    "la_crime1['date'] = pd.to_datetime(la_crime1['DATE OCC'], format='%m/%d/%Y %I:%M:%S %p')\n",
    "la_crime2['date'] = pd.to_datetime(la_crime2['DATE OCC'], infer_datetime_format=True)"
   ]
  },
  {
   "cell_type": "code",
   "execution_count": null,
   "id": "9752c020",
   "metadata": {},
   "outputs": [],
   "source": [
    "# Merging the two sets\n",
    "la_crime = concatenated_df = pd.concat([la_crime1, la_crime2], axis=0, ignore_index=True)\n",
    "la_crime.info()"
   ]
  },
  {
   "cell_type": "code",
   "execution_count": null,
   "id": "a5e03e36",
   "metadata": {},
   "outputs": [],
   "source": [
    "# check values of VICTIM variables\n",
    "print(\"Victim Age\") # Looks like some data points are inaccurate (e.g., is age 0 a baby or missing value?)\n",
    "print(\"-\" * 30)\n",
    "print(la_crime[\"Vict Age\"].value_counts())  \n",
    "print(\"*\" * 74)\n",
    "print(\"Victim Gender\") # Need to figure out what are Xs and what are Hs\n",
    "print(\"-\" * 30)\n",
    "print(la_crime[\"Vict Sex\"].value_counts())\n",
    "print(\"*\" * 74)\n",
    "print(\"Victim Ethnicity\") # Need to figure out all the codes\n",
    "print(\"-\" * 30)\n",
    "print(la_crime[\"Vict Descent\"].value_counts())\n",
    "print(\"*\" * 74)"
   ]
  },
  {
   "cell_type": "code",
   "execution_count": null,
   "id": "c7641b1b",
   "metadata": {},
   "outputs": [],
   "source": [
    "# Filtering the data by valid Gender\n",
    "la_crime = la_crime.loc[(la_crime[\"Vict Sex\"] == 'F') | (la_crime[\"Vict Sex\"] == 'M'), :]\n",
    "# Filtering the data by valid Age \n",
    "la_crime = la_crime.loc[(la_crime['Vict Age'] > 0) & (la_crime[\"Vict Age\"] <= 90), :]\n",
    "temp = la_crime.loc[la_crime[\"Vict Age\"] < 10 , :]\n",
    "temp['Crm Cd Desc'].value_counts()"
   ]
  },
  {
   "cell_type": "code",
   "execution_count": null,
   "id": "04908c76",
   "metadata": {},
   "outputs": [],
   "source": [
    "# check values of AREA variables\n",
    "print(\"Area Code\") # use as primary key for LA Area table, keep as forign key in Crimes table\n",
    "print(\"-\" * 30)\n",
    "print(la_crime[\"AREA\"].value_counts())\n",
    "print(\"*\" * 74)\n",
    "print(\"LA Area Name\") # use in LA Area table\n",
    "print(\"-\" * 30)\n",
    "print(la_crime[\"AREA NAME\"].value_counts())\n",
    "print(\"*\" * 74)"
   ]
  },
  {
   "cell_type": "code",
   "execution_count": null,
   "id": "69b40905",
   "metadata": {},
   "outputs": [],
   "source": [
    "# check values of CRIME TYPE variables\n",
    "print(\"Crime Code\") # use as primary key for Crime Type table, keep as forign key in Crimes table\n",
    "print(\"-\" * 30)\n",
    "print(la_crime[\"Crm Cd\"].value_counts().head(20)) \n",
    "print(\"*\" * 74)\n",
    "print(\"Crime Code Description\") # use in Crime Type table (pick only top 20 crimes)\n",
    "print(\"-\" * 30)\n",
    "print(la_crime[\"Crm Cd Desc\"].value_counts().head(20)) \n",
    "print(\"*\" * 74)"
   ]
  },
  {
   "cell_type": "code",
   "execution_count": null,
   "id": "8351983a",
   "metadata": {},
   "outputs": [],
   "source": [
    "# Recoding crime codes to simplify data\n",
    "code_map = {'BATTERY - SIMPLE ASSAULT': 'Assault', \n",
    "'BURGLARY FROM VEHICLE': 'Burglary from Vehicle', \n",
    "'THEFT OF IDENTITY': 'Identity Theft', \n",
    "'INTIMATE PARTNER - SIMPLE ASSAULT': 'Domestic Violence', \n",
    "'ASSAULT WITH DEADLY WEAPON, AGGRAVATED ASSAULT': 'Assault', \n",
    "'THEFT PLAIN - PETTY ($950 & UNDER)': 'Theft, Robbery, or Burglary', \n",
    "'VANDALISM - FELONY ($400 & OVER, ALL CHURCH VANDALISMS)': 'Vandalism', \n",
    "'BURGLARY': 'Theft, Robbery, or Burglary', \n",
    "'ROBBERY': 'Theft, Robbery, or Burglary', \n",
    "'THEFT-GRAND ($950.01 & OVER)EXCPT,GUNS,FOWL,LIVESTK,PROD': 'Theft, Robbery, or Burglary', \n",
    "'THEFT FROM MOTOR VEHICLE - GRAND ($950.01 AND OVER)': 'Burglary from Vehicle', \n",
    "'VANDALISM - MISDEAMEANOR ($399 OR UNDER)': 'Vandalism', \n",
    "'THEFT FROM MOTOR VEHICLE - PETTY ($950 & UNDER)': 'Burglary from Vehicle', \n",
    "'CRIMINAL THREATS - NO WEAPON DISPLAYED': 'Criminal threat', \n",
    "'BRANDISH WEAPON': 'Brandish Weapon', \n",
    "'INTIMATE PARTNER - AGGRAVATED ASSAULT': 'Domestic Violence', \n",
    "'VIOLATION OF RESTRAINING ORDER': 'Violation of Reatraining Order', \n",
    "'BIKE - STOLEN': 'Bike Theft', \n",
    "'TRESPASSING': 'Trespassing', \n",
    "'SHOPLIFTING - PETTY THEFT ($950 & UNDER)': 'Theft, Robbery, or Burglary', \n",
    "'BUNCO, GRAND THEFT': 'Theft, Robbery, or Burglary', \n",
    "'THEFT, PERSON': 'Theft, Robbery, or Burglary', \n",
    "'BATTERY WITH SEXUAL CONTACT': 'Sexual Assualt or Rape', \n",
    "'ATTEMPTED ROBBERY': 'Theft, Robbery, or Burglary', \n",
    "'OTHER ASSAULT': 'Assault', \n",
    "'RAPE, FORCIBLE': 'Sexual Assualt or Rape', \n",
    "'CHILD ABUSE (PHYSICAL) - SIMPLE ASSAULT': 'Child Maltreatment', \n",
    "'DOCUMENT FORGERY / STOLEN FELONY': 'Forgery', \n",
    "'BURGLARY, ATTEMPTED': 'Theft, Robbery, or Burglary', \n",
    "'BUNCO, PETTY THEFT': 'Theft, Robbery, or Burglary', \n",
    "'CRM AGNST CHLD (13 OR UNDER) (14-15 & SUSP 10 YRS OLDER)': 'Child Maltreatment', \n",
    "'VEHICLE - ATTEMPT STOLEN': 'Vehicle Theft', \n",
    "'EXTORTION': 'Extortion', \n",
    "'SEXUAL PENETRATION W/FOREIGN OBJECT': 'Sexual Assualt or Rape', \n",
    "'SHOPLIFTING-GRAND THEFT ($950.01 & OVER)': 'Theft, Robbery, or Burglary', \n",
    "'SEX,UNLAWFUL(INC MUTUAL CONSENT, PENETRATION W/ FRGN OBJ': 'Sexual Assualt or Rape', \n",
    "'CHILD NEGLECT (SEE 300 W.I.C.)': 'Child Maltreatment', \n",
    "'ORAL COPULATION': 'Sexual Assualt or Rape', \n",
    "'THEFT FROM MOTOR VEHICLE - ATTEMPT': 'Burglary from Vehicle', \n",
    "'BURGLARY FROM VEHICLE, ATTEMPTED': 'Burglary from Vehicle', \n",
    "'SODOMY/SEXUAL CONTACT B/W PENIS OF ONE PERS TO ANUS OTH': 'Sexual Assualt or Rape', \n",
    "'VEHICLE, STOLEN - OTHER (MOTORIZED SCOOTERS, BIKES, ETC)': 'Vehicle Theft', \n",
    "'CHILD ABUSE (PHYSICAL) - AGGRAVATED ASSAULT': 'Child Maltreatment', \n",
    "'RAPE, ATTEMPTED': 'Sexual Assualt or Rape', \n",
    "'THEFT PLAIN - ATTEMPT': 'Theft, Robbery, or Burglary', \n",
    "'VEHICLE - STOLEN': 'Vehicle Theft', \n",
    "'ASSAULT WITH DEADLY WEAPON ON POLICE OFFICER': 'Assault', \n",
    "'LEWD/LASCIVIOUS ACTS WITH CHILD': 'Child Maltreatment', \n",
    "'CHILD ABANDONMENT': 'Child Maltreatment'}\n",
    "la_crime[\"crime\"] = la_crime[\"Crm Cd Desc\"].map(code_map)\n",
    "la_crime['crime'].value_counts()"
   ]
  },
  {
   "cell_type": "code",
   "execution_count": null,
   "id": "d6d4cc12",
   "metadata": {},
   "outputs": [],
   "source": [
    "# Removing records that don't have the new crime codes\n",
    "la_crime = la_crime.dropna(subset=['crime'])\n",
    "la_crime.info()"
   ]
  },
  {
   "cell_type": "code",
   "execution_count": null,
   "id": "b46ce28a",
   "metadata": {},
   "outputs": [],
   "source": [
    "# check values of PREMISE variables\n",
    "print(\"Premise Code\") # use as primary key for Premise table, keep as forign key in Crimes table\n",
    "print(\"-\" * 30)\n",
    "print(la_crime[\"Premis Cd\"].value_counts()) \n",
    "print(\"*\" * 74)\n",
    "print(\"Premise Description\") # use in Premise table (consider recode low counts into 'other' or filter these records out)\n",
    "print(\"-\" * 30)\n",
    "print(la_crime[\"Premis Desc\"].value_counts()[91:120]) \n",
    "print(\"*\" * 74)"
   ]
  },
  {
   "cell_type": "code",
   "execution_count": null,
   "id": "c798ae80",
   "metadata": {},
   "outputs": [],
   "source": [
    "# Recoding premise codes to simplify data\n",
    "premise_map = {'TRANSPORTATION FACILITY (AIRPORT)': 'Airport', \n",
    "'BANK': 'Bank/ATM', \n",
    "'AUTOMATED TELLER MACHINE (ATM)': 'Bank/ATM', \n",
    "'BEACH': 'Beach', \n",
    "'MTA BUS': 'Bus Stop/Station', \n",
    "'BUS STOP': 'Bus Stop/Station', \n",
    "'MTA - RED LINE - WESTLAKE/MACARTHUR PARK': 'Bus Stop/Station', \n",
    "'MTA - RED LINE - UNION STATION': 'Bus Stop/Station', \n",
    "'MTA - RED LINE - 7TH AND METRO CENTER': 'Bus Stop/Station', \n",
    "'LA UNION STATION (NOT LINE SPECIFIC)': 'Bus Stop/Station', \n",
    "'MUNICIPAL BUS LINE INCLUDES LADOT/DASH': 'Bus Stop/Station', \n",
    "'MTA - RED LINE - PERSHING SQUARE': 'Bus Stop/Station', \n",
    "'MTA - RED LINE - HOLLYWOOD/VINE': 'Bus Stop/Station', \n",
    "'MTA - EXPO LINE - EXPO/WESTERN': 'Bus Stop/Station', \n",
    "'MTA - RED LINE - WILSHIRE/VERMONT': 'Bus Stop/Station', \n",
    "'MTA - RED LINE - HOLLYWOOD/HIGHLAND': 'Bus Stop/Station', \n",
    "'LAUNDROMAT': 'Business', \n",
    "'BAR/COCKTAIL/NIGHTCLUB': 'Business', \n",
    "'NIGHT CLUB (OPEN EVENINGS ONLY)': 'Business', \n",
    "\"COFFEE SHOP (STARBUCKS, COFFEE BEAN, PEET'S, ETC.)\": 'Business', \n",
    "'MEDICAL/DENTAL OFFICES': 'Business', \n",
    "'OTHER BUSINESS': 'Business', \n",
    "'RESTAURANT/FAST FOOD': 'Business', \n",
    "'HEALTH SPA/GYM': 'Business', \n",
    "'OFFICE BUILDING/OFFICE': 'Business', \n",
    "'AUTO DEALERSHIP (CHEVY, FORD, BMW, MERCEDES, ETC.)': 'Business', \n",
    "'LIBRARY': 'Business', \n",
    "'BAR/SPORTS BAR (OPEN DAY & NIGHT)': 'Business', \n",
    "'BEAUTY/BARBER SHOP': 'Business', \n",
    "'POST OFFICE': 'Business', \n",
    "'STUDIO (FILM/PHOTOGRAPHIC/MUSIC)': 'Business', \n",
    "'NAIL SALON': 'Business', \n",
    "'MEDICAL MARIJUANA FACILITIES/BUSINESSES': 'Business', \n",
    "'DELIVERY SERVICE (FED EX, UPS, COURIERS,COURIER SERVICE)*': 'Business', \n",
    "'HARDWARE/BUILDING SUPPLY': 'Business', \n",
    "'MASSAGE PARLOR': 'Business', \n",
    "'CHURCH/CHAPEL (CHANGED 03-03 FROM CHURCH/TEMPLE)': 'Church/Temple', \n",
    "'CYBERSPACE': 'Cyberspace', \n",
    "'DRIVEWAY': 'Driveway', \n",
    "'STREET': 'Freeway/Street', \n",
    "'ALLEY': 'Freeway/Street', \n",
    "'FREEWAY': 'Freeway/Street', \n",
    "'GAS STATION': 'Gas Station', \n",
    "'HOSPITAL': 'Hospital', \n",
    "'HOTEL': 'Hotel/Motel', \n",
    "'MOTEL': 'Hotel/Motel', \n",
    "'MARKET': 'Market', \n",
    "'NURSING/CONVALESCENT/RETIREMENT HOME': 'Nursing Home', \n",
    "'PARK/PLAYGROUND': 'Park', \n",
    "'PARKING LOT': 'Parking Lot/Garage', \n",
    "'PARKING UNDERGROUND/BUILDING': 'Parking Lot/Garage', \n",
    "'SINGLE FAMILY DWELLING': 'Residence', \n",
    "'MULTI-UNIT DWELLING (APARTMENT, DUPLEX, ETC)': 'Residence', \n",
    "'GARAGE/CARPORT': 'Residence', \n",
    "'OTHER RESIDENCE': 'Residence', \n",
    "'PORCH, RESIDENTIAL': 'Residence', \n",
    "'GROUP HOME': 'Residence', \n",
    "\"MOBILE HOME/TRAILERS/CONSTRUCTION TRAILERS/RV'S/MOTORHOME\": 'Residence', \n",
    "'CONDOMINIUM/TOWNHOUSE': 'Residence', \n",
    "\"SINGLE RESIDENCE OCCUPANCY (SRO'S) LOCATIONS\": 'Residence', \n",
    "'BALCONY*': 'Residence', \n",
    "'APARTMENT/CONDO COMMON LAUNDRY ROOM': 'Residence', \n",
    "'HIGH SCHOOL': 'School/College', \n",
    "'JUNIOR HIGH SCHOOL': 'School/College', \n",
    "'COLLEGE/JUNIOR COLLEGE/UNIVERSITY': 'School/College', \n",
    "'ELEMENTARY SCHOOL': 'School/College', \n",
    "'SPECIALTY SCHOOL/OTHER': 'School/College', \n",
    "'FRAT HOUSE/SORORITY/DORMITORY': 'School/College', \n",
    "'PRIVATE SCHOOL/PRESCHOOL': 'School/College', \n",
    "'SIDEWALK': 'Sidewalk', \n",
    "'DEPARTMENT STORE': 'Store', \n",
    "'OTHER STORE': 'Store', \n",
    "'CLOTHING STORE': 'Store', \n",
    "'LIQUOR STORE': 'Store', \n",
    "'SHOPPING MALL (COMMON AREA)': 'Store', \n",
    "'CELL PHONE STORE': 'Store', \n",
    "'MINI-MART': 'Store', \n",
    "'DRUG STORE': 'Store', \n",
    "'DISCOUNT STORE (99 CENT,DOLLAR,ETC.': 'Store', \n",
    "'MEMBERSHIP STORE (COSTCO,SAMS CLUB)*': 'Store', \n",
    "\"DIY CENTER (LOWE'S,HOME DEPOT,OSH,CONTRACTORS WAREHOUSE)\": 'Store', \n",
    "'JEWELRY STORE': 'Store', \n",
    "'AUTO SUPPLY STORE*': 'Store', \n",
    "'TOBACCO SHOP': 'Store', \n",
    "'ELECTRONICS STORE (IE:RADIO SHACK, ETC.)': 'Store', \n",
    "'BEAUTY SUPPLY STORE': 'Store', \n",
    "'PHARMACY INSIDE STORE OR SUPERMARKET*': 'Store', \n",
    "'MISSIONS/SHELTERS': 'Temp Housing', \n",
    "'TRANSIENT ENCAMPMENT': 'Temp Housing', \n",
    "'TRANSITIONAL HOUSING/HALFWAY HOUSE': 'Temp Housing', \n",
    "'THEATRE/MOVIE': 'Theatre/Movie', \n",
    "'VEHICLE, PASSENGER/TRUCK': 'Vehicle', \n",
    "'YARD (RESIDENTIAL/BUSINESS)': 'Yard'}\n",
    "la_crime[\"premise\"] = la_crime[\"Premis Desc\"].map(premise_map)\n",
    "la_crime['premise'].value_counts()"
   ]
  },
  {
   "cell_type": "code",
   "execution_count": null,
   "id": "3efecdbb",
   "metadata": {},
   "outputs": [],
   "source": [
    "# Removing records that don't have the new premise codes\n",
    "la_crime = la_crime.dropna(subset=['premise'])\n",
    "la_crime.info()"
   ]
  },
  {
   "cell_type": "code",
   "execution_count": null,
   "id": "ba593270",
   "metadata": {},
   "outputs": [],
   "source": [
    "# check values of WEAPON variables\n",
    "print(\"Weapon Used Code\") \n",
    "print(\"-\" * 30)\n",
    "print(la_crime[\"Weapon Used Cd\"].value_counts())\n",
    "print(\"*\" * 74)\n",
    "print(\"Weapon Description\") \n",
    "print(\"-\" * 30)\n",
    "print(la_crime[\"Weapon Desc\"].value_counts().head(30))  \n",
    "print(\"*\" * 74)  "
   ]
  },
  {
   "cell_type": "code",
   "execution_count": null,
   "id": "cb845e62",
   "metadata": {},
   "outputs": [],
   "source": [
    "# Recode Ethnicity values\n",
    "ethnicity_map = {'A': 'Asian', 'B': 'Black', 'C': 'Asian', 'D': 'Other', 'F': 'Asian',\n",
    "                 'G': 'Other', 'H': 'Hispanic','I': 'Native American', 'J': 'Asian',\n",
    "                 'K': 'Asian', 'L': 'Other', 'O': 'Other', 'P': 'Pacific Islander/Hawaiian', 'S': 'Other',\n",
    "                 'U': 'Pacific Islander/Hawaiian', 'V': 'Asian', 'W': 'White', 'Z': 'Asian Indian'}\n",
    "\n",
    "la_crime[\"victim_ethnicity\"] = la_crime[\"Vict Descent\"].map(ethnicity_map)\n",
    "la_crime[\"victim_ethnicity\"].value_counts()"
   ]
  },
  {
   "cell_type": "code",
   "execution_count": null,
   "id": "0d40ec5b",
   "metadata": {},
   "outputs": [],
   "source": [
    "#Recode Sex values\n",
    "la_crime[\"Vict Sex\"] \n",
    "la_crime[\"victim_gender\"] = la_crime[\"Vict Sex\"].map({'F': 'Female', 'M': 'Male'})\n",
    "la_crime[\"victim_gender\"].value_counts()\n"
   ]
  },
  {
   "cell_type": "code",
   "execution_count": null,
   "id": "355ad5e2",
   "metadata": {},
   "outputs": [],
   "source": [
    "#Recode age values\n",
    "print(la_crime[\"Vict Age\"].sort_values().unique())\n",
    "\n",
    "# Define the age categories\n",
    "age_bins = [0, 10, 20, 30, 40, 50, 60, 70, 80]\n",
    "age_labels = ['1-10', '11-20', '21-30', '31-40', '41-50', '51-60', '61-70', '71+']\n",
    "\n",
    "# Use the cut() function to create the Age Catg variable\n",
    "la_crime['age_catg'] = pd.cut(la_crime['Vict Age'], bins=age_bins, labels=age_labels)\n",
    "la_crime['age_catg'].value_counts()"
   ]
  },
  {
   "cell_type": "code",
   "execution_count": null,
   "id": "f74ce095",
   "metadata": {},
   "outputs": [],
   "source": [
    "# extract the year and month from the datetime column\n",
    "la_crime['year'] = la_crime['date'].dt.year\n",
    "la_crime['month'] = la_crime['date'].dt.month\n",
    "la_crime['year'].value_counts()"
   ]
  },
  {
   "cell_type": "code",
   "execution_count": null,
   "id": "aafbdba3",
   "metadata": {},
   "outputs": [],
   "source": [
    "# recoding month values to names\n",
    "la_crime['month_name'] = la_crime['month'].map({\n",
    "    1: \"January\", 2: \"February\", 3: \"March\", 4: \"April\", 5: \"May\", 6: \"June\", 7: \"July\", \n",
    "    8: \"August\", 9: \"September\", 10: \"October\", 11: \"November\", 12: \"December\"})\n",
    "la_crime.head()"
   ]
  },
  {
   "cell_type": "code",
   "execution_count": null,
   "id": "a0adb352",
   "metadata": {},
   "outputs": [],
   "source": [
    "#renaming columns\n",
    "la_crime = la_crime.rename(columns={\n",
    "    'DR_NO': \"incident_id\", 'AREA': \"area_code\", 'AREA NAME': \"area_name\", 'Crm Cd': 'crime_code', \n",
    "    'Premis Cd': \"premise_code\", 'LAT': \"lat\", 'LON': 'lon'})\n",
    "la_crime.columns\n"
   ]
  },
  {
   "cell_type": "code",
   "execution_count": null,
   "id": "3e2f5f38",
   "metadata": {},
   "outputs": [],
   "source": [
    "#renaming columns\n",
    "la_crime = la_crime.rename(columns={'age_catg': 'victim_age'})\n",
    "la_crime.columns"
   ]
  },
  {
   "cell_type": "markdown",
   "id": "86535989",
   "metadata": {},
   "source": [
    "### Creating tables for database"
   ]
  },
  {
   "cell_type": "code",
   "execution_count": null,
   "id": "c5e6447c",
   "metadata": {},
   "outputs": [],
   "source": [
    "# main table\n",
    "la_crime_table = la_crime[['incident_id', 'year', 'month', 'month_name', \n",
    "                           'victim_age', 'victim_ethnicity', 'victim_gender','lat', 'lon',\n",
    "                          'area_code', 'crime_code', 'premise_code']]\n",
    "la_crime_table.info()"
   ]
  },
  {
   "cell_type": "code",
   "execution_count": null,
   "id": "1cb6287e",
   "metadata": {},
   "outputs": [],
   "source": [
    "# Change premise_code type from float to integer\n",
    "la_crime_table['premise_code'] = la_crime_table['premise_code'].astype(int)\n",
    "la_crime_table.info()"
   ]
  },
  {
   "cell_type": "code",
   "execution_count": null,
   "id": "bb60ac58",
   "metadata": {},
   "outputs": [],
   "source": [
    "# area table\n",
    "la_area_table = la_crime[['area_code', 'area_name']].drop_duplicates().reset_index(drop = True)\n",
    "la_area_table"
   ]
  },
  {
   "cell_type": "code",
   "execution_count": null,
   "id": "5b31b18a",
   "metadata": {},
   "outputs": [],
   "source": [
    "# crime type table\n",
    "la_crime_type_table = la_crime[['crime_code', 'crime']].drop_duplicates().reset_index(drop = True)\n",
    "la_crime_type_table"
   ]
  },
  {
   "cell_type": "code",
   "execution_count": null,
   "id": "e668f6dd",
   "metadata": {},
   "outputs": [],
   "source": [
    "# premise table\n",
    "la_premise_table = la_crime[['premise_code', 'premise']].drop_duplicates().reset_index(drop = True)\n",
    "la_premise_table['premise_code'] = la_premise_table['premise_code'].astype(int)\n",
    "la_premise_table"
   ]
  },
  {
   "cell_type": "markdown",
   "id": "962badd5",
   "metadata": {},
   "source": [
    "## Setting up Database Schama"
   ]
  },
  {
   "cell_type": "code",
   "execution_count": null,
   "id": "d301f5cc",
   "metadata": {},
   "outputs": [],
   "source": [
    "# import dependencies\n",
    "from sqlalchemy import Column, Integer, String, Float, ForeignKey, create_engine\n",
    "from sqlalchemy.ext.declarative import declarative_base\n",
    "from sqlalchemy.orm import relationship"
   ]
  },
  {
   "cell_type": "code",
   "execution_count": 33,
   "id": "18e8d64d",
   "metadata": {},
   "outputs": [
    {
     "name": "stdout",
     "output_type": "stream",
     "text": [
      "2023-04-09 12:54:43,931 INFO sqlalchemy.engine.base.Engine SELECT CAST('test plain returns' AS VARCHAR(60)) AS anon_1\n",
      "2023-04-09 12:54:43,932 INFO sqlalchemy.engine.base.Engine ()\n",
      "2023-04-09 12:54:43,934 INFO sqlalchemy.engine.base.Engine SELECT CAST('test unicode returns' AS VARCHAR(60)) AS anon_1\n",
      "2023-04-09 12:54:43,935 INFO sqlalchemy.engine.base.Engine ()\n",
      "2023-04-09 12:54:43,954 INFO sqlalchemy.engine.base.Engine PRAGMA main.table_info(\"crime\")\n",
      "2023-04-09 12:54:43,955 INFO sqlalchemy.engine.base.Engine ()\n",
      "2023-04-09 12:54:43,956 INFO sqlalchemy.engine.base.Engine PRAGMA temp.table_info(\"crime\")\n",
      "2023-04-09 12:54:43,958 INFO sqlalchemy.engine.base.Engine ()\n",
      "2023-04-09 12:54:43,959 INFO sqlalchemy.engine.base.Engine PRAGMA main.table_info(\"area\")\n",
      "2023-04-09 12:54:43,960 INFO sqlalchemy.engine.base.Engine ()\n",
      "2023-04-09 12:54:43,961 INFO sqlalchemy.engine.base.Engine PRAGMA temp.table_info(\"area\")\n",
      "2023-04-09 12:54:43,961 INFO sqlalchemy.engine.base.Engine ()\n",
      "2023-04-09 12:54:43,962 INFO sqlalchemy.engine.base.Engine PRAGMA main.table_info(\"crime_type\")\n",
      "2023-04-09 12:54:43,963 INFO sqlalchemy.engine.base.Engine ()\n",
      "2023-04-09 12:54:43,964 INFO sqlalchemy.engine.base.Engine PRAGMA temp.table_info(\"crime_type\")\n",
      "2023-04-09 12:54:43,965 INFO sqlalchemy.engine.base.Engine ()\n",
      "2023-04-09 12:54:43,966 INFO sqlalchemy.engine.base.Engine PRAGMA main.table_info(\"premise\")\n",
      "2023-04-09 12:54:43,967 INFO sqlalchemy.engine.base.Engine ()\n",
      "2023-04-09 12:54:43,968 INFO sqlalchemy.engine.base.Engine PRAGMA temp.table_info(\"premise\")\n",
      "2023-04-09 12:54:43,968 INFO sqlalchemy.engine.base.Engine ()\n",
      "2023-04-09 12:54:43,971 INFO sqlalchemy.engine.base.Engine \n",
      "CREATE TABLE area (\n",
      "\tarea_code INTEGER NOT NULL, \n",
      "\tarea_name VARCHAR NOT NULL, \n",
      "\tPRIMARY KEY (area_code)\n",
      ")\n",
      "\n",
      "\n",
      "2023-04-09 12:54:43,972 INFO sqlalchemy.engine.base.Engine ()\n",
      "2023-04-09 12:54:43,977 INFO sqlalchemy.engine.base.Engine COMMIT\n",
      "2023-04-09 12:54:43,982 INFO sqlalchemy.engine.base.Engine \n",
      "CREATE TABLE crime_type (\n",
      "\tcrime_code INTEGER NOT NULL, \n",
      "\tcrime VARCHAR NOT NULL, \n",
      "\tPRIMARY KEY (crime_code)\n",
      ")\n",
      "\n",
      "\n",
      "2023-04-09 12:54:43,982 INFO sqlalchemy.engine.base.Engine ()\n",
      "2023-04-09 12:54:43,986 INFO sqlalchemy.engine.base.Engine COMMIT\n",
      "2023-04-09 12:54:43,987 INFO sqlalchemy.engine.base.Engine \n",
      "CREATE TABLE premise (\n",
      "\tpremise_code INTEGER NOT NULL, \n",
      "\tpremise VARCHAR NOT NULL, \n",
      "\tPRIMARY KEY (premise_code)\n",
      ")\n",
      "\n",
      "\n",
      "2023-04-09 12:54:43,988 INFO sqlalchemy.engine.base.Engine ()\n",
      "2023-04-09 12:54:43,992 INFO sqlalchemy.engine.base.Engine COMMIT\n",
      "2023-04-09 12:54:43,992 INFO sqlalchemy.engine.base.Engine \n",
      "CREATE TABLE crime (\n",
      "\tincident_id INTEGER NOT NULL, \n",
      "\tyear INTEGER, \n",
      "\tmonth INTEGER, \n",
      "\tmonth_name VARCHAR, \n",
      "\tvictim_age VARCHAR, \n",
      "\tvictim_ethnicity VARCHAR, \n",
      "\tvictim_gender VARCHAR, \n",
      "\tlat FLOAT, \n",
      "\tlon FLOAT, \n",
      "\tarea_code INTEGER, \n",
      "\tcrime_code INTEGER, \n",
      "\tpremise_code INTEGER, \n",
      "\tPRIMARY KEY (incident_id), \n",
      "\tFOREIGN KEY(area_code) REFERENCES area (area_code), \n",
      "\tFOREIGN KEY(crime_code) REFERENCES crime_type (crime_code), \n",
      "\tFOREIGN KEY(premise_code) REFERENCES premise (premise_code)\n",
      ")\n",
      "\n",
      "\n",
      "2023-04-09 12:54:43,993 INFO sqlalchemy.engine.base.Engine ()\n",
      "2023-04-09 12:54:43,996 INFO sqlalchemy.engine.base.Engine COMMIT\n"
     ]
    }
   ],
   "source": [
    "# Create the engine and connect to the database\n",
    "engine = create_engine('sqlite:///Resources/la_crime.db', echo=True)\n",
    "\n",
    "# Define the Base class to use declarative syntax\n",
    "Base = declarative_base() \n",
    "\n",
    "# if tables exist, drop them\n",
    "Base.metadata.drop_all(engine)\n",
    "\n",
    "# Define the Crime class , which will have a one-to-one relationship with the Area, premise and crime type tables\n",
    "class Crime(Base):\n",
    "    __tablename__ = 'crime'\n",
    "    incident_id = Column(Integer, primary_key=True)\n",
    "    year = Column(Integer)\n",
    "    month = Column(Integer)\n",
    "    month_name = Column(String)\n",
    "    victim_age = Column(String)\n",
    "    victim_ethnicity = Column(String)\n",
    "    victim_gender = Column(String)\n",
    "    lat = Column(Float)\n",
    "    lon = Column(Float)\n",
    "    area_code = Column(Integer, ForeignKey('area.area_code'))\n",
    "    area = relationship('Area', back_populates='crime')\n",
    "    crime_code = Column(Integer, ForeignKey('crime_type.crime_code'))\n",
    "    crime_type = relationship('CrimeType', back_populates='crime')\n",
    "    premise_code = Column(Integer, ForeignKey('premise.premise_code'))\n",
    "    premise = relationship('Premise', back_populates='crime')\n",
    "\n",
    "class Area(Base):\n",
    "    __tablename__ = 'area'\n",
    "    area_code = Column(Integer, primary_key=True)\n",
    "    area_name = Column(String, nullable=False)\n",
    "    crimes = relationship(\"Crime\", back_populates=\"area\")\n",
    "\n",
    "# Define the Crime Type class, which will have a one-to-many relationship with the Crime class\n",
    "class CrimeType(Base):\n",
    "    __tablename__ = 'crime_type'\n",
    "    crime_code = Column(Integer, primary_key=True)\n",
    "    crime = Column(String, nullable=False)\n",
    "    crimes = relationship(\"Crime\", back_populates=\"crime_type\")\n",
    "    \n",
    "    \n",
    "# Define the premise class, which will have a one-to-many relationship with the Crime class\n",
    "class Premise(Base):\n",
    "    __tablename__ = 'premise'\n",
    "    premise_code = Column(Integer, primary_key=True)\n",
    "    premise = Column(String, nullable=False)\n",
    "    crimes = relationship(\"Crime\", back_populates=\"premise\")\n",
    "\n",
    "\n",
    "# Create the tables in the database\n",
    "Base.metadata.create_all(engine)"
   ]
  },
  {
   "cell_type": "markdown",
   "id": "5ff076a4",
   "metadata": {},
   "source": [
    "### Creating SQLite database"
   ]
  },
  {
   "cell_type": "code",
   "execution_count": 34,
   "id": "4b44f857",
   "metadata": {},
   "outputs": [],
   "source": [
    "import sqlite3\n",
    "conn = sqlite3.connect('Resources/la_crime.db')\n",
    "la_crime_table.to_sql('crime', conn, if_exists='replace', index=False)\n",
    "la_area_table.to_sql('area', conn, if_exists='replace', index=False)\n",
    "la_crime_type_table.to_sql('crime_type', conn, if_exists='replace', index=False)\n",
    "la_premise_table.to_sql('premise', conn, if_exists='replace', index=False)"
   ]
  },
  {
   "cell_type": "code",
   "execution_count": null,
   "id": "b4a74c5c",
   "metadata": {},
   "outputs": [],
   "source": []
  }
 ],
 "metadata": {
  "kernelspec": {
   "display_name": "PythonData",
   "language": "python",
   "name": "pythondata"
  },
  "language_info": {
   "codemirror_mode": {
    "name": "ipython",
    "version": 3
   },
   "file_extension": ".py",
   "mimetype": "text/x-python",
   "name": "python",
   "nbconvert_exporter": "python",
   "pygments_lexer": "ipython3",
   "version": "3.7.7"
  }
 },
 "nbformat": 4,
 "nbformat_minor": 5
}
