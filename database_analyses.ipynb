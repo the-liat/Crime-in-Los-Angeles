{
 "cells": [
  {
   "cell_type": "markdown",
   "id": "63f6fbb9",
   "metadata": {},
   "source": [
    "## Setting up Database Schama"
   ]
  },
  {
   "cell_type": "code",
   "execution_count": 12,
   "id": "3e677668",
   "metadata": {},
   "outputs": [],
   "source": [
    "# import dependencies\n",
    "from sqlalchemy import Column, Integer, String, Float, ForeignKey, create_engine\n",
    "from sqlalchemy.ext.declarative import declarative_base\n",
    "from sqlalchemy.orm import relationship"
   ]
  },
  {
   "cell_type": "code",
   "execution_count": 13,
   "id": "3cae058a",
   "metadata": {},
   "outputs": [
    {
     "name": "stdout",
     "output_type": "stream",
     "text": [
      "2023-04-08 18:16:47,708 INFO sqlalchemy.engine.base.Engine SELECT CAST('test plain returns' AS VARCHAR(60)) AS anon_1\n",
      "2023-04-08 18:16:47,710 INFO sqlalchemy.engine.base.Engine ()\n",
      "2023-04-08 18:16:47,712 INFO sqlalchemy.engine.base.Engine SELECT CAST('test unicode returns' AS VARCHAR(60)) AS anon_1\n",
      "2023-04-08 18:16:47,712 INFO sqlalchemy.engine.base.Engine ()\n",
      "2023-04-08 18:16:47,727 INFO sqlalchemy.engine.base.Engine PRAGMA main.table_info(\"crime\")\n",
      "2023-04-08 18:16:47,727 INFO sqlalchemy.engine.base.Engine ()\n",
      "2023-04-08 18:16:47,729 INFO sqlalchemy.engine.base.Engine PRAGMA main.table_info(\"area\")\n",
      "2023-04-08 18:16:47,729 INFO sqlalchemy.engine.base.Engine ()\n",
      "2023-04-08 18:16:47,731 INFO sqlalchemy.engine.base.Engine PRAGMA main.table_info(\"crime_type\")\n",
      "2023-04-08 18:16:47,731 INFO sqlalchemy.engine.base.Engine ()\n",
      "2023-04-08 18:16:47,732 INFO sqlalchemy.engine.base.Engine PRAGMA main.table_info(\"premise\")\n",
      "2023-04-08 18:16:47,733 INFO sqlalchemy.engine.base.Engine ()\n"
     ]
    }
   ],
   "source": [
    "# Create the engine and connect to the database\n",
    "engine = create_engine('sqlite:///Resources/la_crime.db', echo=True)\n",
    "\n",
    "# Define the Base class to use declarative syntax\n",
    "Base = declarative_base() \n",
    "\n",
    "# if tables exist, drop them\n",
    "Base.metadata.drop_all(engine)\n",
    "\n",
    "# Define the Crime class , which will have a one-to-one relationship with the Area, premise and crime type tables\n",
    "class Crime(Base):\n",
    "    __tablename__ = 'crime'\n",
    "    incident_id = Column(Integer, primary_key=True)\n",
    "    year = Column(Integer)\n",
    "    month = Column(Integer)\n",
    "    month_name = Column(String)\n",
    "    victim_age = Column(String)\n",
    "    victim_ethnicity = Column(String)\n",
    "    victim_gender = Column(String)\n",
    "    lat = Column(Float)\n",
    "    lon = Column(Float)\n",
    "    area_code = Column(Integer, ForeignKey('area.area_code'))\n",
    "    area = relationship('Area', back_populates='crime')\n",
    "    crime_code = Column(Integer, ForeignKey('crime_type.crime_code'))\n",
    "    crime_type = relationship('CrimeType', back_populates='crime')\n",
    "    premise_code = Column(Integer, ForeignKey('premise.premise_code'))\n",
    "    premise = relationship('Premise', back_populates='crime')\n",
    "\n",
    "class Area(Base):\n",
    "    __tablename__ = 'area'\n",
    "    area_code = Column(Integer, primary_key=True)\n",
    "    area_name = Column(String, nullable=False)\n",
    "    crimes = relationship(\"Crime\", back_populates=\"area\")\n",
    "\n",
    "# Define the Crime Type class, which will have a one-to-many relationship with the Crime class\n",
    "class CrimeType(Base):\n",
    "    __tablename__ = 'crime_type'\n",
    "    crime_code = Column(Integer, primary_key=True)\n",
    "    crime = Column(String, nullable=False)\n",
    "    crimes = relationship(\"Crime\", back_populates=\"crime_type\")\n",
    "    \n",
    "    \n",
    "# Define the premise class, which will have a one-to-many relationship with the Crime class\n",
    "class Premise(Base):\n",
    "    __tablename__ = 'premise'\n",
    "    premise_code = Column(Integer, primary_key=True)\n",
    "    premise = Column(String, nullable=False)\n",
    "    crimes = relationship(\"Crime\", back_populates=\"premise\")\n",
    "\n",
    "\n",
    "# Create the tables in the database\n",
    "Base.metadata.create_all(engine)"
   ]
  },
  {
   "cell_type": "markdown",
   "id": "7fb79c44",
   "metadata": {},
   "source": [
    "## Setting up Flask"
   ]
  },
  {
   "cell_type": "code",
   "execution_count": null,
   "id": "5d0773f7",
   "metadata": {},
   "outputs": [],
   "source": [
    "# import dependencies\n",
    "from flask import Flask, render_template, request\n",
    "import sqlite3"
   ]
  },
  {
   "cell_type": "code",
   "execution_count": null,
   "id": "18b36eb3",
   "metadata": {},
   "outputs": [],
   "source": [
    "# Need to set app Flask with function that query the data and return json \n"
   ]
  }
 ],
 "metadata": {
  "kernelspec": {
   "display_name": "PythonData",
   "language": "python",
   "name": "pythondata"
  },
  "language_info": {
   "codemirror_mode": {
    "name": "ipython",
    "version": 3
   },
   "file_extension": ".py",
   "mimetype": "text/x-python",
   "name": "python",
   "nbconvert_exporter": "python",
   "pygments_lexer": "ipython3",
   "version": "3.7.7"
  }
 },
 "nbformat": 4,
 "nbformat_minor": 5
}
