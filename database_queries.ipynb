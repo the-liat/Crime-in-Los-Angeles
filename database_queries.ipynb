{
 "cells": [
  {
   "cell_type": "code",
   "execution_count": 1,
   "id": "11a87dd6",
   "metadata": {},
   "outputs": [],
   "source": [
    "# dependencies\n",
    "from sqlalchemy import create_engine, inspect, MetaData, select, text, Table, func\n",
    "from sqlalchemy import Column, Integer, String, Float\n",
    "from sqlalchemy.orm import Session\n",
    "from sqlalchemy.ext.automap import automap_base\n",
    "\n",
    "# Create an engine that can talk to the database\n",
    "engine = create_engine(\"sqlite:///Resources/la_crime.db\", connect_args={'timeout': 30}, echo=False)\n",
    "conn = engine.connect()"
   ]
  },
  {
   "cell_type": "markdown",
   "id": "52387f0b",
   "metadata": {},
   "source": [
    "## Checking Database Data - using SQL"
   ]
  },
  {
   "cell_type": "code",
   "execution_count": 2,
   "id": "fc4d3307",
   "metadata": {},
   "outputs": [
    {
     "name": "stdout",
     "output_type": "stream",
     "text": [
      "(10304468, 2020, 1, 'January', '31-40', 'Black', 'Female', 34.0141, -118.2978, 3, 624, 501)\n",
      "(20305364, 2019, 1, 'January', '41-50', 'Hispanic', 'Male', 34.0055, -118.2915, 3, 626, 502)\n",
      "(170701073, 2018, 1, 'January', '11-20', 'Black', 'Male', 34.0421, -118.3456, 7, 888, 501)\n",
      "(180100001, 2018, 9, 'September', '31-40', 'White', 'Female', 34.0382, -118.2889, 20, 510, 101)\n",
      "(180100513, 2018, 1, 'January', '51-60', 'Black', 'Male', 34.0328, -118.2647, 1, 624, 101)\n",
      "(180100514, 2018, 1, 'January', '31-40', 'White', 'Female', 34.0428, -118.2532, 1, 230, 108)\n",
      "(180100516, 2018, 1, 'January', '11-20', 'Other', 'Male', 34.0454, -118.2422, 1, 740, 101)\n",
      "(180100525, 2018, 1, 'January', '41-50', 'Hispanic', 'Male', 34.0487, -118.2588, 1, 624, 102)\n",
      "(180100526, 2018, 1, 'January', '21-30', 'Hispanic', 'Female', 34.0487, -118.2588, 1, 624, 102)\n",
      "(180100529, 2018, 1, 'January', '41-50', 'White', 'Male', 34.0713, -118.2291, 1, 740, 101)\n"
     ]
    }
   ],
   "source": [
    "# Query data from crime table\n",
    "crime_data = conn.execute(\"SELECT * FROM crime\")\n",
    "\n",
    "i = 0\n",
    "for record in crime_data:\n",
    "    print(record)\n",
    "    i += 1\n",
    "    if i == 10:\n",
    "        break"
   ]
  },
  {
   "cell_type": "code",
   "execution_count": 3,
   "id": "b3b8381c",
   "metadata": {},
   "outputs": [
    {
     "name": "stdout",
     "output_type": "stream",
     "text": [
      "(121, 'Sexual Assualt or Rape')\n",
      "(122, 'Sexual Assualt or Rape')\n",
      "(210, 'Theft, Robbery, or Burglary')\n",
      "(220, 'Theft, Robbery, or Burglary')\n",
      "(230, 'Assault')\n",
      "(231, 'Assault')\n",
      "(235, 'Child Maltreatment')\n",
      "(236, 'Domestic Violence')\n",
      "(237, 'Child Maltreatment')\n",
      "(310, 'Theft, Robbery, or Burglary')\n"
     ]
    }
   ],
   "source": [
    "# Query data from crime type table\n",
    "crime_type_data = conn.execute(\"SELECT * FROM crime_type\")\n",
    "\n",
    "i = 0\n",
    "for record in crime_type_data:\n",
    "    print(record)\n",
    "    i += 1\n",
    "    if i == 10:\n",
    "        break"
   ]
  },
  {
   "cell_type": "code",
   "execution_count": 4,
   "id": "503102e5",
   "metadata": {},
   "outputs": [
    {
     "name": "stdout",
     "output_type": "stream",
     "text": [
      "(1, 'Central')\n",
      "(2, 'Rampart')\n",
      "(3, 'Southwest')\n",
      "(4, 'Hollenbeck')\n",
      "(5, 'Harbor')\n",
      "(6, 'Hollywood')\n",
      "(7, 'Wilshire')\n",
      "(8, 'West LA')\n",
      "(9, 'Van Nuys')\n",
      "(10, 'West Valley')\n"
     ]
    }
   ],
   "source": [
    "# Query data from crime table\n",
    "area_data = conn.execute(\"SELECT * FROM area\")\n",
    "\n",
    "i = 0\n",
    "for record in area_data:\n",
    "    print(record)\n",
    "    i += 1\n",
    "    if i == 10:\n",
    "        break"
   ]
  },
  {
   "cell_type": "code",
   "execution_count": 5,
   "id": "4f6d16d8",
   "metadata": {},
   "outputs": [
    {
     "name": "stdout",
     "output_type": "stream",
     "text": [
      "(101, 'Freeway/Street')\n",
      "(102, 'Sidewalk')\n",
      "(103, 'Freeway/Street')\n",
      "(104, 'Driveway')\n",
      "(108, 'Parking Lot/Garage')\n",
      "(109, 'Park')\n",
      "(110, 'Freeway/Street')\n",
      "(117, 'Beach')\n",
      "(119, 'Residence')\n",
      "(121, 'Yard')\n"
     ]
    }
   ],
   "source": [
    "# Query data from crime table\n",
    "premise_data = conn.execute(\"SELECT * FROM premise\")\n",
    "\n",
    "i = 0\n",
    "for record in premise_data:\n",
    "    print(record)\n",
    "    i += 1\n",
    "    if i == 10:\n",
    "        break"
   ]
  },
  {
   "cell_type": "markdown",
   "id": "14b215f3",
   "metadata": {},
   "source": [
    "## Joining the Tables"
   ]
  },
  {
   "cell_type": "code",
   "execution_count": 6,
   "id": "af7d57dd",
   "metadata": {},
   "outputs": [
    {
     "data": {
      "text/plain": [
       "['area', 'crime', 'crime_type', 'premise', 'la_crime']"
      ]
     },
     "execution_count": 6,
     "metadata": {},
     "output_type": "execute_result"
    }
   ],
   "source": [
    "# creating database session\n",
    "metadata = MetaData(bind=engine)\n",
    "Base = automap_base(metadata=metadata)\n",
    "# Use the Base class to reflect the database tables\n",
    "Base.prepare(engine=engine, reflect=True)\n",
    "Base.classes.keys()"
   ]
  },
  {
   "cell_type": "code",
   "execution_count": 7,
   "id": "8d06360e",
   "metadata": {},
   "outputs": [
    {
     "data": {
      "text/plain": [
       "['area', 'crime', 'crime_type', 'la_crime', 'premise']"
      ]
     },
     "execution_count": 7,
     "metadata": {},
     "output_type": "execute_result"
    }
   ],
   "source": [
    "# Collect the names of tables within the database\n",
    "inspector = inspect(engine)\n",
    "inspector.get_table_names()"
   ]
  },
  {
   "cell_type": "code",
   "execution_count": 8,
   "id": "8c518c8b",
   "metadata": {},
   "outputs": [
    {
     "name": "stdout",
     "output_type": "stream",
     "text": [
      "incident_id INTEGER\n",
      "year INTEGER\n",
      "month INTEGER\n",
      "month_name VARCHAR\n",
      "victim_age VARCHAR\n",
      "victim_ethnicity VARCHAR\n",
      "victim_gender VARCHAR\n",
      "lat FLOAT\n",
      "lon FLOAT\n",
      "area_code INTEGER\n",
      "crime_code INTEGER\n",
      "premise_code INTEGER\n"
     ]
    }
   ],
   "source": [
    "# Using the inspector to print the column names within the 'crime' table and its types\n",
    "columns = inspector.get_columns('crime')\n",
    "for column in columns:\n",
    "    print(column[\"name\"], column[\"type\"])"
   ]
  },
  {
   "cell_type": "code",
   "execution_count": 9,
   "id": "761185b0",
   "metadata": {},
   "outputs": [
    {
     "data": {
      "text/plain": [
       "Table('crime', MetaData(bind=Engine(sqlite:///Resources/la_crime.db)), Column('incident_id', INTEGER(), table=<crime>, primary_key=True, nullable=False), Column('year', INTEGER(), table=<crime>), Column('month', INTEGER(), table=<crime>), Column('month_name', VARCHAR(), table=<crime>), Column('victim_age', VARCHAR(), table=<crime>), Column('victim_ethnicity', VARCHAR(), table=<crime>), Column('victim_gender', VARCHAR(), table=<crime>), Column('lat', FLOAT(), table=<crime>), Column('lon', FLOAT(), table=<crime>), Column('area_code', INTEGER(), ForeignKey('area.area_code'), table=<crime>), Column('crime_code', INTEGER(), ForeignKey('crime_type.crime_code'), table=<crime>), Column('premise_code', INTEGER(), ForeignKey('premise.premise_code'), table=<crime>), schema=None)"
      ]
     },
     "execution_count": 9,
     "metadata": {},
     "output_type": "execute_result"
    }
   ],
   "source": [
    "# Reflect the database tables\n",
    "metadata =  MetaData(bind=engine)\n",
    "metadata.reflect()\n",
    "crime_table = metadata.tables['crime']\n",
    "area_table = metadata.tables['area']\n",
    "crime_type_table = metadata.tables['crime_type']\n",
    "premise_table = metadata.tables['premise']\n",
    "crime_table"
   ]
  },
  {
   "cell_type": "code",
   "execution_count": 10,
   "id": "28e15d44",
   "metadata": {},
   "outputs": [
    {
     "name": "stdout",
     "output_type": "stream",
     "text": [
      "49\n",
      "(121, 'Sexual Assualt or Rape')\n"
     ]
    }
   ],
   "source": [
    "# Select the crime table\n",
    "crime_type_tb = engine.execute(select([crime_type_table]))\n",
    "\n",
    "# Get all the rows\n",
    "rows = crime_type_tb.fetchall()\n",
    "\n",
    "# Print the number of rows\n",
    "print(len(rows))\n",
    "\n",
    "# Print the first row\n",
    "print(rows[0])"
   ]
  },
  {
   "cell_type": "code",
   "execution_count": 11,
   "id": "218a5d1c",
   "metadata": {},
   "outputs": [
    {
     "name": "stdout",
     "output_type": "stream",
     "text": [
      "757085\n",
      "(10304468, 2020, 1, 'January', '31-40', 'Black', 'Female', 34.0141, -118.2978, 3, 624, 501)\n"
     ]
    }
   ],
   "source": [
    "# Select the crime type table\n",
    "crime_tb = engine.execute(select([crime_table]))\n",
    "\n",
    "# Get all the rows\n",
    "rows = crime_tb.fetchall()\n",
    "\n",
    "# Print the number of rows\n",
    "print(len(rows))\n",
    "\n",
    "# Print the first row\n",
    "print(rows[0])"
   ]
  },
  {
   "cell_type": "code",
   "execution_count": 12,
   "id": "669d8315",
   "metadata": {},
   "outputs": [
    {
     "name": "stdout",
     "output_type": "stream",
     "text": [
      "21\n",
      "(1, 'Central')\n"
     ]
    }
   ],
   "source": [
    "# Select the area table\n",
    "area_tb = engine.execute(select([area_table]))\n",
    "\n",
    "# Get all the rows\n",
    "rows = area_tb.fetchall()\n",
    "\n",
    "# Print the number of rows\n",
    "print(len(rows))\n",
    "\n",
    "# Print the first row\n",
    "print(rows[0])"
   ]
  },
  {
   "cell_type": "code",
   "execution_count": 13,
   "id": "1b1e95e7",
   "metadata": {},
   "outputs": [
    {
     "name": "stdout",
     "output_type": "stream",
     "text": [
      "93\n",
      "(101, 'Freeway/Street')\n"
     ]
    }
   ],
   "source": [
    "# Select the premise table\n",
    "premise = engine.execute(select([premise_table]))\n",
    "\n",
    "# Get all the rows\n",
    "rows = premise.fetchall()\n",
    "\n",
    "# Print the number of rows\n",
    "print(len(rows))\n",
    "\n",
    "# Print the first row\n",
    "print(rows[0])"
   ]
  },
  {
   "cell_type": "code",
   "execution_count": 14,
   "id": "23a99711",
   "metadata": {},
   "outputs": [],
   "source": [
    "# Define the SQL query\n",
    "sql = text(\"\"\"SELECT * \n",
    "            FROM crime\n",
    "            LEFT JOIN area ON crime.area_code = area.area_code\n",
    "            LEFT JOIN premise ON crime.premise_code = premise.premise_code\n",
    "            LEFT JOIN crime_type ON crime.crime_code = crime_type.crime_code\"\"\")\n",
    "\n",
    "# Execute the SQL query\n",
    "la_crime = engine.execute(sql)"
   ]
  },
  {
   "cell_type": "code",
   "execution_count": 15,
   "id": "26236936",
   "metadata": {},
   "outputs": [
    {
     "name": "stdout",
     "output_type": "stream",
     "text": [
      "Columns: ['incident_id', 'year', 'month', 'month_name', 'victim_age', 'victim_ethnicity', 'victim_gender', 'lat', 'lon', 'area_code', 'crime_code', 'premise_code', 'area_code', 'area_name', 'premise_code', 'premise', 'crime_code', 'crime']\n"
     ]
    }
   ],
   "source": [
    "# Print the column names\n",
    "print(f\"Columns: {la_crime.keys()}\")"
   ]
  },
  {
   "cell_type": "code",
   "execution_count": 16,
   "id": "9494d36b",
   "metadata": {},
   "outputs": [
    {
     "name": "stdout",
     "output_type": "stream",
     "text": [
      "757085\n",
      "(10304468, 2020, 1, 'January', '31-40', 'Black', 'Female', 34.0141, -118.2978, 3, 624, 501, 3, 'Southwest', 501, 'Residence', 624, 'Assault')\n"
     ]
    }
   ],
   "source": [
    "# Get all the rows\n",
    "rows = la_crime.fetchall()\n",
    "\n",
    "# Print the number of rows\n",
    "print(len(rows))\n",
    "\n",
    "# Print the first row\n",
    "print(rows[0])"
   ]
  },
  {
   "cell_type": "code",
   "execution_count": 17,
   "id": "4f974ce6",
   "metadata": {},
   "outputs": [
    {
     "name": "stdout",
     "output_type": "stream",
     "text": [
      "(10304468, 2020, 1, 'January', '31-40', 'Black', 'Female', 34.0141, -118.2978, 3, 624, 501, 3, 'Southwest', 501, 'Residence', 624, 'Assault')\n",
      "(20305364, 2019, 1, 'January', '41-50', 'Hispanic', 'Male', 34.0055, -118.2915, 3, 626, 502, 3, 'Southwest', 502, 'Residence', 626, 'Domestic Violence')\n",
      "(170701073, 2018, 1, 'January', '11-20', 'Black', 'Male', 34.0421, -118.3456, 7, 888, 501, 7, 'Wilshire', 501, 'Residence', 888, 'Trespassing')\n",
      "(180100001, 2018, 9, 'September', '31-40', 'White', 'Female', 34.0382, -118.2889, 20, 510, 101, 20, 'Olympic', 101, 'Freeway/Street', 510, 'Vehicle Theft')\n",
      "(180100513, 2018, 1, 'January', '51-60', 'Black', 'Male', 34.0328, -118.2647, 1, 624, 101, 1, 'Central', 101, 'Freeway/Street', 624, 'Assault')\n",
      "(180100514, 2018, 1, 'January', '31-40', 'White', 'Female', 34.0428, -118.2532, 1, 230, 108, 1, 'Central', 108, 'Parking Lot/Garage', 230, 'Assault')\n",
      "(180100516, 2018, 1, 'January', '11-20', 'Other', 'Male', 34.0454, -118.2422, 1, 740, 101, 1, 'Central', 101, 'Freeway/Street', 740, 'Vandalism')\n",
      "(180100525, 2018, 1, 'January', '41-50', 'Hispanic', 'Male', 34.0487, -118.2588, 1, 624, 102, 1, 'Central', 102, 'Sidewalk', 624, 'Assault')\n",
      "(180100526, 2018, 1, 'January', '21-30', 'Hispanic', 'Female', 34.0487, -118.2588, 1, 624, 102, 1, 'Central', 102, 'Sidewalk', 624, 'Assault')\n",
      "(180100529, 2018, 1, 'January', '41-50', 'White', 'Male', 34.0713, -118.2291, 1, 740, 101, 1, 'Central', 101, 'Freeway/Street', 740, 'Vandalism')\n",
      "(180100531, 2018, 1, 'January', '61-70', 'Black', 'Male', 34.0589, -118.2323, 1, 230, 102, 1, 'Central', 102, 'Sidewalk', 230, 'Assault')\n"
     ]
    }
   ],
   "source": [
    "# print first 10 rows\n",
    "i = 0\n",
    "for row in rows:\n",
    "    print(row)\n",
    "    if i == 10:\n",
    "        break\n",
    "    i += 1"
   ]
  },
  {
   "cell_type": "markdown",
   "id": "7312691f",
   "metadata": {},
   "source": [
    "## Creating the final table for running queries "
   ]
  },
  {
   "cell_type": "code",
   "execution_count": 18,
   "id": "6b5af690",
   "metadata": {},
   "outputs": [
    {
     "data": {
      "text/plain": [
       "['area', 'crime', 'crime_type', 'premise', 'la_crime']"
      ]
     },
     "execution_count": 18,
     "metadata": {},
     "output_type": "execute_result"
    }
   ],
   "source": [
    "# creating database session\n",
    "session = Session(engine)\n",
    "metadata = MetaData(bind=engine)\n",
    "Base = automap_base(metadata=metadata)\n",
    "# Use the Base class to reflect the database tables\n",
    "Base.prepare(engine = engine, reflect = True)\n",
    "Base.classes.keys()"
   ]
  },
  {
   "cell_type": "code",
   "execution_count": 19,
   "id": "49cecdd1",
   "metadata": {},
   "outputs": [],
   "source": [
    "# create the table in the database\n",
    "metadata.create_all(bind=engine, checkfirst=True)"
   ]
  },
  {
   "cell_type": "code",
   "execution_count": 20,
   "id": "91e62de7",
   "metadata": {},
   "outputs": [
    {
     "name": "stdout",
     "output_type": "stream",
     "text": [
      "757085\n",
      "(10304468, 2020, 1, 'January', '31-40', 'Black', 'Female', 34.0141, -118.2978, 3, 624, 501, 3, 'Southwest', 501, 'Residence', 624, 'Assault')\n"
     ]
    },
    {
     "ename": "NameError",
     "evalue": "name 'CrimeJoined' is not defined",
     "output_type": "error",
     "traceback": [
      "\u001b[1;31m---------------------------------------------------------------------------\u001b[0m",
      "\u001b[1;31mNameError\u001b[0m                                 Traceback (most recent call last)",
      "\u001b[1;32m~\\AppData\\Local\\Temp\\ipykernel_2052\\3210646338.py\u001b[0m in \u001b[0;36m<module>\u001b[1;34m\u001b[0m\n\u001b[0;32m     13\u001b[0m \u001b[1;32mfor\u001b[0m \u001b[0mrow\u001b[0m \u001b[1;32min\u001b[0m \u001b[0mrows\u001b[0m\u001b[1;33m:\u001b[0m\u001b[1;33m\u001b[0m\u001b[1;33m\u001b[0m\u001b[0m\n\u001b[0;32m     14\u001b[0m     \u001b[0mprint\u001b[0m\u001b[1;33m(\u001b[0m\u001b[0mrow\u001b[0m\u001b[1;33m)\u001b[0m\u001b[1;33m\u001b[0m\u001b[1;33m\u001b[0m\u001b[0m\n\u001b[1;32m---> 15\u001b[1;33m     new_row = CrimeJoined(incident_id = row.incident_id, \n\u001b[0m\u001b[0;32m     16\u001b[0m                        \u001b[0myear\u001b[0m \u001b[1;33m=\u001b[0m \u001b[0mrow\u001b[0m\u001b[1;33m.\u001b[0m\u001b[0myear\u001b[0m\u001b[1;33m,\u001b[0m\u001b[1;33m\u001b[0m\u001b[1;33m\u001b[0m\u001b[0m\n\u001b[0;32m     17\u001b[0m                        \u001b[0mmonth\u001b[0m \u001b[1;33m=\u001b[0m \u001b[0mrow\u001b[0m\u001b[1;33m.\u001b[0m\u001b[0mmonth\u001b[0m\u001b[1;33m,\u001b[0m\u001b[1;33m\u001b[0m\u001b[1;33m\u001b[0m\u001b[0m\n",
      "\u001b[1;31mNameError\u001b[0m: name 'CrimeJoined' is not defined"
     ]
    }
   ],
   "source": [
    "# Define the SQL query\n",
    "sql = text(\"\"\"SELECT * \n",
    "            FROM crime\n",
    "            LEFT JOIN area ON crime.area_code = area.area_code\n",
    "            LEFT JOIN premise ON crime.premise_code = premise.premise_code\n",
    "            LEFT JOIN crime_type ON crime.crime_code = crime_type.crime_code\"\"\")\n",
    "# Execute the SQL query\n",
    "la_crime = engine.execute(sql)\n",
    "rows = la_crime.fetchall()\n",
    "print(len(rows))\n",
    "\n",
    "# loop over the result set and insert each row into the new table\n",
    "for row in rows:\n",
    "    print(row)\n",
    "    new_row = CrimeJoined(incident_id = row.incident_id, \n",
    "                       year = row.year,\n",
    "                       month = row.month,\n",
    "                       month_name = row.month_name,\n",
    "                       victim_age = row.victim_age, \n",
    "                       victim_ethnicity = row.victim_ethnicity,\n",
    "                       victim_gender = row. victim_gender,\n",
    "                       lat = row.lat,\n",
    "                       lon = row.lon,\n",
    "                       area_code = row.area_code,\n",
    "                       crime_code = row.crime_code, \n",
    "                       premise_code= row.premise_code,\n",
    "                       area_name = row.area_name, \n",
    "                       crime = row.crime,\n",
    "                       premise = row.premise)\n",
    "    session.add(new_row)\n",
    "\n",
    "# commit the changes\n",
    "session.commit()"
   ]
  },
  {
   "cell_type": "code",
   "execution_count": null,
   "id": "a4357b5f",
   "metadata": {},
   "outputs": [],
   "source": [
    "inspector.get_table_names()"
   ]
  },
  {
   "cell_type": "code",
   "execution_count": null,
   "id": "2b6d548f",
   "metadata": {},
   "outputs": [],
   "source": [
    "# Select the la_crime table\n",
    "la_crime = engine.execute(select([metadata.tables['la_crime_joined']]))"
   ]
  },
  {
   "cell_type": "code",
   "execution_count": null,
   "id": "e300e943",
   "metadata": {},
   "outputs": [],
   "source": [
    "# Get all the rows\n",
    "rows = la_crime_tb.fetchall()\n",
    "\n",
    "# Print the number of rows\n",
    "print(len(rows))\n",
    "\n",
    "# Print the first row\n",
    "print(rows[0])"
   ]
  },
  {
   "cell_type": "markdown",
   "id": "180b5c5a",
   "metadata": {},
   "source": [
    "## Data Queries - using SQLAlchamey (copy to flask app to create functions)"
   ]
  },
  {
   "cell_type": "markdown",
   "id": "04af1317",
   "metadata": {},
   "source": [
    "use the table named la_crime for all queries (class is CrimeJoined)"
   ]
  },
  {
   "cell_type": "code",
   "execution_count": null,
   "id": "8b2a8d2f",
   "metadata": {},
   "outputs": [],
   "source": [
    "# creating database session\n",
    "session = Session(engine)\n",
    "metadata = MetaData(bind=engine)\n",
    "Base = automap_base(metadata=metadata)\n",
    "# Use the Base class to reflect the database tables\n",
    "Base.prepare(engine = engine, reflect = True)\n",
    "Base.classes.keys()"
   ]
  },
  {
   "cell_type": "code",
   "execution_count": null,
   "id": "18593883",
   "metadata": {},
   "outputs": [],
   "source": [
    "la_crime = engine.execute(select([metadata.tables['la_crime']]))"
   ]
  },
  {
   "cell_type": "code",
   "execution_count": null,
   "id": "f622f6bf",
   "metadata": {},
   "outputs": [],
   "source": [
    "# Data for overall line chart by year - number of total crimes\n",
    "query = text(\"\"\"\n",
    "    SELECT count('crime'), year, month_name \n",
    "    FROM la_crime\n",
    "    WHERE year = 2018 \n",
    "    AND crime = 'Assault'\n",
    "    GROUP BY month_name\n",
    "    \"\"\")\n",
    "result = engine.execute(query)\n",
    "rows = result.fetchall()\n",
    "crime_dict = []\n",
    "for row in rows:\n",
    "    print(row)\n",
    "    crime_dict.append({\"Month\": row[2], \"Total Crimes\": row[0]})\n",
    "print(crime_dict)"
   ]
  },
  {
   "cell_type": "code",
   "execution_count": null,
   "id": "f9dbcbc0",
   "metadata": {},
   "outputs": [],
   "source": [
    "query = text(\"\"\"\n",
    "    SELECT count('crime'), year, month_name \n",
    "    FROM la_crime\n",
    "    WHERE year = 2018 \n",
    "    AND crime = 'Assault'\n",
    "    GROUP BY month_name\n",
    "    ORDER BY CASE month_name\n",
    "        WHEN 'January' THEN 1\n",
    "        WHEN 'February' THEN 2\n",
    "        WHEN 'March' THEN 3\n",
    "        WHEN 'April' THEN 4\n",
    "        WHEN 'May' THEN 5\n",
    "        WHEN 'June' THEN 6\n",
    "        WHEN 'July' THEN 7\n",
    "        WHEN 'August' THEN 8\n",
    "        WHEN 'September' THEN 9\n",
    "        WHEN 'October' THEN 10\n",
    "        WHEN 'November' THEN 11\n",
    "        WHEN 'December' THEN 12\n",
    "        ELSE 99\n",
    "    END\n",
    "\"\"\")\n",
    "result = engine.execute(query)\n",
    "rows = result.fetchall()\n",
    "crime_dict = []\n",
    "for row in rows:\n",
    "    print(row)\n",
    "    crime_dict.append({\"Month\": row[2], \"Total Crimes\": row[0]})\n",
    "print(crime_dict)\n"
   ]
  },
  {
   "cell_type": "code",
   "execution_count": 21,
   "id": "0a39c3a3",
   "metadata": {},
   "outputs": [
    {
     "name": "stdout",
     "output_type": "stream",
     "text": [
      "(8, 2018, '1-10')\n",
      "(1115, 2018, '11-20')\n",
      "(5726, 2018, '21-30')\n",
      "(4274, 2018, '31-40')\n",
      "(2315, 2018, '41-50')\n",
      "(1158, 2018, '51-60')\n",
      "(311, 2018, '61-70')\n",
      "(83, 2018, '71+')\n",
      "[{'Month': '1-10', 'Total Crimes': 8}, {'Month': '11-20', 'Total Crimes': 1115}, {'Month': '21-30', 'Total Crimes': 5726}, {'Month': '31-40', 'Total Crimes': 4274}, {'Month': '41-50', 'Total Crimes': 2315}, {'Month': '51-60', 'Total Crimes': 1158}, {'Month': '61-70', 'Total Crimes': 311}, {'Month': '71+', 'Total Crimes': 83}]\n"
     ]
    }
   ],
   "source": [
    "# Data for overall victim by year and crime-dropped None values\n",
    "query_age = text(\"\"\"\n",
    "    SELECT count(crime), year, Victim_age \n",
    "    FROM la_crime\n",
    "    WHERE year = 2018 \n",
    "    AND crime = 'Domestic Violence'\n",
    "    AND crime IS NOT NULL\n",
    "    AND Victim_age IS NOT NULL\n",
    "    GROUP BY Victim_age\n",
    "\"\"\")\n",
    "result = engine.execute(query_age)\n",
    "rows = result.fetchall()\n",
    "crime_dict = []\n",
    "for row in rows:\n",
    "    print(row)\n",
    "    crime_dict.append({\"Month\": row[2], \"Total Crimes\": row[0]})\n",
    "print(crime_dict)\n"
   ]
  },
  {
   "cell_type": "code",
   "execution_count": 22,
   "id": "bd05de51",
   "metadata": {},
   "outputs": [
    {
     "name": "stdout",
     "output_type": "stream",
     "text": [
      "(8, 2018, '1-10')\n",
      "(1115, 2018, '11-20')\n",
      "(5726, 2018, '21-30')\n",
      "(4274, 2018, '31-40')\n",
      "(2315, 2018, '41-50')\n",
      "(1158, 2018, '51-60')\n",
      "(311, 2018, '61-70')\n",
      "(83, 2018, '71+')\n",
      "[{'Year': 2018, 'Victim Age': '1-10', 'Total Crimes': 8, '% of Total': 0.05}, {'Year': 2018, 'Victim Age': '11-20', 'Total Crimes': 1115, '% of Total': 7.44}, {'Year': 2018, 'Victim Age': '21-30', 'Total Crimes': 5726, '% of Total': 38.2}, {'Year': 2018, 'Victim Age': '31-40', 'Total Crimes': 4274, '% of Total': 28.51}, {'Year': 2018, 'Victim Age': '41-50', 'Total Crimes': 2315, '% of Total': 15.44}, {'Year': 2018, 'Victim Age': '51-60', 'Total Crimes': 1158, '% of Total': 7.73}, {'Year': 2018, 'Victim Age': '61-70', 'Total Crimes': 311, '% of Total': 2.07}, {'Year': 2018, 'Victim Age': '71+', 'Total Crimes': 83, '% of Total': 0.55}]\n"
     ]
    }
   ],
   "source": [
    "query_age = text(\"\"\"\n",
    "    SELECT count(crime), year, Victim_age \n",
    "    FROM la_crime\n",
    "    WHERE year = 2018 \n",
    "    AND crime = 'Domestic Violence'\n",
    "    AND crime IS NOT NULL\n",
    "    AND Victim_age IS NOT NULL\n",
    "    GROUP BY year, Victim_age\n",
    "\"\"\")\n",
    "result = engine.execute(query_age)\n",
    "rows = result.fetchall()\n",
    "crime_dict = []\n",
    "total_count = sum(row[0] for row in rows)\n",
    "for row in rows:\n",
    "    print(row)\n",
    "    crime_dict.append({\"Year\": row[1], \"Victim Age\": row[2], \"Total Crimes\": row[0], \"% of Total\": round(row[0]/total_count*100,2)})\n",
    "print(crime_dict)\n"
   ]
  },
  {
   "cell_type": "code",
   "execution_count": null,
   "id": "c793ee72",
   "metadata": {},
   "outputs": [],
   "source": [
    "from sqlalchemy import create_engine\n",
    "\n",
    "# Create engine and connect to database\n",
    "engine = create_engine(\"sqlite:///Resources/la_crime.db\")\n",
    "connection = engine.connect()\n",
    "\n",
    "# Query to fetch column names\n",
    "query_cols = \"PRAGMA table_info(la_crime)\"\n",
    "result_cols = connection.execute(query_cols)\n",
    "\n",
    "# Extract column names from result set\n",
    "cols = [row[1] for row in result_cols]\n",
    "\n",
    "# Print column names\n",
    "print(cols)\n",
    "\n",
    "# Close connection\n",
    "connection.close()\n"
   ]
  },
  {
   "cell_type": "code",
   "execution_count": null,
   "id": "da0e4fc4",
   "metadata": {},
   "outputs": [],
   "source": [
    "# 1-crime data by year\n",
    "query = text(\"\"\"\n",
    "    SELECT count('crime'), year, month_name \n",
    "    FROM la_crime\n",
    "    WHERE year = 2018 \n",
    "    AND crime = 'Assault'\n",
    "    GROUP BY month_name\n",
    "    ORDER BY CASE month_name\n",
    "        WHEN 'January' THEN 1\n",
    "        WHEN 'February' THEN 2\n",
    "        WHEN 'March' THEN 3\n",
    "        WHEN 'April' THEN 4\n",
    "        WHEN 'May' THEN 5\n",
    "        WHEN 'June' THEN 6\n",
    "        WHEN 'July' THEN 7\n",
    "        WHEN 'August' THEN 8\n",
    "        WHEN 'September' THEN 9\n",
    "        WHEN 'October' THEN 10\n",
    "        WHEN 'November' THEN 11\n",
    "        WHEN 'December' THEN 12\n",
    "        ELSE 99\n",
    "    END\n",
    "\"\"\")\n",
    "result = engine.execute(query)\n",
    "rows = result.fetchall()\n",
    "crime_dict = []\n",
    "for row in rows:\n",
    "    print(row)\n",
    "    crime_dict.append({\"Month\": row[2], \"Total Crimes\": row[0]})\n",
    "print(crime_dict)\n"
   ]
  },
  {
   "cell_type": "code",
   "execution_count": null,
   "id": "52f2c175",
   "metadata": {},
   "outputs": [],
   "source": [
    "# 2- Data for victim_ethnicity %\n",
    "query_age = text(\"\"\"\n",
    "  SELECT victim_ethnicity, count(*) AS total_count\n",
    "    FROM la_crime\n",
    "    WHERE year = 2018\n",
    "    AND crime = 'Burglary from Vehicle'\n",
    "    GROUP BY victim_ethnicity \n",
    "    \"\"\")\n",
    "result = engine.execute(query_age)\n",
    "rows = result.fetchall()\n",
    "race_dict = []\n",
    "total_count = 0\n",
    "for row in rows:\n",
    "    print(row)\n",
    "    race_dict.append({\"Ethnicity\": row[0], \"Count\": row[1]})\n",
    "    total_count += row[1]\n",
    "print(race_dict, total_count)\n",
    "for d in race_dict:\n",
    "    d[\"Total People\"] = total_count\n",
    "    d[\"Ethnicity %\"] = round((d[\"Count\"]/d[\"Total People\"]) * 100)\n",
    "print(race_dict)\n",
    "\n",
    "\n",
    "\n",
    "\n",
    "\n"
   ]
  },
  {
   "cell_type": "code",
   "execution_count": null,
   "id": "790a0524",
   "metadata": {},
   "outputs": [],
   "source": [
    "# 3- Crme by gender%\n",
    "query_gender = text(\"\"\"\n",
    "    SELECT count(crime), crime, victim_gender \n",
    "    FROM la_crime\n",
    "    WHERE year = 2018 \n",
    "    AND crime = \"Trespassing\"\n",
    "    AND crime IS NOT NULL\n",
    "    AND victim_gender IS NOT NULL\n",
    "    GROUP BY crime, victim_gender\n",
    "\"\"\")\n",
    "result = engine.execute(query_gender)\n",
    "rows = result.fetchall()\n",
    "\n",
    "gender_dict = []\n",
    "for crime in set([row[1] for row in rows]):\n",
    "    crime_count = sum([row[0] for row in rows if row[1] == crime])\n",
    "    for gender in set([row[2] for row in rows if row[1] == crime]):\n",
    "        gender_count = sum([row[0] for row in rows if row[1] == crime and row[2] == gender])\n",
    "        gender_dict.append({\n",
    "            #\"Crime Type\": crime,\n",
    "            \"Victim Gender\": gender,\n",
    "            \"Total Crimes\": gender_count,\n",
    "            \"% of Total\": round((gender_count/crime_count)*100, 2)\n",
    "        })\n",
    "\n",
    "print(gender_dict)\n",
    "\n",
    "\n"
   ]
  },
  {
   "cell_type": "code",
   "execution_count": 31,
   "id": "23448fdc",
   "metadata": {},
   "outputs": [
    {
     "name": "stdout",
     "output_type": "stream",
     "text": [
      "[{'Crime Type': 'Assault', 'Victim Gender': 'Female', 'Total Crimes': 12058}, {'Crime Type': 'Assault', 'Victim Gender': 'Male', 'Total Crimes': 17183}, {'Crime Type': 'Bike Theft', 'Victim Gender': 'Female', 'Total Crimes': 661}, {'Crime Type': 'Bike Theft', 'Victim Gender': 'Male', 'Total Crimes': 1606}, {'Crime Type': 'Brandish Weapon', 'Victim Gender': 'Female', 'Total Crimes': 1019}, {'Crime Type': 'Brandish Weapon', 'Victim Gender': 'Male', 'Total Crimes': 1677}, {'Crime Type': 'Burglary from Vehicle', 'Victim Gender': 'Female', 'Total Crimes': 12224}, {'Crime Type': 'Burglary from Vehicle', 'Victim Gender': 'Male', 'Total Crimes': 15851}, {'Crime Type': 'Child Maltreatment', 'Victim Gender': 'Female', 'Total Crimes': 1252}, {'Crime Type': 'Child Maltreatment', 'Victim Gender': 'Male', 'Total Crimes': 790}, {'Crime Type': 'Criminal threat', 'Victim Gender': 'Female', 'Total Crimes': 2587}, {'Crime Type': 'Criminal threat', 'Victim Gender': 'Male', 'Total Crimes': 2281}, {'Crime Type': 'Domestic Violence', 'Victim Gender': 'Female', 'Total Crimes': 11585}, {'Crime Type': 'Domestic Violence', 'Victim Gender': 'Male', 'Total Crimes': 3434}, {'Crime Type': 'Extortion', 'Victim Gender': 'Female', 'Total Crimes': 118}, {'Crime Type': 'Extortion', 'Victim Gender': 'Male', 'Total Crimes': 296}, {'Crime Type': 'Forgery', 'Victim Gender': 'Female', 'Total Crimes': 558}, {'Crime Type': 'Forgery', 'Victim Gender': 'Male', 'Total Crimes': 675}, {'Crime Type': 'Identity Theft', 'Victim Gender': 'Female', 'Total Crimes': 5210}, {'Crime Type': 'Identity Theft', 'Victim Gender': 'Male', 'Total Crimes': 5250}, {'Crime Type': 'Sexual Assualt or Rape', 'Victim Gender': 'Female', 'Total Crimes': 3277}, {'Crime Type': 'Sexual Assualt or Rape', 'Victim Gender': 'Male', 'Total Crimes': 359}, {'Crime Type': 'Theft, Robbery, or Burglary', 'Victim Gender': 'Female', 'Total Crimes': 19979}, {'Crime Type': 'Theft, Robbery, or Burglary', 'Victim Gender': 'Male', 'Total Crimes': 25087}, {'Crime Type': 'Trespassing', 'Victim Gender': 'Female', 'Total Crimes': 904}, {'Crime Type': 'Trespassing', 'Victim Gender': 'Male', 'Total Crimes': 1112}, {'Crime Type': 'Vandalism', 'Victim Gender': 'Female', 'Total Crimes': 8375}, {'Crime Type': 'Vandalism', 'Victim Gender': 'Male', 'Total Crimes': 8981}, {'Crime Type': 'Vehicle Theft', 'Victim Gender': 'Female', 'Total Crimes': 123}, {'Crime Type': 'Vehicle Theft', 'Victim Gender': 'Male', 'Total Crimes': 242}, {'Crime Type': 'Violation of Reatraining Order', 'Victim Gender': 'Female', 'Total Crimes': 1897}, {'Crime Type': 'Violation of Reatraining Order', 'Victim Gender': 'Male', 'Total Crimes': 511}]\n"
     ]
    }
   ],
   "source": [
    "#-4 Crime cout by gender and crime tpe\n",
    "crime_gender = text(\"\"\"\n",
    "    SELECT count(crime), crime, victim_gender \n",
    "    FROM la_crime\n",
    "    WHERE year = \"year\"\n",
    "    AND crime IS NOT NULL\n",
    "    AND victim_gender IS NOT NULL\n",
    "    GROUP BY crime, victim_gender\n",
    "\"\"\")\n",
    "result = engine.execute(query_gender)\n",
    "rows = result.fetchall()\n",
    "\n",
    "crim_gender_dict = []\n",
    "for row in rows:\n",
    "    crim_gender_dict.append({\n",
    "        \"Crime Type\": row[1],\n",
    "        \"Victim Gender\": row[2],\n",
    "        \"Total Crimes\": row[0]\n",
    "    })\n",
    "\n",
    "print(crim_gender_dict)\n",
    "\n",
    "\n",
    "\n"
   ]
  },
  {
   "cell_type": "code",
   "execution_count": null,
   "id": "811d8687",
   "metadata": {},
   "outputs": [],
   "source": [
    "#crime by ethnicity\n",
    "query_ethnicity = text(\"\"\"\n",
    "    SELECT count(crime), crime, victim_ethnicity \n",
    "    FROM la_crime\n",
    "    WHERE year = 2018 \n",
    "    AND crime IS NOT NULL\n",
    "    AND victim_ethnicity IS NOT NULL\n",
    "    GROUP BY crime, victim_ethnicity\n",
    "\"\"\")\n",
    "result = engine.execute(query_ethnicity)\n",
    "rows = result.fetchall()\n",
    "crime_dict = []\n",
    "for crime in set([row[1] for row in rows]):\n",
    "    crime_rows = [row for row in rows if row[1] == crime]\n",
    "    crime_dict_entry = {\"Crime Type\": crime, \"Victim Ethnicity\": []}\n",
    "    total_count = sum(row[0] for row in crime_rows)\n",
    "    for row in crime_rows:\n",
    "        crime_dict_entry[\"Victim Ethnicity\"].append({\"Ethnicity\": row[2], \"Total Crimes\": row[0], \"% of Total\": round(row[0]/total_count*100,2)})\n",
    "    crime_dict.append(crime_dict_entry)\n",
    "print(crime_dict)\n",
    "\n",
    "\n"
   ]
  },
  {
   "cell_type": "code",
   "execution_count": null,
   "id": "d56bf7e8",
   "metadata": {},
   "outputs": [],
   "source": [
    "query_ethnicity = text(\"\"\"\n",
    "    SELECT count(crime), crime, victim_ethnicity \n",
    "    FROM la_crime\n",
    "    WHERE year = 2018 \n",
    "    AND crime IS NOT NULL\n",
    "    AND victim_ethnicity IS NOT NULL\n",
    "    GROUP BY crime, victim_ethnicity\n",
    "\"\"\")\n",
    "result = engine.execute(query_ethnicity)\n",
    "rows = result.fetchall()\n",
    "crime_dict = []\n",
    "total_count = sum(row[0] for row in rows)\n",
    "for row in rows:\n",
    "    print(row)\n",
    "    crime_dict.append({\"Crime Type\": row[1], \"Victim Ethnicity\": row[2], \"Total Crimes\": row[0], \"% of Total\": round(row[0]/total_count*100,2)})\n",
    "print(crime_dict)\n"
   ]
  },
  {
   "cell_type": "code",
   "execution_count": null,
   "id": "6baff1ab",
   "metadata": {},
   "outputs": [],
   "source": [
    "query_location = text(\"\"\"\n",
    "    SELECT lat, lon, area_name, crime, premise, count(crime) as total_crimes \n",
    "    FROM la_crime \n",
    "    WHERE year = 2018 \n",
    "    AND crime IS NOT NULL \n",
    "    AND lat IS NOT NULL \n",
    "    AND lon IS NOT NULL \n",
    "    AND area_name IS NOT NULL \n",
    "    AND premise IS NOT NULL \n",
    "    GROUP BY lat, lon, area_name, crime, premise \n",
    "\"\"\")\n",
    "result = engine.execute(query_location)\n",
    "rows = result.fetchall()\n",
    "crime_dict = []\n",
    "for row in rows:\n",
    "    crime_dict.append({\n",
    "        \"Latitude\": row[0],\n",
    "        \"Longitude\": row[1],\n",
    "        \"Area Name\": row[2],\n",
    "        \"Crime Type\": row[3],\n",
    "        \"Premise\": row[4],\n",
    "        \"Total Crimes\": row[5]\n",
    "    })\n",
    "print(crime_dict)"
   ]
  },
  {
   "cell_type": "code",
   "execution_count": null,
   "id": "a376aee7",
   "metadata": {},
   "outputs": [],
   "source": [
    "query_location = text(\"\"\"\n",
    "    SELECT lat, lon, area_name, crime, premise \n",
    "    FROM la_crime\n",
    "    WHERE year = 2018 \n",
    "    AND crime IS NOT NULL\n",
    "    AND lat IS NOT NULL\n",
    "    AND lon IS NOT NULL\n",
    "    AND area_name IS NOT NULL\n",
    "    AND premise IS NOT NULL\n",
    "    LIMIT 10\n",
    "\"\"\")\n",
    "result = engine.execute(query_location)\n",
    "rows = result.fetchall()\n",
    "crime_dict = []\n",
    "for row in rows:\n",
    "    print(row)\n",
    "    crime_dict.append({\"Latitude\": row[0], \"Longitude\": row[1], \"Area Name\": row[2], \"Crime Type\": row[3], \"Premise\": row[4]})\n",
    "print(crime_dict)\n"
   ]
  },
  {
   "cell_type": "code",
   "execution_count": null,
   "id": "154118b5",
   "metadata": {},
   "outputs": [],
   "source": [
    "#query to show crime by year, geoloc, area, premis and crime typ\n",
    "query_location = text(\"\"\"\n",
    "    SELECT count(crime), lat, lon, area_name, crime, premise, year\n",
    "    FROM la_crime\n",
    "    WHERE year = year \n",
    "    AND crime IS NOT NULL\n",
    "    AND lat IS NOT NULL\n",
    "    AND lon IS NOT NULL\n",
    "    AND area_name IS NOT NULL\n",
    "    AND premise IS NOT NULL\n",
    "    GROUP BY lat, lon, area_name, crime, premise\n",
    "    LIMIT 200\n",
    "\"\"\")\n",
    "result = engine.execute(query_location)\n",
    "rows = result.fetchall()\n",
    "crime_dict = []\n",
    "for row in rows:\n",
    "    crime_dict.append({\"Year\": row[6], \"Crime Type\": row[4], \"Premise\": row[5], \"Area Name\": row[3], \"Latitude\": row[1], \"Longitude\": row[2], \"Total Crimes\": row[0]})\n",
    "print(crime_dict)\n"
   ]
  },
  {
   "cell_type": "code",
   "execution_count": null,
   "id": "35e807c8",
   "metadata": {},
   "outputs": [],
   "source": [
    "#query to show crime by year, geoloc, area, premis and crime typ\n",
    "query_location = text(\"\"\"\n",
    "    SELECT count(crime), lat, lon, area_name, crime, premise, year\n",
    "    FROM la_crime\n",
    "    WHERE year = 2018\n",
    "    AND crime = \"Assault\"\n",
    "    AND crime IS NOT NULL\n",
    "    AND lat IS NOT NULL\n",
    "    AND lon IS NOT NULL\n",
    "    AND area_name IS NOT NULL\n",
    "    AND premise IS NOT NULL\n",
    "    GROUP BY lat, lon, area_name, crime, premise\n",
    "    LIMIT 200\n",
    "\"\"\")\n",
    "result = engine.execute(query_location)\n",
    "rows = result.fetchall()\n",
    "crime_dict = []\n",
    "for row in rows:\n",
    "    crime_dict.append({\"Year\": row[6], \"Crime Type\": row[4], \"Premise\": row[5], \"Area Name\": row[3], \"Latitude\": row[1], \"Longitude\": row[2], \"Total Crimes\": row[0]})\n",
    "print(crime_dict)"
   ]
  },
  {
   "cell_type": "code",
   "execution_count": null,
   "id": "cd0e509f",
   "metadata": {},
   "outputs": [],
   "source": [
    "# Define the la_crime class , which will have a one-to-one relationship with the Area, premise and crime type tables\n",
    "class CrimeJoined(Base):\n",
    "    __tablename__ = 'la_crime'\n",
    "    id = Column(Integer, primary_key=True, autoincrement=True)\n",
    "    incident_id = Column(Integer)\n",
    "    year = Column(Integer)\n",
    "    month = Column(Integer)\n",
    "    month_name = Column(String)\n",
    "    victim_age = Column(String)\n",
    "    victim_ethnicity = Column(String)\n",
    "    victim_gender = Column(String)\n",
    "    lat = Column(Float)\n",
    "    lon = Column(Float)\n",
    "    area_code = Column(Integer)\n",
    "    crime_code = Column(Integer)\n",
    "    premise_code = Column(Integer)\n",
    "    area_name = Column(String, nullable=False)\n",
    "    crime = Column(String, nullable=False)\n",
    "    premise = Column(String, nullable=False)"
   ]
  }
 ],
 "metadata": {
  "kernelspec": {
   "display_name": "PythonData",
   "language": "python",
   "name": "pythondata"
  },
  "language_info": {
   "codemirror_mode": {
    "name": "ipython",
    "version": 3
   },
   "file_extension": ".py",
   "mimetype": "text/x-python",
   "name": "python",
   "nbconvert_exporter": "python",
   "pygments_lexer": "ipython3",
   "version": "3.7.7"
  }
 },
 "nbformat": 4,
 "nbformat_minor": 5
}
